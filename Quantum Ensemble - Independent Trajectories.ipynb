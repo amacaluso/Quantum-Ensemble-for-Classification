{
 "cells": [
  {
   "cell_type": "markdown",
   "metadata": {},
   "source": [
    "# Quantum Ensemble as Simple Averaging (Section 4.3)"
   ]
  },
  {
   "cell_type": "markdown",
   "metadata": {},
   "source": [
    "### Fixed $U_{(i,j)}$ for independent  quantum trajectories"
   ]
  },
  {
   "cell_type": "markdown",
   "metadata": {},
   "source": [
    "This notebook describes the quantum circuit to obtain $4$ independent quantum trajectories in superposition considering a Quantum Ensemble of cosine classifier (Section 4.1)."
   ]
  },
  {
   "cell_type": "code",
   "execution_count": null,
   "metadata": {
    "scrolled": true
   },
   "outputs": [],
   "source": [
    "# Import pakages and functions\n",
    "import sys\n",
    "from Utils import *\n",
    "from modeling import *"
   ]
  },
  {
   "cell_type": "markdown",
   "metadata": {},
   "source": [
    "### (Step 1) State Preparation"
   ]
  },
  {
   "cell_type": "markdown",
   "metadata": {},
   "source": [
    "For a 2-qubits $control$ register $(d=2)$, we can build an ensemble of $B=2^2$ classifiers. The $data$ register leverages the *qubit encoding strategy* where a single observation is encoded in a single qubit. In particular, given a dataset made up of $N$ observations $(x_i, y_i)_{i=1, \\dots, N}$, where $x_i =(x_{i,1}, x_{i,2})$ is a $2$-dimensional vector and $y_i \\in \\{0,1\\}$ is the binary target variable, the quantum register that encodes the whole dataset comprises two sets of qubits:\n",
    "$$\n",
    "\\begin{align}\n",
    "    \\text{data register: } \\underset{features}{\\big( \\overset{4}{\\underset{i=1}{\\otimes}} \\left| x_i \\right\\rangle \\big)}\\otimes  \\underset{ labels}{\\big( \\overset{4}{\\underset{i=1}{\\otimes}} \\left| y_i \\right\\rangle \\big)}\n",
    "\\end{align}\n",
    "$$\n",
    "where the values $x_{i,1}$ and $x_{i,2}$ are stored into the amplitudes of a single qubit: \n",
    "$$\n",
    "\\begin{align}\n",
    "    \\left| x_i \\right\\rangle = x_{i,1}\\left| 0 \\right\\rangle +  x_{i,2}\\left| 1 \\right\\rangle\n",
    "\\end{align}\n",
    "$$\n",
    "and the two class of the target variable are represented by the two basis state of a single qubit, so if $\\left| y_i \\right\\rangle=\\left| 0 \\right\\rangle$ the $i$-th observation belongs to the class $0$. Otherwise if $\\left| y_i \\right\\rangle=\\left| 1 \\right\\rangle$ the $i$-th observation belongs to the class $1$. \n",
    "\n",
    "*Qubit encoding strategy* allows to store a training set of $4$ observations using a $8$-qubits $data$ register. Furthermore, in order to obtain different observation in superposition, entangled with the $control$ register it is possible to apply swap operations to move observation from one register to the other. In formulas, state preparation step leads to:"
   ]
  },
  {
   "cell_type": "markdown",
   "metadata": {},
   "source": [
    "$$\n",
    "\\begin{align*}\n",
    "    \\left|\\Phi_1\\right\\rangle = &  \\big( H^{\\otimes 2} \\otimes S_{(x,y)} \\big)\\left|0\\right\\rangle \\otimes \\left|0\\right\\rangle \\otimes \\left|0\\right\\rangle \\nonumber \\\\ \n",
    "        = &\n",
    "   \\left|c_1\\right\\rangle \\otimes \\left|c_2\\right\\rangle \\otimes \\left|x\\right\\rangle \\left|y\\right\\rangle \\nonumber\\\\\n",
    "    = & \n",
    "    \\frac{1}{\\sqrt{2}}\\big(\\left|0\\right\\rangle+\\left|1\\right\\rangle\\big) \\otimes \\frac{1}{\\sqrt{2}}\\big(\\left|0\\right\\rangle+\\left|1\\right\\rangle\\big) \\otimes \\left|x_0,x_1,x_2,x_3\\right\\rangle \\left|y_0,y_1,y_2,y_3\\right\\rangle \\end{align*}\n",
    "$$"
   ]
  },
  {
   "cell_type": "markdown",
   "metadata": {},
   "source": [
    "where $S_x$ is the routine which encodes in the amplitudes of a qubit a real vector $x$ and $H$ is the Hadamard transformation."
   ]
  },
  {
   "cell_type": "markdown",
   "metadata": {},
   "source": [
    "### (Step 2) Sampling in Superposition\n",
    "\n",
    "The second step regards the generation of $2^d$ different transformations of the training set in superposition, each entangled with a state of the control register. To this end, $d$ steps are necessary, where each step consists in the entanglement of the $i$-th control qubit with two transformations of $\\left|x,y\\right\\rangle$ based on two random unitaries, $U(i,1)$ and $U(i,2)$, for $i = 1,2$.\n",
    "\n",
    "As shown in the **Appendix A**, *Sampling in Superposition* step leads to the following quantum state:\n",
    "$$\n",
    "\\begin{align}\n",
    "\\ket{\\Phi_{3}}\n",
    "=  \\frac{1}{2}\\Big[\n",
    " \\hspace{.2em} &\\left|00\\right\\rangle U_{(2,1)}U_{(1,1)}\\left|x_0,x_1,x_2,x_3 \\right\\rangle \\left| y_0,y_1,y_2,y_3\\right\\rangle    \n",
    "\\nonumber \\\\ + & \n",
    "\\left|01\\right\\rangle U_{(2,1)}U_{(1,2)}\\left|x_0,x_1,x_2,x_3\\right\\rangle \\left|y_0,y_1,y_2,y_3\\right\\rangle\n",
    "\\nonumber \\\\ + & \n",
    "\\left|10\\right\\rangle U_{(2,2)}U_{(1,1)}\\left|x_0,x_1,x_2,x_3\\right\\rangle \\left|y_0,y_1,y_2,y_3\\right\\rangle\n",
    "\\nonumber \\\\ + & \n",
    "\\left|11\\right\\rangle U_{(2,2)}U_{(1,2)}\\left|x_0,x_1,x_2,x_3\\right\\rangle \\left| y_0,y_1,y_2,y_3\\right\\rangle \n",
    "         \\Big]  \n",
    "     %\\nonumber \\\\\n",
    " %& \\hspace{-2.75em} = \\frac{1}{\\sqrt{4}} \\sum_{b=1}^{4} \\ket{b} V_b\\ket{x_0,x_1,x_2,x_3; y_0,y_1,y_2,y_3}\n",
    "\\end{align}\n",
    "$$"
   ]
  },
  {
   "cell_type": "markdown",
   "metadata": {},
   "source": [
    "In order to obtain independend quantum trajectories we provide the following definition for $U_{(i,j)}$:\n",
    "$$U_{(1,1)} = \\text{swap}(x_0,x_2) \\times \\text{swap}(y_0,y_2)$$\n",
    "$$U_{(1,2)} = \\text{swap}(x_1,x_3) \\times \\text{swap}(y_1,y_3)$$\n",
    "$$U_{(2,1)} = \\mathbf{I} $$\n",
    "$$U_{(2,2)} = \\text{swap}(x_2,x_3) \\times \\text{swap}(y_2,y_3)$$\n",
    "\n",
    "where $ \\mathbf{I}$ is the identity matrix. Thus, the step of *Sampling in Superposition* leads to:"
   ]
  },
  {
   "cell_type": "markdown",
   "metadata": {},
   "source": [
    "\\begin{align*}\n",
    "    \\left|\\Phi_{3}\\right\\rangle = \\frac{1}{2}\\Big[ \n",
    "    & \\left|11\\right\\rangle \\left|x_0, x_3, x_1, x_2\\right\\rangle  \\left|y_0, y_3, y_1, y_2\\right\\rangle  \n",
    "    \\\\ + &\n",
    "    \\left|11\\right\\rangle \\left|x_2, x_1, x_3, x_0\\right\\rangle  \\left|y_2, y_1, y_3, y_0\\right\\rangle+ \\nonumber\\\\ \n",
    "    \\hspace{.1em} \n",
    "    + &\n",
    "    \\left|01\\right\\rangle \\left|x_0, x_3, x_2, x_1\\right\\rangle \\left|y_0, y_3, y_2, y_1\\right\\rangle \\\\\n",
    "    + &\n",
    "    \\left|00\\right\\rangle \\left|x_2, x_1, x_0, x_3\\right\\rangle \\left|y_2, y_1, y_0, y_3\\right\\rangle\n",
    "    \\Big]\n",
    "\\end{align*}"
   ]
  },
  {
   "cell_type": "markdown",
   "metadata": {},
   "source": [
    "We can see that swap operations allows to entangle a different dataset (in terms of the indices of the qubits) to different state of the $control$ register. In particular, if considering the last qubit of the *features* and *labels* registers, this choice for $U_{(i,j)}$ guarantees that each quantum state of the control register is entangled with a different training observation. Using a compact representation:"
   ]
  },
  {
   "cell_type": "markdown",
   "metadata": {},
   "source": [
    "\\begin{align}\n",
    "    \\ket{\\Phi_{3^{'}}} = & \\frac{1}{2}\\Big[ \n",
    "    \\left|11\\right\\rangle \\left|x_2\\right\\rangle  \\left|y_2\\right\\rangle  \n",
    "    + \n",
    "    \\left|10\\right\\rangle\\left|x_0\\right\\rangle\\left|y_0\\right\\rangle \n",
    "    +\n",
    "    \\left|01\\right\\rangle\\left|x_1\\right\\rangle\\left|y_1\\right\\rangle \n",
    "    +\n",
    "    \\left|00\\right\\rangle\\left|x_3\\right\\rangle \\left|y_3\\right\\rangle \n",
    "    \\Big] =\n",
    "    \\frac{1}{2}\\sum_{i=0}^{3}\\left|i\\right\\rangle\\left|x_i,y_i\\right\\rangle\n",
    "\\end{align}"
   ]
  },
  {
   "cell_type": "markdown",
   "metadata": {},
   "source": [
    "Notice that, in this case the $i$-th basis state does not correspond to the integer representation of the binary state. "
   ]
  },
  {
   "cell_type": "markdown",
   "metadata": {},
   "source": [
    "### (Step 3) Learning via interference"
   ]
  },
  {
   "cell_type": "markdown",
   "metadata": {},
   "source": [
    "First, the $test$ register is initialised to encode the test set, $\\tilde{x}$, considering also an additional register to store the final prediction:\n"
   ]
  },
  {
   "cell_type": "markdown",
   "metadata": {},
   "source": [
    "\\begin{align}\n",
    "    (S_{\\tilde{x}} \\otimes \\mathbb{1}) \\ket{0}\\ket{0} =\\ket{\\tilde{x}}\\ket{0}.\n",
    "\\end{align}"
   ]
  },
  {
   "cell_type": "markdown",
   "metadata": {},
   "source": [
    "Then, the $data$ and $test$ registers interact via interference using the quantum version of the cosine classifier (gate $F$) to compute the estimates of the target variable:"
   ]
  },
  {
   "cell_type": "markdown",
   "metadata": {},
   "source": [
    "\\begin{align}\n",
    "    \\ket{\\Phi_{f}} \n",
    "                & = \\Big(\\mathbb{1}^{\\otimes 2} \\otimes F \\Big) \\ket{\\Phi_d} \\nonumber \\\\ = & (\\mathbb{1}^{\\otimes d} \\otimes F )\\Bigg[\\frac{1}{\\sqrt{2^d}}\\sum_{b=1}^{2^d} \\ket{b} \\ket{x_b, y_b}\\Bigg] \\otimes \\ket{\\tilde{x}} \\ket{0}  \\nonumber \\\\ = & \\frac{1}{\\sqrt{2^d}}\\sum_{b=1}^{2^d} \\ket{b} \\ket{x_b, y_b} \\ket{\\tilde{x}}\\ket{\\hat{f_b}} \n",
    "    %CV_{t}\\ket{\\psi} = CV_{t}\\ket{x, y}\\ket{0} \\ket{\\Tilde{x}, 0} = C \\ket{x, y}\\ket{x_t, x_y} \\ket{\\Tilde{x}, 0} = \\ket{x, y}\\ket{x_t, x_t} \\ket{\\Tilde{x}, \\tilde{y}} %= \\ket{x, y, D_t, \\Tilde{x}, f(\\Tilde{x}|x_t,y_t)} \n",
    "\\end{align}"
   ]
  },
  {
   "cell_type": "markdown",
   "metadata": {},
   "source": [
    "where $\\hat{f_b}$ represents the $b$-th prediction for $\\tilde{x}$ given the  $b$-th training set. "
   ]
  },
  {
   "cell_type": "code",
   "execution_count": null,
   "metadata": {},
   "outputs": [],
   "source": []
  },
  {
   "cell_type": "code",
   "execution_count": null,
   "metadata": {},
   "outputs": [],
   "source": []
  },
  {
   "cell_type": "code",
   "execution_count": null,
   "metadata": {},
   "outputs": [],
   "source": []
  },
  {
   "cell_type": "code",
   "execution_count": null,
   "metadata": {},
   "outputs": [],
   "source": []
  },
  {
   "cell_type": "code",
   "execution_count": null,
   "metadata": {},
   "outputs": [],
   "source": []
  },
  {
   "cell_type": "code",
   "execution_count": null,
   "metadata": {},
   "outputs": [],
   "source": []
  },
  {
   "cell_type": "markdown",
   "metadata": {},
   "source": [
    "\\begin{align}\n",
    "    \\ket{\\Phi_{f}} \n",
    "                & = \\Big(\\mathbb{1}^{\\otimes 2} \\otimes F \\Big)  \\left|\\Phi_d\\right\\rangle \n",
    "                  = (\\mathbb{1}^{\\otimes 2} \\otimes F )\\Big[\\frac{1}{\\sqrt{2^d}}\\sum_{i=1}^{2^d} \\left|i\\right\\rangle  \\left|x_i\\right\\rangle  \\left|y_i\\right\\rangle  \\left|\\tilde{x}\\right\\rangle  \\left|0\\right\\rangle\\Big] \n",
    "                  = \\frac{1}{\\sqrt{2^2}}\\sum_{i=0}^{2^2-1} \\left|i\\right\\rangle \\left|x_i, y_i\\right\\rangle \\left|\\tilde{x}\\right\\rangle \\left|f_i\\right\\rangle  \n",
    "  \\end{align}"
   ]
  },
  {
   "cell_type": "markdown",
   "metadata": {},
   "source": []
  },
  {
   "cell_type": "markdown",
   "metadata": {},
   "source": []
  },
  {
   "cell_type": "markdown",
   "metadata": {},
   "source": []
  },
  {
   "cell_type": "markdown",
   "metadata": {},
   "source": [
    "## Implementation"
   ]
  },
  {
   "cell_type": "code",
   "execution_count": 2,
   "metadata": {},
   "outputs": [
    {
     "data": {
      "text/plain": [
       "<qiskit.circuit.instructionset.InstructionSet at 0x2483afe67b8>"
      ]
     },
     "execution_count": 2,
     "metadata": {},
     "output_type": "execute_result"
    }
   ],
   "source": [
    "d = 2\n",
    "n_obs = 4\n",
    "control = QuantumRegister(d, 'd')\n",
    "data = QuantumRegister(n_obs, 'x')\n",
    "labels = QuantumRegister(n_obs, 'y')\n",
    "data_test = QuantumRegister(1, 'x^{test}')\n",
    "label_test = QuantumRegister(1, 'y^{test}')\n",
    "c = ClassicalRegister(1, 'c')\n",
    "\n",
    "qc = QuantumCircuit(control, data, labels, data_test, label_test, c)\n",
    "\n",
    "\n",
    "S = Gate(name='   S   ', num_qubits=8, params=[])\n",
    "qc.append(S, [data[0], data[1], data[2], data[3],\n",
    "              labels[0], labels[1], labels[2], labels[3]])\n",
    "\n",
    "\n",
    "# for i in range(d):\n",
    "#     qc.h(control[i])\n",
    "\n",
    "W = Gate(name='   W   ', num_qubits=2, params=[])\n",
    "qc.append(W, [control[0], control[1]])\n",
    "\n",
    "\n",
    "U1 = [0, 2]\n",
    "U2 = [1, 3]  \n",
    "U4 = [2,3]  \n",
    "\n",
    "qc.barrier()\n",
    "\n",
    "# U1\n",
    "qc.cswap(control[0], data[int(U1[0])], data[int(U1[1])])\n",
    "qc.cswap(control[0], labels[int(U1[0])], labels[int(U1[1])])\n",
    "\n",
    "qc.x(control[0])\n",
    "\n",
    "# U2\n",
    "qc.cswap(control[0], data[int(U2[0])], data[int(U2[1])])\n",
    "qc.cswap(control[0], labels[int(U2[0])], labels[int(U2[1])])\n",
    "\n",
    "qc.barrier()\n",
    "\n",
    "# U3\n",
    "\n",
    "qc.x(control[1])\n",
    "\n",
    "# U4\n",
    "qc.cswap(control[1], data[int(U4[0])], data[int(U4[1])])\n",
    "qc.cswap(control[1], labels[int(U4[0])], labels[int(U4[1])])\n",
    "\n",
    "qc.barrier()\n",
    "#qc.initialize(x_test, [data_test[0]])\n",
    "S_test = Gate(name='$S_{(test)}$', num_qubits=2, params=[])\n",
    "qc.append(S_test, [data_test, label_test])\n",
    "\n",
    "qc.barrier()\n",
    "\n",
    "# F\n",
    "ix_cls = 3\n",
    "\n",
    "\n",
    "qc.h(label_test[0])\n",
    "qc.cswap(label_test[0], data[ix_cls], data_test[0])\n",
    "qc.h(label_test[0])\n",
    "qc.cx(labels[ix_cls], label_test[0])\n",
    "qc.measure(label_test[0], c)"
   ]
  },
  {
   "cell_type": "code",
   "execution_count": 3,
   "metadata": {},
   "outputs": [
    {
     "data": {
      "image/png": "[encoded data removed]",
      "text/plain": [
       "<Figure size 2319.62x1063.75 with 1 Axes>"
      ]
     },
     "execution_count": 3,
     "metadata": {},
     "output_type": "execute_result"
    }
   ],
   "source": [
    "qc.draw(output='mpl', scale=.6, filename='output/ensemble_circuit.png', style={'fontsize':20, 'dpi':300}, vertical_compression='high')"
   ]
  },
  {
   "cell_type": "markdown",
   "metadata": {},
   "source": [
    "## Experiments"
   ]
  },
  {
   "cell_type": "code",
   "execution_count": 4,
   "metadata": {},
   "outputs": [
    {
     "name": "stdout",
     "output_type": "stream",
     "text": [
      "seed: 543\n"
     ]
    }
   ],
   "source": [
    "seed = 543\n",
    "print('seed:', seed)\n",
    "\n",
    "n_shots = 8192\n",
    "N_runs = 20\n",
    "y_labels =[[0,1], [1,0]]"
   ]
  },
  {
   "cell_type": "code",
   "execution_count": 5,
   "metadata": {},
   "outputs": [],
   "source": [
    "p1_avg = []\n",
    "p1_ens = []\n",
    "\n",
    "np.random.seed(seed)\n",
    "for run in np.arange(N_runs):\n",
    "    # print(run)\n",
    "    x1 = [np.random.randint(1, 9), np.random.randint(1, 9)]\n",
    "    x2 = [np.random.randint(1, 9), np.random.randint(1, 9)]\n",
    "    x3 = [np.random.randint(1, 9), np.random.randint(1, 9)]\n",
    "    x4 = [np.random.randint(1, 9), np.random.randint(1, 9)]\n",
    "    \n",
    "    y1 = y_labels[np.random.randint(0, 2)]\n",
    "    y2 = y_labels[np.random.randint(0, 2)]\n",
    "    y3 = y_labels[np.random.randint(0, 2)]\n",
    "    y4 = y_labels[np.random.randint(0, 2)]\n",
    "    \n",
    "    Y_data = [y1, y2, y3, y4]  \n",
    "    X_data = [x1, x2, x3, x4]\n",
    "    \n",
    "    x_test = [np.random.randint(1, 9), np.random.randint(1, 9)]\n",
    "\n",
    "    X_data, Y_data, x_test = load_data_custom(X_data, Y_data, x_test = x_test)\n",
    "\n",
    "    qc1 = cos_classifier(X_data[0], x_test, Y_data[0] )\n",
    "    r1 = exec_simulator(qc1)\n",
    "    r1 = retrieve_proba(r1)\n",
    "\n",
    "    qc2 = cos_classifier(X_data[1], x_test, Y_data[1])\n",
    "    r2 = exec_simulator(qc2)\n",
    "    r2 = retrieve_proba(r2)\n",
    "\n",
    "    qc3 = cos_classifier(X_data[2], x_test, Y_data[2])\n",
    "    r3 = exec_simulator(qc3)\n",
    "    r3 = retrieve_proba(r3)\n",
    "\n",
    "    qc4 = cos_classifier(X_data[3], x_test, Y_data[3])\n",
    "    r4 = exec_simulator(qc4)\n",
    "    r4 = retrieve_proba(r4)\n",
    "     \n",
    "    out = [r1, r2, r3, r4]\n",
    "\n",
    "    p0 = [p[0] for p in out]\n",
    "    p1 = [p[1] for p in out]\n",
    "    \n",
    "    r_avg = [np.mean(p0), np.mean(p1)]\n",
    "    # print('AVG:', r_avg)\n",
    "\n",
    "    \n",
    "    qc = ensemble_fixed_U(X_data, Y_data, x_test)\n",
    "    qc = transpile(qc, basis_gates = ['u1', 'u2', 'u3', 'cx'], optimization_level=3)\n",
    "\n",
    "    r = exec_simulator(qc, n_shots=n_shots)\n",
    "    r_ens = retrieve_proba(r)\n",
    "    # print('Ensemble', r_ens)\n",
    "\n",
    "    out = [r1, r2, r3, r4, r_avg, r_ens]\n",
    "    \n",
    "    p1_avg.append(r_avg[1])\n",
    "    p1_ens.append(r_ens[1])"
   ]
  },
  {
   "cell_type": "code",
   "execution_count": 6,
   "metadata": {},
   "outputs": [],
   "source": [
    "def avg_vs_ensemble(avg, ens, ens_real=None):\n",
    "    if ens_real!=None:\n",
    "        plt.plot(np.arange(N_runs), p1_ens_real, marker='o', color='lightblue', label='Ensemble (RL)')\n",
    "    plt.plot(np.arange(N_runs), p1_ens, marker='o', color='orange', label = 'Ensemble (QASM)')\n",
    "    plt.scatter(np.arange(N_runs), p1_avg, label='Simple AVG', color='sienna', zorder=3, linewidth=.5)\n",
    "    plt.title('Quantum Ensemble vs Simple Average', size=12).set_position([.5, 1.05])\n",
    "    plt.xlabel('runs', size=12)\n",
    "    plt.ylabel(r'$P(\\tilde{y}=1)$', size =12)\n",
    "    plt.xticks(np.arange(0, N_runs+1, 5), size = 12)\n",
    "    plt.yticks([0.0, 0.2, 0.4, 0.6, 0.8, 1.0], size = 12)\n",
    "    plt.ylim(0,1)\n",
    "    plt.grid(alpha=.3)\n",
    "    plt.legend()\n",
    "    plt.savefig('output/multi_run_fixed.png', dpi = 300)"
   ]
  },
  {
   "cell_type": "code",
   "execution_count": 7,
   "metadata": {},
   "outputs": [
    {
     "data": {
      "image/png": "[encoded data removed]",
      "text/plain": [
       "<Figure size 432x288 with 1 Axes>"
      ]
     },
     "metadata": {
      "needs_background": "light"
     },
     "output_type": "display_data"
    }
   ],
   "source": [
    "avg_vs_ensemble(p1_avg, p1_ens)"
   ]
  }
 ],
 "metadata": {
  "kernelspec": {
   "display_name": "Python 3",
   "language": "python",
   "name": "python3"
  },
  "language_info": {
   "codemirror_mode": {
    "name": "ipython",
    "version": 3
   },
   "file_extension": ".py",
   "mimetype": "text/x-python",
   "name": "python",
   "nbconvert_exporter": "python",
   "pygments_lexer": "ipython3",
   "version": "3.7.3"
  }
 },
 "nbformat": 4,
 "nbformat_minor": 2
}

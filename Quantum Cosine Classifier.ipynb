{
 "cells": [
  {
   "cell_type": "markdown",
   "metadata": {},
   "source": [
    "# Quantum Cosine Classifier"
   ]
  },
  {
   "cell_type": "markdown",
   "metadata": {},
   "source": [
    "This notebook describes how quantum cosine classifier works in practice."
   ]
  },
  {
   "cell_type": "markdown",
   "metadata": {},
   "source": [
    "Classically, cosine classifier is defined as follows:\n"
   ]
  },
  {
   "cell_type": "markdown",
   "metadata": {},
   "source": [
    "\\begin{align}\\label{equation:cosine classifier}\n",
    "    Pr\\Big(y^{(test)} = y^{(i)}\\Big) = \\frac{1}{2}+\\frac{\\Big[d\\big(x^{(i)}, x^{(test)}\\big)\\Big]^2}{2}\n",
    "\\end{align}"
   ]
  },
  {
   "cell_type": "markdown",
   "metadata": {},
   "source": [
    "where $(x^{(i)}, y^{(i)})$ is a random training example, $x^{(test)}$ the test point and $d(\\cdot, \\cdot)$ the cosine distance between $x^{(i)}$ and $x^{(test)}$."
   ]
  },
  {
   "cell_type": "markdown",
   "metadata": {},
   "source": [
    "Since the probability of belonging to a class depends on the squared cosine distance between the two vectors, the maximum dissimilarity occurs when training and test observations are orthogonal. In this case, the cosine classifier  assigns a uniform probability distribution in the two classes for $y^{(test)}$. This means that the cosine classifier performs well only if the test point belongs to the same class of the training point. "
   ]
  },
  {
   "cell_type": "markdown",
   "metadata": {},
   "source": [
    "## Quantum Algorithm for Swap-Test"
   ]
  },
  {
   "cell_type": "markdown",
   "metadata": {},
   "source": [
    "The quantum circuit that implements the cosine classifier encodes data into three different registers: the training vector $x^{(i)}$, the training label $y^{(i)}$ and the test point $x^{(test)}$. One more qubit is used to store the prediction. \n",
    "\n",
    "The algorithm is made of the following three steps."
   ]
  },
  {
   "cell_type": "markdown",
   "metadata": {},
   "source": [
    "### Step 1: State Preparation\n",
    "\n",
    "Data are encoded into three different quantum registers. Since each set of data ($x$ and $y$) is stored separately, the state preparation routine can be performed independently for each qubit."
   ]
  },
  {
   "cell_type": "markdown",
   "metadata": {},
   "source": [
    "$$ \\left|\\Phi_1\\right\\rangle = \\Big( S_{x^{(i)}} \\otimes S_{x^{(test)}} \\otimes S_{y^{(i)}} \\otimes  \\mathbb{1}  \\Big) \\left|0\\right\\rangle \\left|0\\right\\rangle \\left|0\\right\\rangle \\left|0\\right\\rangle  = \\left|x^{(i)}\\right\\rangle \\left|x^{(test)}\\right\\rangle \\left|y^{(i)}\\right\\rangle \\left|0\\right\\rangle\n",
    "$$\n",
    "\n",
    "where $S_{(x)}$ is the routine which encodes in the amplitudes of a qubit a $2$-dimensional real vector $x$."
   ]
  },
  {
   "cell_type": "markdown",
   "metadata": {},
   "source": [
    "### Step 2: Execution of the swap test"
   ]
  },
  {
   "cell_type": "markdown",
   "metadata": {},
   "source": [
    "In the second step, the swap-test transforms the amplitudes of the qubit $y^{(test)}$ as a function of the squared cosine distance:"
   ]
  },
  {
   "cell_type": "markdown",
   "metadata": {},
   "source": [
    "\\begin{align}\n",
    "\\left|\\Phi_2\\right\\rangle = & \\big(\\mathbb{1} \\otimes \\mathbb{1} \\otimes \\mathbb{1} \\otimes H\\big)\n",
    "\\big(\\text{cswap} \\otimes \\mathbb{1} \\otimes C \\big) \n",
    "\\big(\\mathbb{1} \\otimes \\mathbb{1} \\otimes \\mathbb{1} \\otimes H\\big) \n",
    "\\left|x^{(i)}\\right\\rangle \\left|x^{(test)}\\right\\rangle \\left|y^{(i)}\\right\\rangle \\left|0\\right\\rangle \\\\ \n",
    "   =  & \\frac{1}{2} \n",
    "   \\Big(\n",
    "   \\big( \\left|x^{(i)}\\right\\rangle \\left|x^{(test)}\\right\\rangle + \\left|x^{(test)}\\right\\rangle \\left|x^{(i)}\\right\\rangle \\big)\\left|y^{(i)}\\right\\rangle  \\left|0\\right\\rangle + \n",
    "  \\big(\\left|x^{(i)}\\right\\rangle \\left|x^{(test)}\\right\\rangle - \\left|x^{(test)}\\right\\rangle \\left|x^{(i)}\\right\\rangle \\big)\\left|y^{(i)}\\right\\rangle  \\left|1\\right\\rangle \\Big)\n",
    "\\end{align}"
   ]
  },
  {
   "cell_type": "markdown",
   "metadata": {},
   "source": [
    "where $H$ is the Hadamard gate, cswap is the controlled-swap operation which uses the fourth qubit (position of gate *C*) as control  qubit to swap $\\left|x^{(i)}\\right\\rangle$ and $\\left|x^{(test)}\\right\\rangle$.\n",
    "After the execution of the swap test the probability to redout the basis state $\\left|0\\right\\rangle$, that is the probability for the *test* observation to be classified in class $0$ is:"
   ]
  },
  {
   "cell_type": "markdown",
   "metadata": {},
   "source": [
    "\\begin{align}\n",
    "    P(y^{(test)} = \\left|0\\right\\rangle) = \n",
    "    \\frac{1}{2}+\\frac{|\\langle x^{(i)}|x^{(test)} \\rangle|^2}{2}\n",
    "\\end{align}"
   ]
  },
  {
   "cell_type": "markdown",
   "metadata": {},
   "source": [
    "### Step 3: Controlled Pauli-*X* gate"
   ]
  },
  {
   "cell_type": "markdown",
   "metadata": {},
   "source": [
    "The third step consists in applying a controlled Pauli-$X$ rotation using the control qubit that encodes the label of the training vector. This implies that $y^{(test)}$ is left untouched if  $x^{(i)}$ belongs to the class $0$. Otherwise,\n",
    "the amplitudes of the $y^{(test)}$ qubit are exchanged,\n",
    "and the probability $P(y^{(test)} = 1)$ is higher as the similarity between the two vectors increases."
   ]
  },
  {
   "cell_type": "markdown",
   "metadata": {},
   "source": [
    "$$\n",
    "\\left|\\Phi_3\\right\\rangle = \\big(\\mathbb{1} \\otimes \\mathbb{1} \\otimes \\text{C-X} \\big) \\left|\\Phi_2\\right\\rangle\n",
    "$$"
   ]
  },
  {
   "cell_type": "markdown",
   "metadata": {},
   "source": [
    "Thus, the probability amplitudes of the two basis states of $y^{(test)}$ lead to a classification rule that is equivalent to the classic cosine classifier."
   ]
  },
  {
   "cell_type": "markdown",
   "metadata": {},
   "source": [
    "# Quantum Implementation"
   ]
  },
  {
   "cell_type": "markdown",
   "metadata": {},
   "source": [
    "To study the behaviour of the quantum cosine classifier $2000$ random datasets are generated. Each dataset is made up of a training point $(x^{(i)}, y^{(i)})$ and a test point $x^{(test)}$."
   ]
  },
  {
   "cell_type": "code",
   "execution_count": 9,
   "metadata": {},
   "outputs": [],
   "source": [
    "#Import modules and packages\n",
    "import sys\n",
    "sys.path.insert(1, '../')\n",
    "\n",
    "from Utils import *\n",
    "from modeling import * "
   ]
  },
  {
   "cell_type": "code",
   "execution_count": 4,
   "metadata": {},
   "outputs": [],
   "source": [
    "n_shots = 1000\n",
    "n=1000\n",
    "x = []\n",
    "x_err = []\n",
    "P0 = []\n",
    "P1 = []\n",
    "\n",
    "for i in np.arange(n):\n",
    "    '''Random generated vectors'''\n",
    "    x_train = [random.uniform(-1, 1), random.uniform(0, 1)]\n",
    "    x_train_norm = normalize_custom(x_train)\n",
    "    x_test = [random.uniform(-1, 1), random.uniform(0, 1)]\n",
    "    x_test_norm = normalize_custom(x_test)\n",
    "\n",
    "    '''Compute cosine distance and append it to x'''\n",
    "    d_cos = cosine_similarity([x_train], [x_test])[0][0]\n",
    "    x.append(d_cos)\n",
    "\n",
    "    '''If x_train belongs to class 0'''\n",
    "    qc = cos_classifier(x_train_norm, x_test_norm, [1,0])\n",
    "    r = exec_simulator(qc, n_shots)\n",
    "    P_q = r['0']/n_shots\n",
    "    P0.append(P_q)\n",
    "    d_cos_err = np.sqrt(2*P_q-1)\n",
    "    x_err.append( d_cos_err )\n",
    "\n",
    "\n",
    "P0 = np.array(P0)\n",
    "x = np.array(x)\n",
    "x_err = np.array(x_err)\n",
    "\n",
    "order = x.argsort()\n",
    "\n",
    "x = x[order[::-1]]\n",
    "P0 = P0[order[::-1]]\n",
    "x_err = x_err[order[::-1]]\n",
    "\n",
    "err = [ abs(x1 - x2) for (x1, x2) in zip(abs(x), x_err)]\n",
    "err = np.array(err)\n",
    "P1 = 1-P0"
   ]
  },
  {
   "cell_type": "code",
   "execution_count": 5,
   "metadata": {},
   "outputs": [
    {
     "data": {
      "image/png": "[encoded data removed]",
      "text/plain": [
       "<Figure size 432x288 with 1 Axes>"
      ]
     },
     "metadata": {
      "needs_background": "light"
     },
     "output_type": "display_data"
    }
   ],
   "source": [
    "quantum_cos_random_data(x, P0, P1, err)"
   ]
  }
 ],
 "metadata": {
  "kernelspec": {
   "display_name": "Python 3",
   "language": "python",
   "name": "python3"
  },
  "language_info": {
   "codemirror_mode": {
    "name": "ipython",
    "version": 3
   },
   "file_extension": ".py",
   "mimetype": "text/x-python",
   "name": "python",
   "nbconvert_exporter": "python",
   "pygments_lexer": "ipython3",
   "version": "3.6.9"
  }
 },
 "nbformat": 4,
 "nbformat_minor": 2
}

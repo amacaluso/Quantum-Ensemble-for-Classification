{
 "cells": [
  {
   "cell_type": "markdown",
   "metadata": {},
   "source": [
    "# Quantum Cosine Classifier"
   ]
  },
  {
   "cell_type": "markdown",
   "metadata": {},
   "source": [
    "#### Import modules and packages"
   ]
  },
  {
   "cell_type": "code",
   "execution_count": 1,
   "metadata": {},
   "outputs": [],
   "source": [
    "%matplotlib inline\n",
    "\n",
    "from Utils import *\n",
    "from modeling import * "
   ]
  },
  {
   "cell_type": "code",
   "execution_count": 2,
   "metadata": {},
   "outputs": [],
   "source": [
    "x_train = normalize_custom(uniform(-10,10,2))\n",
    "x_test = normalize_custom(uniform(-10,10,2))\n",
    "y_train = [0,1]"
   ]
  },
  {
   "cell_type": "code",
   "execution_count": 5,
   "metadata": {},
   "outputs": [
    {
     "data": {
      "image/png": "[encoded data removed]",
      "text/plain": [
       "<Figure size 1167.88x464.4 with 1 Axes>"
      ]
     },
     "execution_count": 5,
     "metadata": {},
     "output_type": "execute_result"
    }
   ],
   "source": [
    "qc = quantum_cosine_classifier(x_train, x_test, y_train)\n",
    "qc.draw(output='mpl', scale=1)"
   ]
  },
  {
   "cell_type": "markdown",
   "metadata": {},
   "source": [
    "## Quantum Algorithm for Swap-Test"
   ]
  },
  {
   "cell_type": "markdown",
   "metadata": {},
   "source": [
    "The swap test is a procedure to measure how much two quantum states differ. If we encode in the amplitudes of two different qubits ( $\\left|a\\right\\rangle$, $\\left|b\\right\\rangle$ ), two 2-dimensional vectors ($a$, $b$), the output of the swap test will be function of the distance between the two vectors. The swap test is performed into two steps:"
   ]
  },
  {
   "cell_type": "markdown",
   "metadata": {},
   "source": [
    "### Step 1: State Preparation\n",
    "\n",
    "$a$ and $b$ are encoded into the amplitudes of two different qubits. The quantum system contains an additional qubit that will store the results:\n",
    "\n",
    "$$ \\left|\\Phi_1\\right\\rangle = \\Big( S_{x} \\otimes S_{x} \\otimes S_{y} \\otimes  \\mathbb{1}  \\Big) \\left|0\\right\\rangle \\left|0\\right\\rangle \\left|0\\right\\rangle \\left|0\\right\\rangle  = \\left|x^{(train)}\\right\\rangle \\left|x^{(test)}\\right\\rangle \\left|y^{(train)}\\right\\rangle \\left|0\\right\\rangle\n",
    "$$\n",
    "\n",
    "where $S_x$ is the routine which encodes in the amplitudes of a qubit a real vector $x$."
   ]
  },
  {
   "cell_type": "markdown",
   "metadata": {},
   "source": [
    "### Step 2: Execution of the swap test"
   ]
  },
  {
   "cell_type": "markdown",
   "metadata": {},
   "source": [
    "\\begin{align}\n",
    "\\left|\\Phi_2\\right\\rangle = & \\big(\\mathbb{1} \\otimes \\mathbb{1} \\otimes \\mathbb{1} \\otimes H\\big)\n",
    "\\big(\\text{(c)swap} \\otimes \\mathbb{1} \\otimes C \\big) \n",
    "\\big(\\mathbb{1} \\otimes \\mathbb{1} \\otimes \\mathbb{1} \\otimes H\\big) \n",
    "\\left|x^{(train)}\\right\\rangle \\left|x^{(test)}\\right\\rangle \\left|y^{(train)}\\right\\rangle \\left|0\\right\\rangle \\\\ \n",
    "   =  & \\frac{1}{2} \n",
    "   \\Big(\n",
    "   \\big( \\left|x_i\\right\\rangle \\left|x_j\\right\\rangle + \\left|x_j\\right\\rangle \\left|x_i\\right\\rangle \\big)\\left|y^{(train)}\\right\\rangle  \\left|0\\right\\rangle + \n",
    "  \\big(\\left|x_i\\right\\rangle \\left|x_j\\right\\rangle - \\left|x_j\\right\\rangle \\left|x_i\\right\\rangle \\big)\\left|y^{(train)}\\right\\rangle  \\left|1\\right\\rangle \\Big)\n",
    "\\end{align}"
   ]
  },
  {
   "cell_type": "markdown",
   "metadata": {},
   "source": [
    "where $H$ is the Hadamard gate, $c-SWAP$ is the controlled-swap operation which uses the third qubit as control qubit and swap $\\left|a\\right\\rangle$ and $\\left|b\\right\\rangle$ if the controlled qubits is equal to $\\left|1\\right\\rangle$."
   ]
  },
  {
   "cell_type": "markdown",
   "metadata": {},
   "source": [
    "\\begin{align}\n",
    "    P(y^{(test)} = \\left|0\\right\\rangle) = \n",
    "    \\frac{1}{2}+\\frac{|\\langle x^{(i)}|x^{(test)} \\rangle|^2}{2}\n",
    "\\end{align}"
   ]
  },
  {
   "cell_type": "markdown",
   "metadata": {},
   "source": [
    "### Step 3: Controlled Pauli-*X* gate"
   ]
  },
  {
   "cell_type": "markdown",
   "metadata": {},
   "source": [
    "$$\n",
    "\\left|\\Phi_3\\right\\rangle = \\big(\\mathbb{1} \\otimes \\mathbb{1} \\otimes \\text{C-X} \\big) \\left|\\Phi_2\\right\\rangle\n",
    "$$"
   ]
  },
  {
   "cell_type": "markdown",
   "metadata": {},
   "source": []
  },
  {
   "cell_type": "markdown",
   "metadata": {},
   "source": [
    "\\begin{align}\\label{equation:cosine classifier}\n",
    "    Pr\\Big(y^{(test)} = y^{(i)}\\Big) = \\frac{1}{2}+\\frac{\\Big[d\\big(x^{(i)}, x^{(test)}\\big)\\Big]^2}{2}\n",
    "\\end{align}"
   ]
  },
  {
   "cell_type": "code",
   "execution_count": null,
   "metadata": {},
   "outputs": [],
   "source": []
  },
  {
   "cell_type": "code",
   "execution_count": null,
   "metadata": {},
   "outputs": [],
   "source": []
  },
  {
   "cell_type": "markdown",
   "metadata": {},
   "source": [
    "Measuring the first qubits produces the state $0$ with probability:\n",
    "$$P\\big(\\left|0\\right\\rangle\\big) = \\frac{1+|\\left\\langle a|b \\right\\rangle|^2 }{2}$$\n",
    "\n",
    "This probability is $1$ if $a=b$"
   ]
  },
  {
   "cell_type": "markdown",
   "metadata": {},
   "source": [
    "### Execute quantum swap-test"
   ]
  },
  {
   "cell_type": "code",
   "execution_count": null,
   "metadata": {},
   "outputs": [],
   "source": [
    "# Swap test using x1 as training on simulator\n",
    "qc = quantum_swap_test(a,b)\n",
    "measurement = exec_simulator(qc)\n",
    "results = retrieve_proba(measurement)\n",
    "\n",
    "print('The probability of state 0 is computed by quantum swap-test is:', results[0] )"
   ]
  },
  {
   "cell_type": "code",
   "execution_count": null,
   "metadata": {},
   "outputs": [],
   "source": [
    "print('The same probability computed classically is:', classic_swap_test(a, b))"
   ]
  }
 ],
 "metadata": {
  "kernelspec": {
   "display_name": "Python 3",
   "language": "python",
   "name": "python3"
  },
  "language_info": {
   "codemirror_mode": {
    "name": "ipython",
    "version": 3
   },
   "file_extension": ".py",
   "mimetype": "text/x-python",
   "name": "python",
   "nbconvert_exporter": "python",
   "pygments_lexer": "ipython3",
   "version": "3.6.9"
  }
 },
 "nbformat": 4,
 "nbformat_minor": 2
}

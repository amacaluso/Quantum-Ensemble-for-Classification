{
 "cells": [
  {
   "cell_type": "code",
   "execution_count": 4,
   "metadata": {},
   "outputs": [
    {
     "name": "stdout",
     "output_type": "stream",
     "text": [
      "The directory output  already exists\n",
      "The directory IMG does not exist and will be created\n"
     ]
    }
   ],
   "source": [
    "# import all functions in Utils\n",
    "import sys\n",
    "sys.path.insert(1, '../')\n",
    "\n",
    "from Utils import *\n",
    "\n",
    "# Create folders to save the results\n",
    "output = 'output'\n",
    "folder_img = 'IMG'\n",
    "\n",
    "create_dir(output)\n",
    "create_dir(folder_img)\n",
    "\n",
    "\n",
    "n_shots = 8192"
   ]
  },
  {
   "cell_type": "code",
   "execution_count": 3,
   "metadata": {},
   "outputs": [
    {
     "data": {
      "image/png": "[encoded data removed]",
      "text/plain": [
       "<Figure size 432x288 with 1 Axes>"
      ]
     },
     "metadata": {
      "needs_background": "light"
     },
     "output_type": "display_data"
    },
    {
     "name": "stdout",
     "output_type": "stream",
     "text": [
      "                     ┌─────────────────┐       ░               ░       ░    \n",
      "x\\_train_0: |0>──────┤ Initialize(1,0) ├───────░───────X───────░───────░────\n",
      "               ┌─────┴─────────────────┴─────┐ ░       │       ░       ░    \n",
      " x\\_test_0: |0>┤ Initialize(0.70711,0.70711) ├─░───────X───────░───────░────\n",
      "               └─────────────────────────────┘ ░ ┌───┐ │ ┌───┐ ░ ┌───┐ ░ ┌─┐\n",
      "y\\_test}_0: |0>────────────────────────────────░─┤ H ├─■─┤ H ├─░─┤ X ├─░─┤M├\n",
      "                     ┌─────────────────┐       ░ └───┘   └───┘ ░ └─┬─┘ ░ └╥┘\n",
      "y\\_train_0: |0>──────┤ Initialize(0,1) ├───────░───────────────░───■───░──╫─\n",
      "                     └─────────────────┘       ░               ░       ░  ║ \n",
      "       c0_0: 0 ═══════════════════════════════════════════════════════════╩═\n",
      "                                                                            \n"
     ]
    }
   ],
   "source": [
    "''' State Preparation'''\n",
    "## ++++++++++++++++++++++++++++++++++ ##\n",
    "\n",
    "# Training points\n",
    "x_train = [4, 0 ]; x_train = normalize_custom(x_train)\n",
    "y_train = [0, 1 ]\n",
    "\n",
    "# Test point\n",
    "x_test = [2, 2]; x_test = normalize_custom( x_test )\n",
    "\n",
    "# Visualization of the two vectors\n",
    "V = np.array([ x_train, x_test])\n",
    "origin = [0], [0] # origin point\n",
    "plt.quiver(*origin, V[:,0], V[:,1], color=['r','b'], scale = 4)\n",
    "plt.show()\n",
    "\n",
    "\n",
    "# Quantum Circuit for Cosine-distance classifier\n",
    "c = ClassicalRegister(1)\n",
    "ancilla = QuantumRegister( 1 , 'y\\_test}')\n",
    "\n",
    "x_tr = QuantumRegister(1, 'x\\_train')\n",
    "x_ts = QuantumRegister(1, 'x\\_test')\n",
    "y_tr = QuantumRegister(1, 'y\\_train')\n",
    "\n",
    "qc = QuantumCircuit( x_tr, x_ts, ancilla, y_tr, c)\n",
    "\n",
    "x_tr = x_tr[0]\n",
    "y_tr = y_tr[0]\n",
    "x_ts = x_ts[0]\n",
    "\n",
    "qc.initialize(x_train, [ x_tr ])\n",
    "qc.initialize(x_test, [ x_ts ])\n",
    "qc.initialize(y_train, [ y_tr ])\n",
    "qc.barrier()\n",
    "\n",
    "qc.h( ancilla )\n",
    "qc.cswap( ancilla, x_ts, x_tr )\n",
    "qc.h(ancilla)\n",
    "qc.barrier()\n",
    "\n",
    "qc.cx( y_tr, ancilla)\n",
    "qc.barrier()\n",
    "\n",
    "qc.measure(ancilla, c[0])\n",
    "print(qc)\n"
   ]
  },
  {
   "cell_type": "code",
   "execution_count": null,
   "outputs": [],
   "source": [
    "\n",
    "# diagram = qc.draw(output=\"mpl\")\n",
    "# diagram.show()\n",
    "# diagram.savefig(folder_img + \"/cosine_classifier.jpeg\",\n",
    "#                 format=\"jpeg\")\n",
    "\n",
    "\n",
    "# QASM Simulation\n",
    "sim_backend = BasicAer.get_backend('qasm_simulator')\n",
    "job = execute(qc, sim_backend, shots=1000)\n",
    "results = job.result()\n",
    "answer = results.get_counts(qc)\n",
    "\n",
    "if len(answer) == 1:\n",
    "    quantum_prob = 1\n",
    "else:\n",
    "    quantum_prob = answer['0']/(answer['0'] + answer['1'] )\n",
    "\n",
    "answer_sim_p0 = quantum_prob\n",
    "answer_sim_p1 = 1 - quantum_prob\n",
    "\n",
    "print(answer_sim_p0, answer_sim_p1)\n"
   ],
   "metadata": {
    "collapsed": false,
    "pycharm": {
     "name": "#%%\n"
    }
   }
  },
  {
   "cell_type": "code",
   "execution_count": null,
   "metadata": {},
   "outputs": [],
   "source": [
    "## Running on real device\n",
    "\n",
    "# ****** ---------------------------------------------******* #\n",
    "job = execute(qc, backend, shots=8192)\n",
    "results = job.result()\n",
    "answer = results.get_counts(qc)\n",
    "print(answer)\n",
    "\n",
    "if len(answer) == 1:\n",
    "    quantum_prob = 1\n",
    "else:\n",
    "    quantum_prob = answer['0']/(answer['0'] + answer['1'] )\n",
    "\n",
    "answer_rl_p0 = quantum_prob\n",
    "answer_rl_p1 = 1- quantum_prob\n",
    "\n",
    "\n",
    "N = 2\n",
    "p0 = [ answer_sim_p0, answer_rl_p0]\n",
    "p1 = [ answer_sim_p1, answer_rl_p1]\n",
    "#\n",
    "fig, ax = plt.subplots()\n",
    "#\n",
    "ind = np.arange(N)  # the x locations for the groups\n",
    "width = 0.35  # the width of the bars\n",
    "pl1 = ax.bar(ind, p0, width, bottom=0)\n",
    "pl2 = ax.bar(ind + width, p1, width, bottom=0)\n",
    "#\n",
    "ax.set_title('Test point classifications')\n",
    "ax.set_xticks(ind + width / 2)\n",
    "ax.set_xticklabels(('QASM', 'REAL DEVICE'), rotation = 45)\n",
    "#\n",
    "ax.legend((pl1[0], pl2[0]), ('P(y=0)', 'P(y=1)'))\n",
    "ax.autoscale_view()\n",
    "#\n",
    "plt.savefig(folder_img + '/qasm_vs_real.png',\n",
    "                format=\"jpeg\",  bbox_inches=\"tight\")\n",
    "plt.show()"
   ]
  }
 ],
 "metadata": {
  "kernelspec": {
   "display_name": "Python 3",
   "language": "python",
   "name": "python3"
  },
  "language_info": {
   "codemirror_mode": {
    "name": "ipython",
    "version": 3
   },
   "file_extension": ".py",
   "mimetype": "text/x-python",
   "name": "python",
   "nbconvert_exporter": "python",
   "pygments_lexer": "ipython3",
   "version": "3.7.3"
  },
  "pycharm": {
   "stem_cell": {
    "cell_type": "raw",
    "source": [],
    "metadata": {
     "collapsed": false
    }
   }
  }
 },
 "nbformat": 4,
 "nbformat_minor": 1
}
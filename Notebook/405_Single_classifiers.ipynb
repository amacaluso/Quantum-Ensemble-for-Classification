{
 "cells": [
  {
   "cell_type": "code",
   "execution_count": 2,
   "metadata": {},
   "outputs": [
    {
     "name": "stdout",
     "output_type": "stream",
     "text": [
      "The directory output  already exists\n",
      "The directory IMG  already exists\n"
     ]
    }
   ],
   "source": [
    "# import all functions in Utils\n",
    "# import sys\n",
    "# sys.path.insert(1, '../')\n",
    "\n",
    "from Utils import *\n",
    "\n",
    "# Create folders to save the results\n",
    "output = 'output'\n",
    "folder_img = 'IMG'\n",
    "\n",
    "create_dir(output)\n",
    "create_dir(folder_img)\n",
    "\n",
    "n_shots = 8192"
   ]
  },
  {
   "cell_type": "code",
   "execution_count": 3,
   "metadata": {},
   "outputs": [],
   "source": [
    "''' State Preparation'''\n",
    "#\n",
    "## ++++++++++++++++++++++++++++++++++ ##\n",
    "y_class0 = [1, 0]\n",
    "y_class1 = [0, 1]\n",
    "\n",
    "x1_train = [3,   -1] ; x1_train = normalize_custom(x1_train) # y2 = '1'\n",
    "x2_train = [1,    3] ; x2_train = normalize_custom(x2_train) # y1 = '0'\n",
    "x3_train = [2,   -2] ; x3_train = normalize_custom(x3_train) # y4 = '1'\n",
    "x4_train = [1.5, 2.5]; x4_train = normalize_custom(x4_train) # y3 = '0'\n",
    "\n",
    "D = [x1_train, x2_train, x3_train, x4_train]\n",
    "\n",
    "\n",
    "x_test = [2, 2]; x_test = normalize_custom(x_test)"
   ]
  },
  {
   "cell_type": "code",
   "execution_count": 4,
   "metadata": {},
   "outputs": [
    {
     "name": "stdout",
     "output_type": "stream",
     "text": [
      "[(0.9486832980505138+0j), (-0.31622776601683794+0j)] [(0.31622776601683794+0j), (0.9486832980505138+0j)] [(0.7071067811865475+0j), (-0.7071067811865475+0j)] [(0.5144957554275265+0j), (0.8574929257125441+0j)] [(0.7071067811865475+0j), (0.7071067811865475+0j)]\n"
     ]
    }
   ],
   "source": [
    "print(x1_train, x2_train, x3_train, x4_train, x_test)"
   ]
  },
  {
   "cell_type": "code",
   "execution_count": 5,
   "metadata": {},
   "outputs": [
    {
     "data": {
      "text/plain": [
       "<qiskit.circuit.measure.Measure at 0x1f9e6329c18>"
      ]
     },
     "execution_count": 5,
     "metadata": {},
     "output_type": "execute_result"
    }
   ],
   "source": [
    "''' Create Circuit '''\n",
    "\n",
    "c = ClassicalRegister(4)\n",
    "C1 = QuantumRegister(4, 'c1')\n",
    "C2 = QuantumRegister(4, 'c2')\n",
    "C3 = QuantumRegister(4, 'c3')\n",
    "C4 = QuantumRegister(4, 'c4')\n",
    "\n",
    "qc = QuantumCircuit(C1, C2, C3, C4, c)\n",
    "### Initialization ###\n",
    "\n",
    "x1 = C1[0]; qc.initialize(D[0], [x1]) # '1'\n",
    "x2 = C2[0]; qc.initialize(D[1], [x2]) # '0'\n",
    "x3 = C3[0]; qc.initialize(D[2], [x3]) # '1'\n",
    "x4 = C4[0]; qc.initialize(D[3], [x4]) # '0'\n",
    "\n",
    "x_test1 = C1[1]; qc.initialize(x_test, [x_test1])\n",
    "x_test2 = C2[1]; qc.initialize(x_test, [x_test2])\n",
    "x_test3 = C3[1]; qc.initialize(x_test, [x_test3])\n",
    "x_test4 = C4[1]; qc.initialize(x_test, [x_test4])\n",
    "\n",
    "y_test1 = C1[2]\n",
    "y_test2 = C2[2]\n",
    "y_test3 = C3[2]\n",
    "y_test4 = C4[2]\n",
    "\n",
    "y1 = C1[3]; qc.x( y1 )\n",
    "y2 = C2[3]\n",
    "y3 = C3[3]; qc.x( y3 )\n",
    "y4 = C4[3]\n",
    "\n",
    "qc.barrier()\n",
    "\n",
    "'''Computation'''\n",
    "# C1\n",
    "qc.h(y_test1)\n",
    "qc.cswap(y_test1, x_test1, x1)\n",
    "qc.h(y_test1)\n",
    "qc.cx(y1, y_test1)\n",
    "\n",
    "# C2\n",
    "qc.h(y_test2)\n",
    "qc.cswap(y_test2, x_test2, x2)\n",
    "qc.h(y_test2)\n",
    "qc.cx(y2, y_test2)\n",
    "\n",
    "# C1\n",
    "qc.h(y_test3)\n",
    "qc.cswap(y_test3, x_test3, x3)\n",
    "qc.h(y_test3)\n",
    "qc.cx(y3, y_test3)\n",
    "\n",
    "# C1\n",
    "qc.h(y_test4)\n",
    "qc.cswap(y_test4, x_test4, x4)\n",
    "qc.h(y_test4)\n",
    "qc.cx(y4, y_test4)\n",
    "qc.barrier()\n",
    "\n",
    "\n",
    "# qc.measure(ancilla1, c1)\n",
    "qc.measure(y_test1, c[0])\n",
    "qc.measure(y_test2, c[1])\n",
    "qc.measure(y_test3, c[2])\n",
    "qc.measure(y_test4, c[3])"
   ]
  },
  {
   "cell_type": "code",
   "execution_count": 6,
   "metadata": {},
   "outputs": [
    {
     "name": "stdout",
     "output_type": "stream",
     "text": [
      "{'1101': 56, '0011': 219, '0001': 2205, '0100': 1370, '1001': 72, '0101': 2124, '0111': 254, '1100': 50, '0110': 152, '1010': 3, '0010': 181, '1000': 52, '1110': 6, '1011': 9, '1111': 12, '0000': 1427}\n"
     ]
    }
   ],
   "source": [
    "r = exec_simulator(qc)\n",
    "print(r)\n",
    "save_dict(r, name = output + '/single_cls')"
   ]
  },
  {
   "cell_type": "code",
   "execution_count": 7,
   "metadata": {},
   "outputs": [
    {
     "name": "stdout",
     "output_type": "stream",
     "text": [
      "         ┌──────────────────────────────┐ ░                    ░             \n",
      "c1_0: |0>┤ Initialize(0.94868,-0.31623) ├─░───────X────────────░─────────────\n",
      "         ├─────────────────────────────┬┘ ░       │            ░             \n",
      "c1_1: |0>┤ Initialize(0.70711,0.70711) ├──░───────X────────────░─────────────\n",
      "         └─────────────────────────────┘  ░ ┌───┐ │ ┌───┐┌───┐ ░ ┌─┐         \n",
      "c1_2: |0>─────────────────────────────────░─┤ H ├─■─┤ H ├┤ X ├─░─┤M├─────────\n",
      "                      ┌───┐               ░ └───┘   └───┘└─┬─┘ ░ └╥┘         \n",
      "c1_3: |0>─────────────┤ X ├───────────────░────────────────■───░──╫──────────\n",
      "         ┌────────────┴───┴────────────┐  ░                    ░  ║          \n",
      "c2_0: |0>┤ Initialize(0.31623,0.94868) ├──░───────X────────────░──╫──────────\n",
      "         ├─────────────────────────────┤  ░       │            ░  ║          \n",
      "c2_1: |0>┤ Initialize(0.70711,0.70711) ├──░───────X────────────░──╫──────────\n",
      "         └─────────────────────────────┘  ░ ┌───┐ │ ┌───┐┌───┐ ░  ║ ┌─┐      \n",
      "c2_2: |0>─────────────────────────────────░─┤ H ├─■─┤ H ├┤ X ├─░──╫─┤M├──────\n",
      "                                          ░ └───┘   └───┘└─┬─┘ ░  ║ └╥┘      \n",
      "c2_3: |0>─────────────────────────────────░────────────────■───░──╫──╫───────\n",
      "         ┌──────────────────────────────┐ ░                    ░  ║  ║       \n",
      "c3_0: |0>┤ Initialize(0.70711,-0.70711) ├─░───────X────────────░──╫──╫───────\n",
      "         ├─────────────────────────────┬┘ ░       │            ░  ║  ║       \n",
      "c3_1: |0>┤ Initialize(0.70711,0.70711) ├──░───────X────────────░──╫──╫───────\n",
      "         └─────────────────────────────┘  ░ ┌───┐ │ ┌───┐┌───┐ ░  ║  ║ ┌─┐   \n",
      "c3_2: |0>─────────────────────────────────░─┤ H ├─■─┤ H ├┤ X ├─░──╫──╫─┤M├───\n",
      "                      ┌───┐               ░ └───┘   └───┘└─┬─┘ ░  ║  ║ └╥┘   \n",
      "c3_3: |0>─────────────┤ X ├───────────────░────────────────■───░──╫──╫──╫────\n",
      "          ┌───────────┴───┴────────────┐  ░                    ░  ║  ║  ║    \n",
      "c4_0: |0>─┤ Initialize(0.5145,0.85749) ├──░───────X────────────░──╫──╫──╫────\n",
      "         ┌┴────────────────────────────┤  ░       │            ░  ║  ║  ║    \n",
      "c4_1: |0>┤ Initialize(0.70711,0.70711) ├──░───────X────────────░──╫──╫──╫────\n",
      "         └─────────────────────────────┘  ░ ┌───┐ │ ┌───┐┌───┐ ░  ║  ║  ║ ┌─┐\n",
      "c4_2: |0>─────────────────────────────────░─┤ H ├─■─┤ H ├┤ X ├─░──╫──╫──╫─┤M├\n",
      "                                          ░ └───┘   └───┘└─┬─┘ ░  ║  ║  ║ └╥┘\n",
      "c4_3: |0>─────────────────────────────────░────────────────■───░──╫──╫──╫──╫─\n",
      "                                          ░                    ░  ║  ║  ║  ║ \n",
      " c0_0: 0 ═════════════════════════════════════════════════════════╩══╬══╬══╬═\n",
      "                                                                     ║  ║  ║ \n",
      " c0_1: 0 ════════════════════════════════════════════════════════════╩══╬══╬═\n",
      "                                                                        ║  ║ \n",
      " c0_2: 0 ═══════════════════════════════════════════════════════════════╩══╬═\n",
      "                                                                           ║ \n",
      " c0_3: 0 ══════════════════════════════════════════════════════════════════╩═\n",
      "                                                                             \n"
     ]
    }
   ],
   "source": [
    "### Connection\n",
    "print(qc)"
   ]
  },
  {
   "cell_type": "code",
   "execution_count": null,
   "metadata": {},
   "outputs": [],
   "source": [
    "qc_t1 = transpile([qc1]*1000, backend_b,optimization_level=1)\n",
    "qc_t2 = transpile([qc]*1000, backend_b,optimization_level=2)\n",
    "qc_t3 = transpile([qc]*1000, backend_b,optimization_level=3)"
   ]
  },
  {
   "cell_type": "code",
   "execution_count": null,
   "metadata": {},
   "outputs": [],
   "source": [
    "qf_ncx1 = [c.count_ops()['cx'] for c in qc_t1]\n",
    "qf_ncx2 = [c.count_ops()['cx'] for c in qc_t2]\n",
    "qf_ncx3 = [c.count_ops()['cx'] for c in qc_t3]"
   ]
  },
  {
   "cell_type": "code",
   "execution_count": null,
   "metadata": {},
   "outputs": [],
   "source": [
    "# check the number of cx gates\n",
    "print('Opt of lv 1: Minimum # of cx gates = %s' % min(qf_ncx1))\n",
    "print('Opt of lv 1: The best circuit is the circut %s' % qf_ncx1.index(min(qf_ncx1)))\n",
    "\n",
    "# check the number of cx gates\n",
    "print('Opt of lv 2: Minimum # of cx gates = %s' % min(qf_ncx2))\n",
    "print('Opt of lv 2: The best circuit is the circut %s' % qf_ncx2.index(min(qf_ncx2)))\n",
    "\n",
    "# check the number of cx gates\n",
    "print('Opt of lv 3: Minimum # of cx gates = %s' % min(qf_ncx3))\n",
    "print('Opt of lv 3: The best circuit is the circut %s' % qf_ncx3.index(min(qf_ncx3)))"
   ]
  },
  {
   "cell_type": "code",
   "execution_count": null,
   "metadata": {},
   "outputs": [],
   "source": [
    "opt_qc = qc_t3[qf_ncx3.index(min(qf_ncx3))]"
   ]
  },
  {
   "cell_type": "code",
   "execution_count": null,
   "metadata": {},
   "outputs": [],
   "source": [
    "opt_qc"
   ]
  },
  {
   "cell_type": "code",
   "execution_count": null,
   "metadata": {},
   "outputs": [],
   "source": [
    "qc_DIR"
   ]
  },
  {
   "cell_type": "code",
   "execution_count": null,
   "metadata": {},
   "outputs": [],
   "source": [
    "qc_OPT"
   ]
  },
  {
   "cell_type": "code",
   "execution_count": null,
   "metadata": {},
   "outputs": [],
   "source": [
    "job = execute(opt_qc, backend_b, shots=8192)"
   ]
  },
  {
   "cell_type": "code",
   "execution_count": null,
   "metadata": {},
   "outputs": [],
   "source": [
    "job.status()"
   ]
  },
  {
   "cell_type": "code",
   "execution_count": null,
   "metadata": {},
   "outputs": [],
   "source": [
    "job.job_id()"
   ]
  }
 ],
 "metadata": {
  "kernelspec": {
   "display_name": "Python 3",
   "language": "python",
   "name": "python3"
  },
  "language_info": {
   "codemirror_mode": {
    "name": "ipython",
    "version": 3
   },
   "file_extension": ".py",
   "mimetype": "text/x-python",
   "name": "python",
   "nbconvert_exporter": "python",
   "pygments_lexer": "ipython3",
   "version": "3.7.3"
  }
 },
 "nbformat": 4,
 "nbformat_minor": 2
}

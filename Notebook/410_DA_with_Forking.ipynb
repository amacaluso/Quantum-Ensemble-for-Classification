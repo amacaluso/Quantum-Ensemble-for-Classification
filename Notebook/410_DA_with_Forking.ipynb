{
 "cells": [
  {
   "cell_type": "code",
   "execution_count": 1,
   "metadata": {},
   "outputs": [
    {
     "name": "stdout",
     "output_type": "stream",
     "text": [
      "The directory output  already exists\n",
      "The directory IMG  already exists\n"
     ]
    }
   ],
   "source": [
    "# import all functions in Utils\n",
    "import sys\n",
    "sys.path.insert(1, '../')\n",
    "\n",
    "from Utils import *\n",
    "\n",
    "# Create folders to save the results\n",
    "output = 'output'\n",
    "folder_img = 'IMG'\n",
    "\n",
    "create_dir(output)\n",
    "create_dir(folder_img)\n",
    "\n",
    "\n",
    "n_shots = 8192"
   ]
  },
  {
   "cell_type": "code",
   "execution_count": 2,
   "metadata": {},
   "outputs": [
    {
     "data": {
      "image/png": "[encoded data removed]",
      "text/plain": [
       "<Figure size 432x288 with 1 Axes>"
      ]
     },
     "metadata": {
      "needs_background": "light"
     },
     "output_type": "display_data"
    }
   ],
   "source": [
    "''' State Preparation'''\n",
    "\n",
    "## ++++++++++++++++++++++++++++++++++ ##\n",
    "y_class0 = [1, 0]\n",
    "y_class1 = [0, 1]\n",
    "\n",
    "# Training Set\n",
    "x1_train = [3,   -1] ; x1_train = normalize_custom(x1_train) # y2 = '1'\n",
    "x2_train = [1,    3] ; x2_train = normalize_custom(x2_train) # y1 = '0'\n",
    "x3_train = [2,   -2] ; x3_train = normalize_custom(x3_train) # y4 = '1'\n",
    "x4_train = [1.5, 2.5]; x4_train = normalize_custom(x4_train) # y3 = '0'\n",
    "\n",
    "D = [x1_train, x2_train, x3_train, x4_train]\n",
    "\n",
    "x_test = [2, 2]; x_test = normalize_custom(x_test)\n",
    "\n",
    "V = np.array([ x1_train, x2_train, x3_train, x4_train, x_test])\n",
    "origin = [0], [0] # origin point\n",
    "plt.quiver(*origin, V[:,0], V[:,1], color=['tan','tan','g', 'g', 'red'], scale = 4)\n",
    "plt.xlim(-0.001,0.002)\n",
    "plt.show()"
   ]
  },
  {
   "cell_type": "code",
   "execution_count": 3,
   "metadata": {},
   "outputs": [],
   "source": [
    "'''Single classifiers'''\n",
    "\n",
    "qc1 = cos_classifier( x1_train, x_test, y_class1 )\n",
    "qc2 = cos_classifier( x2_train, x_test, y_class0 )\n",
    "qc3 = cos_classifier( x3_train, x_test, y_class1 )\n",
    "qc4 = cos_classifier( x4_train, x_test, y_class0 )\n",
    "qc_ens =  qc_ensemble_full(D, x_test)\n",
    "qc_ens_v2 = qc_ensemble_v2(D, x_test)"
   ]
  },
  {
   "cell_type": "code",
   "execution_count": null,
   "metadata": {},
   "outputs": [],
   "source": [
    "## Classifier 1\n",
    "r1 = exec_simulator(qc1)\n",
    "save_dict( r1, name = 'c1' )"
   ]
  },
  {
   "cell_type": "code",
   "execution_count": null,
   "metadata": {},
   "outputs": [],
   "source": [
    "## Classifier 2\n",
    "r2 = exec_simulator(qc2)\n",
    "save_dict( r2, name = 'c2' )"
   ]
  },
  {
   "cell_type": "code",
   "execution_count": null,
   "metadata": {},
   "outputs": [],
   "source": [
    "## Classifier 3\n",
    "r3 = exec_simulator(qc3)\n",
    "save_dict( r3, name = 'c3' )"
   ]
  },
  {
   "cell_type": "code",
   "execution_count": null,
   "metadata": {},
   "outputs": [],
   "source": [
    "## Classifier 4\n",
    "r4 = exec_simulator(qc4)\n",
    "save_dict( r4, name = 'c4' )"
   ]
  },
  {
   "cell_type": "code",
   "execution_count": null,
   "metadata": {},
   "outputs": [],
   "source": [
    "## Ensemble original\n",
    "r_ens = exec_simulator(qc_ens)\n",
    "save_dict( r_ens, name = 'ensemble' )"
   ]
  },
  {
   "cell_type": "code",
   "execution_count": null,
   "metadata": {},
   "outputs": [],
   "source": [
    "## Ensemble v2\n",
    "r_ens_v2 = exec_simulator(qc_ens_v2)\n",
    "save_dict( r_ens_v2, name = 'ensemble_v2' )"
   ]
  },
  {
   "cell_type": "code",
   "execution_count": null,
   "metadata": {},
   "outputs": [],
   "source": [
    "#diagram = \n",
    "qc_ens_v2.draw(output=\"mpl\")"
   ]
  },
  {
   "cell_type": "code",
   "execution_count": null,
   "metadata": {},
   "outputs": [],
   "source": [
    "print(r1, r2, r3, r4, r_ens, r_ens_v2)"
   ]
  },
  {
   "cell_type": "markdown",
   "metadata": {},
   "source": [
    "# Circuits to run\n",
    "#### 1) Weak classifiers:\n",
    "    qc1, qc2, qc3, qc4\n",
    "#### 2) Quantum ensemble of the 4 classifiers using forking:\n",
    "    qc_ens\n",
    "#### 3) Quantum ensemble version 2:\n",
    "    qc_ens_v2"
   ]
  },
  {
   "cell_type": "code",
   "execution_count": null,
   "metadata": {},
   "outputs": [],
   "source": [
    "qc_t1 = transpile([qc1]*1000, backend_b,optimization_level=1)\n",
    "qc_t2 = transpile([qc]*1000, backend_b,optimization_level=2)\n",
    "qc_t3 = transpile([qc]*1000, backend_b,optimization_level=3)"
   ]
  },
  {
   "cell_type": "code",
   "execution_count": null,
   "metadata": {},
   "outputs": [],
   "source": [
    "qf_ncx1 = [c.count_ops()['cx'] for c in qc_t1]\n",
    "qf_ncx2 = [c.count_ops()['cx'] for c in qc_t2]\n",
    "qf_ncx3 = [c.count_ops()['cx'] for c in qc_t3]"
   ]
  },
  {
   "cell_type": "code",
   "execution_count": null,
   "metadata": {},
   "outputs": [],
   "source": [
    "# check the number of cx gates\n",
    "print('Opt of lv 1: Minimum # of cx gates = %s' % min(qf_ncx1))\n",
    "print('Opt of lv 1: The best circuit is the circut %s' % qf_ncx1.index(min(qf_ncx1)))\n",
    "\n",
    "# check the number of cx gates\n",
    "print('Opt of lv 2: Minimum # of cx gates = %s' % min(qf_ncx2))\n",
    "print('Opt of lv 2: The best circuit is the circut %s' % qf_ncx2.index(min(qf_ncx2)))\n",
    "\n",
    "# check the number of cx gates\n",
    "print('Opt of lv 3: Minimum # of cx gates = %s' % min(qf_ncx3))\n",
    "print('Opt of lv 3: The best circuit is the circut %s' % qf_ncx3.index(min(qf_ncx3)))"
   ]
  },
  {
   "cell_type": "code",
   "execution_count": null,
   "metadata": {},
   "outputs": [],
   "source": [
    "opt_qc = qc_t3[qf_ncx3.index(min(qf_ncx3))]"
   ]
  },
  {
   "cell_type": "code",
   "execution_count": null,
   "metadata": {},
   "outputs": [],
   "source": [
    "opt_qc"
   ]
  },
  {
   "cell_type": "code",
   "execution_count": null,
   "metadata": {},
   "outputs": [],
   "source": [
    "qc_DIR"
   ]
  },
  {
   "cell_type": "code",
   "execution_count": null,
   "metadata": {},
   "outputs": [],
   "source": [
    "qc_OPT"
   ]
  },
  {
   "cell_type": "code",
   "execution_count": null,
   "metadata": {},
   "outputs": [],
   "source": [
    "job = execute(opt_qc, backend_b, shots=8192)"
   ]
  },
  {
   "cell_type": "code",
   "execution_count": null,
   "metadata": {},
   "outputs": [],
   "source": [
    "job.status()"
   ]
  },
  {
   "cell_type": "code",
   "execution_count": null,
   "metadata": {},
   "outputs": [],
   "source": [
    "job.job_id()"
   ]
  }
 ],
 "metadata": {
  "kernelspec": {
   "display_name": "Python 3",
   "language": "python",
   "name": "python3"
  },
  "language_info": {
   "codemirror_mode": {
    "name": "ipython",
    "version": 3
   },
   "file_extension": ".py",
   "mimetype": "text/x-python",
   "name": "python",
   "nbconvert_exporter": "python",
   "pygments_lexer": "ipython3",
   "version": "3.7.3"
  },
  "pycharm": {
   "stem_cell": {
    "cell_type": "raw",
    "metadata": {
     "collapsed": false
    },
    "source": []
   }
  }
 },
 "nbformat": 4,
 "nbformat_minor": 2
}

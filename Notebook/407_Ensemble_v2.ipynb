{
 "cells": [
  {
   "cell_type": "code",
   "execution_count": 2,
   "metadata": {},
   "outputs": [
    {
     "name": "stdout",
     "output_type": "stream",
     "text": [
      "The directory output  already exists\n",
      "The directory IMG  already exists\n"
     ]
    }
   ],
   "source": [
    "# import all functions in Utils\n",
    "# import sys\n",
    "# sys.path.insert(1, '../')\n",
    "\n",
    "from Utils import *\n",
    "\n",
    "# Create folders to save the results\n",
    "output = 'output'\n",
    "folder_img = 'IMG'\n",
    "\n",
    "create_dir(output)\n",
    "create_dir(folder_img)\n",
    "\n",
    "\n",
    "n_shots = 8192"
   ]
  },
  {
   "cell_type": "code",
   "execution_count": 3,
   "metadata": {},
   "outputs": [],
   "source": [
    "''' State Preparation'''\n",
    "#\n",
    "## ++++++++++++++++++++++++++++++++++ ##\n",
    "y_class0 = [1, 0]\n",
    "y_class1 = [0, 1]\n",
    "\n",
    "x1_train = [3,   -1] ; x1_train = normalize_custom(x1_train) # y2 = '1'\n",
    "x2_train = [1,    3] ; x2_train = normalize_custom(x2_train) # y1 = '0'\n",
    "x3_train = [2,   -2] ; x3_train = normalize_custom(x3_train) # y4 = '1'\n",
    "x4_train = [1.5, 2.5]; x4_train = normalize_custom(x4_train) # y3 = '0'\n",
    "\n",
    "D = [x1_train, x2_train, x3_train, x4_train]\n",
    "\n",
    "\n",
    "x_test = [2, 2]; x_test = normalize_custom(x_test)"
   ]
  },
  {
   "cell_type": "code",
   "execution_count": 4,
   "metadata": {},
   "outputs": [],
   "source": [
    "'''Ensemble'''\n",
    "qc_ens =  qc_ensemble_v2(D, x_test)\n",
    "# print(qc_ens)"
   ]
  },
  {
   "cell_type": "code",
   "execution_count": 5,
   "metadata": {},
   "outputs": [],
   "source": [
    "## Ensemble original\n",
    "r_ens_V2 = exec_simulator(qc_ens)\n",
    "save_dict( r_ens_V2, name = output + '/ensemble_v2' )"
   ]
  },
  {
   "cell_type": "code",
   "execution_count": 5,
   "metadata": {},
   "outputs": [
    {
     "name": "stdout",
     "output_type": "stream",
     "text": [
      "{'1': 2513, '0': 5679}\n",
      "0.6932373046875\n"
     ]
    }
   ],
   "source": [
    "print( r_ens_V2)\n",
    "print( r_ens_V2['0']/n_shots)"
   ]
  },
  {
   "cell_type": "code",
   "execution_count": null,
   "metadata": {},
   "outputs": [],
   "source": [
    "### Connection"
   ]
  },
  {
   "cell_type": "code",
   "execution_count": null,
   "metadata": {},
   "outputs": [],
   "source": [
    "qc_t1 = transpile([qc1]*1000, backend_b,optimization_level=1)\n",
    "qc_t2 = transpile([qc]*1000, backend_b,optimization_level=2)\n",
    "qc_t3 = transpile([qc]*1000, backend_b,optimization_level=3)"
   ]
  },
  {
   "cell_type": "code",
   "execution_count": null,
   "metadata": {},
   "outputs": [],
   "source": [
    "qf_ncx1 = [c.count_ops()['cx'] for c in qc_t1]\n",
    "qf_ncx2 = [c.count_ops()['cx'] for c in qc_t2]\n",
    "qf_ncx3 = [c.count_ops()['cx'] for c in qc_t3]"
   ]
  },
  {
   "cell_type": "code",
   "execution_count": null,
   "metadata": {},
   "outputs": [],
   "source": [
    "# check the number of cx gates\n",
    "print('Opt of lv 1: Minimum # of cx gates = %s' % min(qf_ncx1))\n",
    "print('Opt of lv 1: The best circuit is the circut %s' % qf_ncx1.index(min(qf_ncx1)))\n",
    "\n",
    "# check the number of cx gates\n",
    "print('Opt of lv 2: Minimum # of cx gates = %s' % min(qf_ncx2))\n",
    "print('Opt of lv 2: The best circuit is the circut %s' % qf_ncx2.index(min(qf_ncx2)))\n",
    "\n",
    "# check the number of cx gates\n",
    "print('Opt of lv 3: Minimum # of cx gates = %s' % min(qf_ncx3))\n",
    "print('Opt of lv 3: The best circuit is the circut %s' % qf_ncx3.index(min(qf_ncx3)))"
   ]
  },
  {
   "cell_type": "code",
   "execution_count": null,
   "metadata": {},
   "outputs": [],
   "source": [
    "opt_qc = qc_t3[qf_ncx3.index(min(qf_ncx3))]"
   ]
  },
  {
   "cell_type": "code",
   "execution_count": null,
   "metadata": {},
   "outputs": [],
   "source": [
    "opt_qc"
   ]
  },
  {
   "cell_type": "code",
   "execution_count": null,
   "metadata": {},
   "outputs": [],
   "source": [
    "qc_DIR"
   ]
  },
  {
   "cell_type": "code",
   "execution_count": null,
   "metadata": {},
   "outputs": [],
   "source": [
    "qc_OPT"
   ]
  },
  {
   "cell_type": "code",
   "execution_count": null,
   "metadata": {},
   "outputs": [],
   "source": [
    "job = execute(opt_qc, backend_b, shots=8192)"
   ]
  },
  {
   "cell_type": "code",
   "execution_count": null,
   "metadata": {},
   "outputs": [],
   "source": [
    "job.status()"
   ]
  },
  {
   "cell_type": "code",
   "execution_count": null,
   "metadata": {},
   "outputs": [],
   "source": [
    "job.job_id()"
   ]
  }
 ],
 "metadata": {
  "kernelspec": {
   "display_name": "Python 3",
   "language": "python",
   "name": "python3"
  },
  "language_info": {
   "codemirror_mode": {
    "name": "ipython",
    "version": 3
   },
   "file_extension": ".py",
   "mimetype": "text/x-python",
   "name": "python",
   "nbconvert_exporter": "python",
   "pygments_lexer": "ipython3",
   "version": "3.7.3"
  },
  "pycharm": {
   "stem_cell": {
    "cell_type": "raw",
    "metadata": {
     "collapsed": false
    },
    "source": []
   }
  }
 },
 "nbformat": 4,
 "nbformat_minor": 2
}

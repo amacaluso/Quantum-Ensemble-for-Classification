{
 "cells": [
  {
   "cell_type": "markdown",
   "metadata": {},
   "source": [
    "# Ensemble of 4 cosine distance classifier as Simple Averaging"
   ]
  },
  {
   "cell_type": "markdown",
   "metadata": {},
   "source": [
    "This notebook shows that thealgorithm for quantum Ensemble is able to reproduce the average of multiple cosine classifiers with just one implementation of the quantum cosine classifier"
   ]
  },
  {
   "cell_type": "markdown",
   "metadata": {},
   "source": [
    "Import pakages and functions"
   ]
  },
  {
   "cell_type": "code",
   "execution_count": 1,
   "metadata": {},
   "outputs": [],
   "source": [
    "%matplotlib inline\n",
    "\n",
    "import sys\n",
    "sys.path.insert(1, '../')\n",
    "\n",
    "from Utils import *\n",
    "from modeling import *"
   ]
  },
  {
   "cell_type": "markdown",
   "metadata": {},
   "source": [
    "Create custom dataset and compute the prediction of the cosine classifier of each training vector classicaly"
   ]
  },
  {
   "cell_type": "code",
   "execution_count": 2,
   "metadata": {},
   "outputs": [],
   "source": [
    "# Load data without normalisation\n",
    "X_data, Y_data, x_test = load_data_custom(normalize = False)\n",
    "\n",
    "# Define the cosine classifier\n",
    "def cosine_classifier(x,y):\n",
    "    return 1/2 + (cosine_similarity([x], [y])**2)/2\n",
    "\n",
    "# Create table as shown in the paper (Table 1)\n",
    "data = pd.DataFrame(X_data, columns = [r'$X_1$', r'$X_2$']) #cosine_classifier(X_data[0], x_test)[0]\n",
    "y = [c[1] for c in Y_data]\n",
    "p = [cosine_classifier(x, x_test)[0][0] for x in X_data]\n",
    "dist = [cosine_similarity([x], [x_test])[0][0] for x in X_data]\n",
    "probs = []\n",
    "dist = np.round(dist,2)\n",
    "\n",
    "for i,j in zip(y,p):\n",
    "    if i == 0:\n",
    "        probs.append(1-j)\n",
    "    else:\n",
    "        probs.append(j)\n",
    "\n",
    "probs = np.array(probs)\n",
    "data[r'$y$'] = np.array(y)\n",
    "data[r'$d(\\cdot, \\tilde{x})$'] = dist\n",
    "data[r'$P(\\tilde{y}=1|x_b, y_b)$'] = probs\n",
    "data.index = [r'$x_1$', r'$x_2$', r'$x_3$', r'$x_4$',]"
   ]
  },
  {
   "cell_type": "code",
   "execution_count": 3,
   "metadata": {},
   "outputs": [
    {
     "data": {
      "text/html": [
       "<div>\n",
       "<style scoped>\n",
       "    .dataframe tbody tr th:only-of-type {\n",
       "        vertical-align: middle;\n",
       "    }\n",
       "\n",
       "    .dataframe tbody tr th {\n",
       "        vertical-align: top;\n",
       "    }\n",
       "\n",
       "    .dataframe thead th {\n",
       "        text-align: right;\n",
       "    }\n",
       "</style>\n",
       "<table border=\"1\" class=\"dataframe\">\n",
       "  <thead>\n",
       "    <tr style=\"text-align: right;\">\n",
       "      <th></th>\n",
       "      <th>$X_1$</th>\n",
       "      <th>$X_2$</th>\n",
       "      <th>$y$</th>\n",
       "      <th>$d(\\cdot, \\tilde{x})$</th>\n",
       "      <th>$P(\\tilde{y}=1|x_b, y_b)$</th>\n",
       "    </tr>\n",
       "  </thead>\n",
       "  <tbody>\n",
       "    <tr>\n",
       "      <th>$x_1$</th>\n",
       "      <td>1</td>\n",
       "      <td>3</td>\n",
       "      <td>0</td>\n",
       "      <td>0.89</td>\n",
       "      <td>0.10</td>\n",
       "    </tr>\n",
       "    <tr>\n",
       "      <th>$x_2$</th>\n",
       "      <td>-2</td>\n",
       "      <td>2</td>\n",
       "      <td>1</td>\n",
       "      <td>0.00</td>\n",
       "      <td>0.50</td>\n",
       "    </tr>\n",
       "    <tr>\n",
       "      <th>$x_3$</th>\n",
       "      <td>3</td>\n",
       "      <td>0</td>\n",
       "      <td>0</td>\n",
       "      <td>0.71</td>\n",
       "      <td>0.25</td>\n",
       "    </tr>\n",
       "    <tr>\n",
       "      <th>$x_4$</th>\n",
       "      <td>3</td>\n",
       "      <td>1</td>\n",
       "      <td>1</td>\n",
       "      <td>0.89</td>\n",
       "      <td>0.90</td>\n",
       "    </tr>\n",
       "  </tbody>\n",
       "</table>\n",
       "</div>"
      ],
      "text/plain": [
       "       $X_1$  $X_2$  $y$  $d(\\cdot, \\tilde{x})$  $P(\\tilde{y}=1|x_b, y_b)$\n",
       "$x_1$      1      3    0                   0.89                       0.10\n",
       "$x_2$     -2      2    1                   0.00                       0.50\n",
       "$x_3$      3      0    0                   0.71                       0.25\n",
       "$x_4$      3      1    1                   0.89                       0.90"
      ]
     },
     "execution_count": 3,
     "metadata": {},
     "output_type": "execute_result"
    }
   ],
   "source": [
    "data"
   ]
  },
  {
   "cell_type": "markdown",
   "metadata": {},
   "source": [
    "#### Quantum cosine classifiers"
   ]
  },
  {
   "cell_type": "code",
   "execution_count": 4,
   "metadata": {},
   "outputs": [],
   "source": [
    "# Load normalised data\n",
    "X_data, Y_data, x_test = load_data_custom()"
   ]
  },
  {
   "cell_type": "markdown",
   "metadata": {},
   "source": [
    "Implement and execute the four quantum cosine classifiers: for each training point in X_data we build the cosine classifier to compute the target variable for the test point $\\tilde{x}$. Thus, given the measurements we retrieve the probabilities with the function retrieve_proba."
   ]
  },
  {
   "cell_type": "code",
   "execution_count": 5,
   "metadata": {},
   "outputs": [],
   "source": [
    "qc1 = cos_classifier(X_data[0], x_test, Y_data[0] )\n",
    "r1 = exec_simulator(qc1)\n",
    "r1 = retrieve_proba(r1) \n",
    "\n",
    "qc2 = cos_classifier(X_data[1], x_test, Y_data[1])\n",
    "r2 = exec_simulator(qc2)\n",
    "r2 = retrieve_proba(r2)\n",
    "\n",
    "qc3 = cos_classifier(X_data[2], x_test, Y_data[2])\n",
    "r3 = exec_simulator(qc3)\n",
    "r3 = retrieve_proba(r3)\n",
    "\n",
    "qc4 = cos_classifier(X_data[3], x_test, Y_data[3])\n",
    "r4 = exec_simulator(qc4)\n",
    "r4 = retrieve_proba(r4)\n",
    "\n",
    "out = [r1, r2, r3, r4]"
   ]
  },
  {
   "cell_type": "code",
   "execution_count": 8,
   "metadata": {},
   "outputs": [
    {
     "data": {
      "text/html": [
       "<pre style=\"word-wrap: normal;white-space: pre;background: #fff0;line-height: 1.1;font-family: &quot;Courier New&quot;,Courier,monospace\">           ┌─────────────────────────────┐ ░               ░         \n",
       "    x_b_0: ┤ Initialize(0.31623,0.94868) ├─░───────X───────░─────────\n",
       "           ├─────────────────────────────┤ ░       │       ░         \n",
       " x_test_0: ┤ Initialize(0.70711,0.70711) ├─░───────X───────░─────────\n",
       "           └─────┬─────────────────┬─────┘ ░       │       ░         \n",
       "y_train_0: ──────┤ Initialize(1,0) ├───────░───────┼───────░───■─────\n",
       "                 └─────────────────┘       ░ ┌───┐ │ ┌───┐ ░ ┌─┴─┐┌─┐\n",
       "ancilla_0: ────────────────────────────────░─┤ H ├─■─┤ H ├─░─┤ X ├┤M├\n",
       "                                           ░ └───┘   └───┘ ░ └───┘└╥┘\n",
       "      c_0: ════════════════════════════════════════════════════════╩═\n",
       "                                                                     </pre>"
      ],
      "text/plain": [
       "           ┌─────────────────────────────┐ ░               ░         \n",
       "    x_b_0: ┤ Initialize(0.31623,0.94868) ├─░───────X───────░─────────\n",
       "           ├─────────────────────────────┤ ░       │       ░         \n",
       " x_test_0: ┤ Initialize(0.70711,0.70711) ├─░───────X───────░─────────\n",
       "           └─────┬─────────────────┬─────┘ ░       │       ░         \n",
       "y_train_0: ──────┤ Initialize(1,0) ├───────░───────┼───────░───■─────\n",
       "                 └─────────────────┘       ░ ┌───┐ │ ┌───┐ ░ ┌─┴─┐┌─┐\n",
       "ancilla_0: ────────────────────────────────░─┤ H ├─■─┤ H ├─░─┤ X ├┤M├\n",
       "                                           ░ └───┘   └───┘ ░ └───┘└╥┘\n",
       "      c_0: ════════════════════════════════════════════════════════╩═\n",
       "                                                                     "
      ]
     },
     "execution_count": 8,
     "metadata": {},
     "output_type": "execute_result"
    }
   ],
   "source": [
    "qc1.draw(output='text')"
   ]
  },
  {
   "cell_type": "markdown",
   "metadata": {},
   "source": [
    "We compute the average of the predictions provided by the four quantum cosine classifiers that correspond to the theoretical ensemble prediction, using simple averaging as aggregation strategy."
   ]
  },
  {
   "cell_type": "code",
   "execution_count": 9,
   "metadata": {},
   "outputs": [],
   "source": [
    "p0 = [p[0] for p in out]\n",
    "p1 = [p[1] for p in out]\n",
    "r_avg = [np.mean(p0), np.mean(p1)]\n",
    "# print(np.mean(p0), np.mean(p1))"
   ]
  },
  {
   "cell_type": "markdown",
   "metadata": {},
   "source": [
    "We build the ensemble of the four quantum cosine classifiers. In particular we set $d=2$ so that the ensemble size is equal to $B=2^d$. The data register is composed by $8$ qubits($4$ contains the normalised value of the trainin vectors encoded in the amplitud, other four are for the labels, in particular quantum state $ \\left| 0 \\right\\rangle $ for class $0$ and state $ \\left| 1 \\right\\rangle$ for class $1$."
   ]
  },
  {
   "cell_type": "markdown",
   "metadata": {},
   "source": [
    "Since we build an ensemble of $4$ classifiers we need $2 \\times d$ of  $U_{(i,j)}$ gates, each of them corresponds to a two swap operations:\n",
    "\n",
    "$$U_{(1,1)} = \\text{swap}(x_0,x_2) \\times \\text{swap}(y_0,y_2)$$\n",
    "$$U_{(1,2)} = \\text{swap}(x_1,x_3) \\times \\text{swap}(y_1,y_3)$$\n",
    "$$U_{(2,1)} = \\mathbb{I} \\times \\mathbb{I} $$\n",
    "$$U_{(2,2)} = \\text{swap}(x_2,x_3) \\times \\text{swap}(y_2,y_3)$$\n",
    "\n",
    "where $ \\mathbb{I}$ is the identity matrix. This choice for the $U_{(i,j)}$ guarantees that each qubit of the control register is entangled with a different point of data.\n"
   ]
  },
  {
   "cell_type": "code",
   "execution_count": 10,
   "metadata": {},
   "outputs": [],
   "source": [
    "qc = ensemble_fixed_U(X_data, Y_data, x_test)"
   ]
  },
  {
   "cell_type": "code",
   "execution_count": 11,
   "metadata": {},
   "outputs": [
    {
     "name": "stdout",
     "output_type": "stream",
     "text": [
      "[0.56, 0.43999999999999995]\n"
     ]
    }
   ],
   "source": [
    "r = exec_simulator(qc, n_shots=100)\n",
    "r_ens = retrieve_proba(r)\n",
    "print(r_ens)"
   ]
  },
  {
   "cell_type": "code",
   "execution_count": 12,
   "metadata": {},
   "outputs": [
    {
     "data": {
      "text/html": [
       "<pre style=\"word-wrap: normal;white-space: pre;background: #fff0;line-height: 1.1;font-family: &quot;Courier New&quot;,Courier,monospace\">                         ┌───┐               ░       ┌───┐       ░            »\n",
       "       d_0: ─────────────┤ H ├───────────────░──■──■─┤ X ├─■──■──░────────────»\n",
       "                         ├───┤               ░  │  │ └───┘ │  │  ░ ┌───┐      »\n",
       "       d_1: ─────────────┤ H ├───────────────░──┼──┼───────┼──┼──░─┤ X ├─■──■─»\n",
       "            ┌────────────┴───┴────────────┐  ░  │  │       │  │  ░ └───┘ │  │ »\n",
       "       x_0: ┤ Initialize(0.31623,0.94868) ├──░──X──┼───────┼──┼──░───────┼──┼─»\n",
       "            ├─────────────────────────────┴┐ ░  │  │       │  │  ░       │  │ »\n",
       "       x_1: ┤ Initialize(-0.70711,0.70711) ├─░──┼──┼───────X──┼──░───────┼──┼─»\n",
       "            └─────┬─────────────────┬──────┘ ░  │  │       │  │  ░       │  │ »\n",
       "       x_2: ──────┤ Initialize(1,0) ├────────░──X──┼───────┼──┼──░───────X──┼─»\n",
       "            ┌─────┴─────────────────┴─────┐  ░     │       │  │  ░       │  │ »\n",
       "       x_3: ┤ Initialize(0.94868,0.31623) ├──░─────┼───────X──┼──░───────X──┼─»\n",
       "            └─────┬─────────────────┬─────┘  ░     │          │  ░          │ »\n",
       "       y_0: ──────┤ Initialize(1,0) ├────────░─────X──────────┼──░──────────┼─»\n",
       "                  ├─────────────────┤        ░     │          │  ░          │ »\n",
       "       y_1: ──────┤ Initialize(0,1) ├────────░─────┼──────────X──░──────────┼─»\n",
       "                  ├─────────────────┤        ░     │          │  ░          │ »\n",
       "       y_2: ──────┤ Initialize(1,0) ├────────░─────X──────────┼──░──────────X─»\n",
       "                  ├─────────────────┤        ░                │  ░          │ »\n",
       "       y_3: ──────┤ Initialize(0,1) ├────────░────────────────X──░──────────X─»\n",
       "                  └─────────────────┘        ░                   ░            »\n",
       "x^{test}_0: ─────────────────────────────────░───────────────────░────────────»\n",
       "                                             ░                   ░            »\n",
       "y^{test}_0: ─────────────────────────────────░───────────────────░────────────»\n",
       "                                             ░                   ░            »\n",
       "       c_0: ══════════════════════════════════════════════════════════════════»\n",
       "                                                                              »\n",
       "«             ░                                 ░                      \n",
       "«       d_0: ─░─────────────────────────────────░──────────────────────\n",
       "«             ░                                 ░                      \n",
       "«       d_1: ─░─────────────────────────────────░──────────────────────\n",
       "«             ░                                 ░                      \n",
       "«       x_0: ─░─────────────────────────────────░──────────────────────\n",
       "«             ░                                 ░                      \n",
       "«       x_1: ─░─────────────────────────────────░──────────────────────\n",
       "«             ░                                 ░                      \n",
       "«       x_2: ─░─────────────────────────────────░──────────────────────\n",
       "«             ░                                 ░                      \n",
       "«       x_3: ─░─────────────────────────────────░───────X──────────────\n",
       "«             ░                                 ░       │              \n",
       "«       y_0: ─░─────────────────────────────────░───────┼──────────────\n",
       "«             ░                                 ░       │              \n",
       "«       y_1: ─░─────────────────────────────────░───────┼──────────────\n",
       "«             ░                                 ░       │              \n",
       "«       y_2: ─░─────────────────────────────────░───────┼──────────────\n",
       "«             ░                                 ░       │              \n",
       "«       y_3: ─░─────────────────────────────────░───────┼────────■─────\n",
       "«             ░ ┌─────────────────────────────┐ ░       │        │     \n",
       "«x^{test}_0: ─░─┤ Initialize(0.70711,0.70711) ├─░───────X────────┼─────\n",
       "«             ░ └─────────────────────────────┘ ░ ┌───┐ │ ┌───┐┌─┴─┐┌─┐\n",
       "«y^{test}_0: ─░─────────────────────────────────░─┤ H ├─■─┤ H ├┤ X ├┤M├\n",
       "«             ░                                 ░ └───┘   └───┘└───┘└╥┘\n",
       "«       c_0: ════════════════════════════════════════════════════════╩═\n",
       "«                                                                      </pre>"
      ],
      "text/plain": [
       "                         ┌───┐               ░       ┌───┐       ░            »\n",
       "       d_0: ─────────────┤ H ├───────────────░──■──■─┤ X ├─■──■──░────────────»\n",
       "                         ├───┤               ░  │  │ └───┘ │  │  ░ ┌───┐      »\n",
       "       d_1: ─────────────┤ H ├───────────────░──┼──┼───────┼──┼──░─┤ X ├─■──■─»\n",
       "            ┌────────────┴───┴────────────┐  ░  │  │       │  │  ░ └───┘ │  │ »\n",
       "       x_0: ┤ Initialize(0.31623,0.94868) ├──░──X──┼───────┼──┼──░───────┼──┼─»\n",
       "            ├─────────────────────────────┴┐ ░  │  │       │  │  ░       │  │ »\n",
       "       x_1: ┤ Initialize(-0.70711,0.70711) ├─░──┼──┼───────X──┼──░───────┼──┼─»\n",
       "            └─────┬─────────────────┬──────┘ ░  │  │       │  │  ░       │  │ »\n",
       "       x_2: ──────┤ Initialize(1,0) ├────────░──X──┼───────┼──┼──░───────X──┼─»\n",
       "            ┌─────┴─────────────────┴─────┐  ░     │       │  │  ░       │  │ »\n",
       "       x_3: ┤ Initialize(0.94868,0.31623) ├──░─────┼───────X──┼──░───────X──┼─»\n",
       "            └─────┬─────────────────┬─────┘  ░     │          │  ░          │ »\n",
       "       y_0: ──────┤ Initialize(1,0) ├────────░─────X──────────┼──░──────────┼─»\n",
       "                  ├─────────────────┤        ░     │          │  ░          │ »\n",
       "       y_1: ──────┤ Initialize(0,1) ├────────░─────┼──────────X──░──────────┼─»\n",
       "                  ├─────────────────┤        ░     │          │  ░          │ »\n",
       "       y_2: ──────┤ Initialize(1,0) ├────────░─────X──────────┼──░──────────X─»\n",
       "                  ├─────────────────┤        ░                │  ░          │ »\n",
       "       y_3: ──────┤ Initialize(0,1) ├────────░────────────────X──░──────────X─»\n",
       "                  └─────────────────┘        ░                   ░            »\n",
       "x^{test}_0: ─────────────────────────────────░───────────────────░────────────»\n",
       "                                             ░                   ░            »\n",
       "y^{test}_0: ─────────────────────────────────░───────────────────░────────────»\n",
       "                                             ░                   ░            »\n",
       "       c_0: ══════════════════════════════════════════════════════════════════»\n",
       "                                                                              »\n",
       "«             ░                                 ░                      \n",
       "«       d_0: ─░─────────────────────────────────░──────────────────────\n",
       "«             ░                                 ░                      \n",
       "«       d_1: ─░─────────────────────────────────░──────────────────────\n",
       "«             ░                                 ░                      \n",
       "«       x_0: ─░─────────────────────────────────░──────────────────────\n",
       "«             ░                                 ░                      \n",
       "«       x_1: ─░─────────────────────────────────░──────────────────────\n",
       "«             ░                                 ░                      \n",
       "«       x_2: ─░─────────────────────────────────░──────────────────────\n",
       "«             ░                                 ░                      \n",
       "«       x_3: ─░─────────────────────────────────░───────X──────────────\n",
       "«             ░                                 ░       │              \n",
       "«       y_0: ─░─────────────────────────────────░───────┼──────────────\n",
       "«             ░                                 ░       │              \n",
       "«       y_1: ─░─────────────────────────────────░───────┼──────────────\n",
       "«             ░                                 ░       │              \n",
       "«       y_2: ─░─────────────────────────────────░───────┼──────────────\n",
       "«             ░                                 ░       │              \n",
       "«       y_3: ─░─────────────────────────────────░───────┼────────■─────\n",
       "«             ░ ┌─────────────────────────────┐ ░       │        │     \n",
       "«x^{test}_0: ─░─┤ Initialize(0.70711,0.70711) ├─░───────X────────┼─────\n",
       "«             ░ └─────────────────────────────┘ ░ ┌───┐ │ ┌───┐┌─┴─┐┌─┐\n",
       "«y^{test}_0: ─░─────────────────────────────────░─┤ H ├─■─┤ H ├┤ X ├┤M├\n",
       "«             ░                                 ░ └───┘   └───┘└───┘└╥┘\n",
       "«       c_0: ════════════════════════════════════════════════════════╩═\n",
       "«                                                                      "
      ]
     },
     "execution_count": 12,
     "metadata": {},
     "output_type": "execute_result"
    }
   ],
   "source": [
    "qc.draw(output='text')"
   ]
  },
  {
   "cell_type": "code",
   "execution_count": 13,
   "metadata": {},
   "outputs": [],
   "source": [
    "# collect the results\n",
    "out_sim = [r1, r2, r3, r4, r_avg, r_ens]"
   ]
  },
  {
   "cell_type": "code",
   "execution_count": 14,
   "metadata": {},
   "outputs": [
    {
     "data": {
      "image/png": "[encoded data removed]",
      "text/plain": [
       "<Figure size 432x288 with 1 Axes>"
      ]
     },
     "metadata": {
      "needs_background": "light"
     },
     "output_type": "display_data"
    }
   ],
   "source": [
    "plot_cls(out_sim, title= '', file='SIM_ens_vs_single')"
   ]
  },
  {
   "cell_type": "markdown",
   "metadata": {},
   "source": [
    "### Conclusion"
   ]
  },
  {
   "cell_type": "markdown",
   "metadata": {},
   "source": [
    "##### Perform the same computation in real device"
   ]
  },
  {
   "cell_type": "code",
   "execution_count": 67,
   "metadata": {},
   "outputs": [],
   "source": [
    "# Execution on real device\n",
    "IBMQ.load_account()\n",
    "provider = IBMQ.get_provider(hub='ibm-q')\n",
    "provider.backends()\n",
    "backend = provider.get_backend('ibmq_rome')\n",
    "# optimization_level=3\n",
    "\n",
    "def run_real_device(qc, backend, shots=8192):\n",
    "    job = execute(qc, backend, shots=shots)\n",
    "    results = job.result()\n",
    "    r = results.get_counts(qc)\n",
    "    return r"
   ]
  },
  {
   "cell_type": "code",
   "execution_count": 68,
   "metadata": {},
   "outputs": [],
   "source": [
    "qc1 = cos_classifier(X_data[0], x_test, Y_data[0])\n",
    "r1 = run_real_device(qc1, backend)\n",
    "r1 = retrieve_proba(r1)\n",
    "\n",
    "qc2 = cos_classifier(X_data[1], x_test, Y_data[1])\n",
    "r2 = run_real_device(qc2, backend)\n",
    "r2 = retrieve_proba(r2)\n",
    "\n",
    "qc3 = cos_classifier(X_data[2], x_test, Y_data[2])\n",
    "r3 = run_real_device(qc3, backend)\n",
    "r3 = retrieve_proba(r3)\n",
    "\n",
    "qc4 = cos_classifier(X_data[3], x_test, Y_data[3])\n",
    "r4 = run_real_device(qc4, backend)\n",
    "r4 = retrieve_proba(r4)\n",
    "\n",
    "out = [r1, r2, r3, r4]\n",
    "\n",
    "p0 = [p[0] for p in out]\n",
    "p1 = [p[1] for p in out]\n",
    "r_avg = [np.mean(p0), np.mean(p1)]"
   ]
  },
  {
   "cell_type": "code",
   "execution_count": 69,
   "metadata": {},
   "outputs": [
    {
     "name": "stdout",
     "output_type": "stream",
     "text": [
      "[0.6080322265625, 0.3919677734375]\n"
     ]
    }
   ],
   "source": [
    "backend = provider.get_backend('ibmq_16_melbourne')\n",
    "\n",
    "qc = ensemble_fixed_U(X_data, Y_data, x_test)\n",
    "#qc = transpile(qc, basis_gates = ['u1', 'u2', 'u3', 'cx'], optimization_level=3)\n",
    "\n",
    "r_ens = run_real_device(qc1, backend)\n",
    "r_ens = retrieve_proba(r_ens)\n",
    "print(r_ens)"
   ]
  },
  {
   "cell_type": "code",
   "execution_count": 70,
   "metadata": {},
   "outputs": [],
   "source": [
    "out_real = [r1, r2, r3, r4, r_avg, r_ens]"
   ]
  },
  {
   "cell_type": "code",
   "execution_count": 77,
   "metadata": {},
   "outputs": [
    {
     "data": {
      "image/png": "[encoded data removed]",
      "text/plain": [
       "<Figure size 432x288 with 1 Axes>"
      ]
     },
     "metadata": {
      "needs_background": "light"
     },
     "output_type": "display_data"
    }
   ],
   "source": [
    "plot_cls(out_real, title='', file='RL_ens_vs_single')\n",
    "data_pred = pd.DataFrame(out, columns=['p0', 'p1'])\n",
    "data_pred.to_csv('output/rl_results.csv', index=False)"
   ]
  }
 ],
 "metadata": {
  "kernelspec": {
   "display_name": "Python 3",
   "language": "python",
   "name": "python3"
  },
  "language_info": {
   "codemirror_mode": {
    "name": "ipython",
    "version": 3
   },
   "file_extension": ".py",
   "mimetype": "text/x-python",
   "name": "python",
   "nbconvert_exporter": "python",
   "pygments_lexer": "ipython3",
   "version": "3.7.6"
  }
 },
 "nbformat": 4,
 "nbformat_minor": 2
}

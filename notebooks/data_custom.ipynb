{
 "cells": [
  {
   "cell_type": "code",
   "execution_count": 1,
   "metadata": {},
   "outputs": [],
   "source": [
    "import sys\n",
    "sys.path.insert(1, '../')\n",
    "\n",
    "from Utils import *"
   ]
  },
  {
   "cell_type": "code",
   "execution_count": 4,
   "metadata": {},
   "outputs": [
    {
     "name": "stdout",
     "output_type": "stream",
     "text": [
      "[[1, 3], [-2, 2], [3, 0], [3, 1]]\n"
     ]
    },
    {
     "data": {
      "image/png": "[encoded data removed]",
      "text/plain": [
       "<Figure size 432x288 with 1 Axes>"
      ]
     },
     "metadata": {
      "needs_background": "light"
     },
     "output_type": "display_data"
    }
   ],
   "source": [
    "X_data, Y_data, x_test = load_data_custom()"
   ]
  },
  {
   "cell_type": "code",
   "execution_count": 19,
   "metadata": {},
   "outputs": [
    {
     "name": "stdout",
     "output_type": "stream",
     "text": [
      "[0.889, 0.11099999999999999]\n",
      "[0.522, 0.478]\n",
      "[0.736, 0.264]\n",
      "[0.105, 0.895]\n",
      "0.5630000000000001 0.437\n"
     ]
    }
   ],
   "source": [
    "qc1 = cos_classifier(X_data[0], x_test, Y_data[0] )\n",
    "r1 = exec_simulator(qc1)\n",
    "r1 = retrieve_proba(r1) \n",
    "print(r1)\n",
    "\n",
    "qc2 = cos_classifier(X_data[1], x_test, Y_data[1])\n",
    "r2 = exec_simulator(qc2)\n",
    "r2 = retrieve_proba(r2)\n",
    "print(r2)\n",
    "\n",
    "qc3 = cos_classifier(X_data[2], x_test, Y_data[2])\n",
    "r3 = exec_simulator(qc3)\n",
    "r3 = retrieve_proba(r3)\n",
    "print(r3)\n",
    "\n",
    "qc4 = cos_classifier(X_data[3], x_test, Y_data[3])\n",
    "r4 = exec_simulator(qc4)\n",
    "r4 = retrieve_proba(r4)\n",
    "print(r4)\n",
    "\n",
    "out = [r1, r2, r3, r4]\n",
    "\n",
    "p0 = [p[0] for p in out]\n",
    "p1 = [p[1] for p in out]\n",
    "print(np.mean(p0), np.mean(p1))\n",
    "r_avg = [np.mean(p0), np.mean(p1)]"
   ]
  },
  {
   "cell_type": "code",
   "execution_count": 10,
   "metadata": {},
   "outputs": [
    {
     "name": "stdout",
     "output_type": "stream",
     "text": [
      "[0.56103515625, 0.43896484375]\n"
     ]
    }
   ],
   "source": [
    "qc = ensemble_cos(X_data, Y_data, x_test)\n",
    "r = exec_simulator(qc, n_shots=8192)\n",
    "r_ens = retrieve_proba(r)\n",
    "print(r_ens)"
   ]
  },
  {
   "cell_type": "code",
   "execution_count": 11,
   "metadata": {},
   "outputs": [
    {
     "name": "stdout",
     "output_type": "stream",
     "text": [
      "                        ┌───┐               ░       ┌───┐       ░            »\n",
      "q128_0: |0>─────────────┤ H ├───────────────░──■──■─┤ X ├─■──■──░────────────»\n",
      "                        ├───┤               ░  │  │ └───┘ │  │  ░ ┌───┐      »\n",
      "q128_1: |0>─────────────┤ H ├───────────────░──┼──┼───────┼──┼──░─┤ X ├─■──■─»\n",
      "           ┌────────────┴───┴────────────┐  ░  │  │       │  │  ░ └───┘ │  │ »\n",
      "   x_0: |0>┤ Initialize(0.31623,0.94868) ├──░──X──┼───────┼──┼──░───────┼──┼─»\n",
      "           ├─────────────────────────────┴┐ ░  │  │       │  │  ░       │  │ »\n",
      "   x_1: |0>┤ Initialize(-0.70711,0.70711) ├─░──┼──┼───────X──┼──░───────┼──┼─»\n",
      "           └─────┬─────────────────┬──────┘ ░  │  │       │  │  ░       │  │ »\n",
      "   x_2: |0>──────┤ Initialize(1,0) ├────────░──X──┼───────┼──┼──░───────X──┼─»\n",
      "           ┌─────┴─────────────────┴─────┐  ░     │       │  │  ░       │  │ »\n",
      "   x_3: |0>┤ Initialize(0.94868,0.31623) ├──░─────┼───────X──┼──░───────X──┼─»\n",
      "           └─────┬─────────────────┬─────┘  ░     │          │  ░          │ »\n",
      "   y_0: |0>──────┤ Initialize(1,0) ├────────░─────X──────────┼──░──────────┼─»\n",
      "                 ├─────────────────┤        ░     │          │  ░          │ »\n",
      "   y_1: |0>──────┤ Initialize(0,1) ├────────░─────┼──────────X──░──────────┼─»\n",
      "                 ├─────────────────┤        ░     │          │  ░          │ »\n",
      "   y_2: |0>──────┤ Initialize(1,0) ├────────░─────X──────────┼──░──────────X─»\n",
      "                 ├─────────────────┤        ░                │  ░          │ »\n",
      "   y_3: |0>──────┤ Initialize(0,1) ├────────░────────────────X──░──────────X─»\n",
      "                 └─────────────────┘        ░                   ░            »\n",
      "test_0: |0>─────────────────────────────────░───────────────────░────────────»\n",
      "                                            ░                   ░            »\n",
      "  c10_0: 0 ══════════════════════════════════════════════════════════════════»\n",
      "                                                                             »\n",
      "«         ░                                           \n",
      "«q128_0: ─░───────────────────────────────────────────\n",
      "«         ░                                           \n",
      "«q128_1: ─░───────────────────────────────────────────\n",
      "«         ░                                           \n",
      "«   x_0: ─░───────────────────────────────────────────\n",
      "«         ░                                           \n",
      "«   x_1: ─░───────────────────────────────────────────\n",
      "«         ░                                           \n",
      "«   x_2: ─░───────────────────────────────────────────\n",
      "«         ░                                           \n",
      "«   x_3: ─░─────────────────────────────────X─────────\n",
      "«         ░                                 │         \n",
      "«   y_0: ─░─────────────────────────────────┼─────────\n",
      "«         ░                                 │         \n",
      "«   y_1: ─░─────────────────────────────────┼─────────\n",
      "«         ░                                 │         \n",
      "«   y_2: ─░─────────────────────────────────┼─────────\n",
      "«         ░              ┌───┐              │ ┌───┐┌─┐\n",
      "«   y_3: ─░──────────────┤ H ├──────────────■─┤ H ├┤M├\n",
      "«         ░ ┌────────────┴───┴────────────┐ │ └───┘└╥┘\n",
      "«test_0: ─░─┤ Initialize(0.70711,0.70711) ├─X───────╫─\n",
      "«         ░ └─────────────────────────────┘         ║ \n",
      "« c10_0: ═══════════════════════════════════════════╩═\n",
      "«                                                     \n"
     ]
    }
   ],
   "source": [
    "print(qc)"
   ]
  },
  {
   "cell_type": "code",
   "execution_count": 21,
   "metadata": {},
   "outputs": [
    {
     "name": "stdout",
     "output_type": "stream",
     "text": [
      "[[0.889, 0.11099999999999999], [0.522, 0.478], [0.736, 0.264], [0.105, 0.895], [0.5630000000000001, 0.437], [0.56103515625, 0.43896484375]]\n"
     ]
    }
   ],
   "source": [
    "out = [r1, r2, r3, r4, r_avg, r_ens]\n",
    "print(out)"
   ]
  },
  {
   "cell_type": "code",
   "execution_count": 22,
   "metadata": {},
   "outputs": [],
   "source": [
    "def plot_cls(predictions, \n",
    "             labels = ['$C_1$', '$C_2$', '$C_3$', '$C_4$', 'AVG', '$Ensemble$'],\n",
    "             title = 'Test point classification' ):\n",
    "    N = len(predictions)\n",
    "    fig, ax = plt.subplots()\n",
    "    ind = np.arange(N)    # the x locations for the groups\n",
    "    width = 0.35         # the width of the bars\n",
    "    prob_0 = [p[0] for p in predictions]\n",
    "    prob_1 = [p[1] for p in predictions]\n",
    "    #label = [l['label'] for l in dictionary]\n",
    "    pl1 = ax.bar(ind, prob_0, width, bottom=0)\n",
    "    pl2 = ax.bar(ind + width, prob_1, width, bottom=0)\n",
    "    ax.set_title( title )\n",
    "    ax.set_xticks(ind + width / 2)\n",
    "    ax.set_xticklabels( labels )\n",
    "    ax.legend((pl1[0], pl2[0]), ('P(y=0)', 'P(y=1)'))\n",
    "    ax.autoscale_view()\n",
    "    plt.show()\n",
    "plot_cls(out, title= 'Comparisons_circuit')"
   ]
  },
  {
   "cell_type": "code",
   "execution_count": 24,
   "metadata": {},
   "outputs": [
    {
     "data": {
      "image/png": "[encoded data removed]",
      "text/plain": [
       "<Figure size 432x288 with 1 Axes>"
      ]
     },
     "metadata": {
      "needs_background": "light"
     },
     "output_type": "display_data"
    },
    {
     "name": "stdout",
     "output_type": "stream",
     "text": [
      "[[0.889, 0.11099999999999999], [0.522, 0.478], [0.736, 0.264], [0.105, 0.895], [0.5630000000000001, 0.437], [0.56103515625, 0.43896484375]]\n"
     ]
    }
   ],
   "source": []
  },
  {
   "cell_type": "code",
   "execution_count": null,
   "metadata": {},
   "outputs": [],
   "source": [
    "X, y = load_data()\n",
    "\n",
    "test_size = .1\n",
    "X_train, X_test, y_train, y_test = train_test_split(X, y, random_state=seed, test_size=test_size)\n",
    "\n",
    "Y_vector_train = label_to_array(y_train)\n",
    "Y_vector_test = label_to_array(y_test)\n",
    "\n",
    "print(\"Size Training Set: \", len(X_train))\n",
    "print(\"Size Test Set: \", len(X_test))\n",
    "\n",
    "accuracy = []\n",
    "n_shots = 10\n",
    "for i in range(10):\n",
    "    #initialisation\n",
    "    n = range(len(X_train))\n",
    "    TP = 0\n",
    "    predictions = []\n",
    "    probabilities = []\n",
    "\n",
    "    for x_test, y_ts in zip(X_test, Y_vector_test):\n",
    "        ix = np.random.choice(n, 1)[0]\n",
    "        x_train = X_train[ix]\n",
    "        x_tr = normalize_custom(x_train)\n",
    "        y_tr = Y_vector_train[ix]\n",
    "        x_ts = normalize_custom(x_test)\n",
    "\n",
    "        qc = cos_classifier(x_tr, x_ts, y_tr)\n",
    "        r = exec_simulator(qc, n_shots=n_shots)\n",
    "\n",
    "        if '0' not in r.keys():\n",
    "            r['0'] = 0\n",
    "        elif '1' not in r.keys():\n",
    "            r['1'] = 0\n",
    "\n",
    "        p0 = (r['0'] / (r['0'] + r['1']))\n",
    "        p0 = p0\n",
    "        p1 = 1 - p0\n",
    "\n",
    "        predictions.append(r)\n",
    "        probabilities.append(predict_cos(r))\n",
    "        probs = [p0, p1]\n",
    "\n",
    "\n",
    "        if predict_cos(r)[0] > predict_cos(r)[1]:\n",
    "            pred = [1, 0]\n",
    "            pred = np.asarray(pred)\n",
    "        else:\n",
    "            pred = [0, 1]\n",
    "            pred = np.asarray(pred)\n",
    "\n",
    "        # print('Data:', 'train=', x_train, 'test=', x_test)\n",
    "        # print('results: ', 'tr:', y_tr, 'ts:', y_ts, 'pred:', pred, '\\n')\n",
    "\n",
    "        if np.array_equal(pred, y_ts):\n",
    "            TP = TP + 1\n",
    "\n",
    "    accuracy.append(TP / len(X_test))\n",
    "\n",
    "print(np.mean(accuracy))\n",
    "print(np.std(accuracy))\n",
    "\n",
    "#\n",
    "\n",
    "accuracy = []\n",
    "n_shots = 1000\n",
    "\n",
    "\n",
    "predictions = []\n",
    "for x_test, y_ts in zip(X_test, Y_vector_test):\n",
    "    ix_y1 = np.random.choice(np.where(y_train == 1)[0], 2, replace=False)\n",
    "    ix_y0 = np.random.choice(np.where(y_train == 0)[0], 2, replace=False)\n",
    "\n",
    "    X_data = np.concatenate([X_train[ix_y1], X_train[ix_y0]])\n",
    "\n",
    "    for i in range(len(X_data)):\n",
    "        X_data[i] = normalize_custom(X_data[i])\n",
    "\n",
    "    x_test = normalize_custom(x_test)\n",
    "    Y_data = np.concatenate([Y_vector_train[ix_y1], Y_vector_train[ix_y0]])\n",
    "\n",
    "    qc = ensemble_cos(X_data, Y_data, x_test)\n",
    "    r = exec_simulator(qc, n_shots=1000)\n",
    "\n",
    "    predictions.append(retrieve_proba(r))\n",
    "    print(retrieve_proba(r), y_ts)\n",
    "\n",
    "evaluation_metrics(predictions, Y_vector_test)\n",
    "\n",
    "\n"
   ]
  },
  {
   "cell_type": "code",
   "execution_count": 1,
   "metadata": {},
   "outputs": [
    {
     "data": {
      "text/plain": [
       "'0.8.2'"
      ]
     },
     "execution_count": 1,
     "metadata": {},
     "output_type": "execute_result"
    }
   ],
   "source": [
    "import qiskit\n",
    "qiskit.__version__\n"
   ]
  }
 ],
 "metadata": {
  "kernelspec": {
   "display_name": "Python 3",
   "language": "python",
   "name": "python3"
  },
  "language_info": {
   "codemirror_mode": {
    "name": "ipython",
    "version": 3
   },
   "file_extension": ".py",
   "mimetype": "text/x-python",
   "name": "python",
   "nbconvert_exporter": "python",
   "pygments_lexer": "ipython3",
   "version": "3.7.3"
  }
 },
 "nbformat": 4,
 "nbformat_minor": 2
}

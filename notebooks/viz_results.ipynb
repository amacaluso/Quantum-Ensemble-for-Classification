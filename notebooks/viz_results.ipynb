{
 "cells": [
  {
   "cell_type": "code",
   "execution_count": 1,
   "metadata": {},
   "outputs": [
    {
     "name": "stderr",
     "output_type": "stream",
     "text": [
      "c:\\users\\anton\\appdata\\local\\programs\\python\\python37\\lib\\site-packages\\matplotlib\\__init__.py:886: MatplotlibDeprecationWarning: \n",
      "examples.directory is deprecated; in the future, examples will be found relative to the 'datapath' directory.\n",
      "  \"found relative to the 'datapath' directory.\".format(key))\n"
     ]
    }
   ],
   "source": [
    "import sys\n",
    "sys.path.insert(1, '../')\n",
    "\n",
    "from Utils import *\n",
    "from modeling import *"
   ]
  },
  {
   "cell_type": "code",
   "execution_count": 2,
   "metadata": {},
   "outputs": [],
   "source": [
    "data = pd.read_csv('output/results_ensemble.csv', \n",
    "                   names = ['N', 'n_train', 'n_swap', 'd', 'balanced', \n",
    "                            'test_size', 'dev', 'accuracy', 'brier', 'seed'])\n",
    "data['B']=2**data.d\n",
    "ctrl_size = data.d.unique()\n",
    "std_all = data.dev.unique()\n",
    "data = data[data.dev!=.2]"
   ]
  },
  {
   "cell_type": "code",
   "execution_count": 3,
   "metadata": {},
   "outputs": [
    {
     "data": {
      "image/png": "[encoded data removed]",
      "text/plain": [
       "<Figure size 432x288 with 1 Axes>"
      ]
     },
     "metadata": {
      "needs_background": "light"
     },
     "output_type": "display_data"
    }
   ],
   "source": [
    "ax = sns.boxplot(x=\"dev\", y=\"accuracy\", hue=\"d\", data=data)\n",
    "plt.xlabel('Standard deviation')\n",
    "plt.ylabel('Accuracy')\n",
    "plt.grid(alpha=.3)\n",
    "plt.savefig('output/results_accuracy.png')\n",
    "plt.show()"
   ]
  },
  {
   "cell_type": "code",
   "execution_count": 4,
   "metadata": {},
   "outputs": [
    {
     "data": {
      "image/png": "[encoded data removed]",
      "text/plain": [
       "<Figure size 432x288 with 1 Axes>"
      ]
     },
     "metadata": {
      "needs_background": "light"
     },
     "output_type": "display_data"
    }
   ],
   "source": [
    "ax = sns.boxplot(x=\"dev\", y=\"brier\", hue=\"d\", data=data)\n",
    "plt.grid(alpha=.3)\n",
    "plt.xlabel('Standard deviation')\n",
    "plt.ylabel('Brier Score')\n",
    "plt.savefig('output/results_brier.png')\n",
    "plt.show()"
   ]
  },
  {
   "cell_type": "code",
   "execution_count": null,
   "metadata": {},
   "outputs": [],
   "source": [
    "import sys\n",
    "sys.path.insert(1, '../')\n",
    "\n",
    "from Utils import *\n",
    "from modeling import *\n",
    "\n",
    "X,y = load_data(200, std=.4, save=False, plot=False)\n",
    "data = pd.concat([pd.DataFrame(X), pd.DataFrame(y)], axis = 1)\n",
    "data.columns = [r'$x_1$', r'$x_2$', 'classes']\n",
    "\n",
    "data.classes = ['class '+str(y) for y in data.classes]\n",
    "\n",
    "data.columns = [r'$x_1$', r'$x_2$', 'target']\n",
    "sns.scatterplot(x=\"$x_1$\", y=\"$x_2$\", hue=\"target\",\n",
    "              data=data, palette='colorblind', legend='brief',\n",
    "               markers=['X','o'], style='target', s=50)\n",
    "plt.grid(alpha=.3)\n",
    "plt.ylim(-.5, 1.75)\n",
    "\n",
    "plt.xlabel('$x_1$',fontsize=14)\n",
    "plt.ylabel('$x_2$',fontsize=14)\n",
    "\n",
    "plt.tick_params(axis='both',labelsize=14)\n",
    "plt.tight_layout()\n",
    "plt.savefig('output/data_paper.png', dpi=300, bbox_inches='tight')"
   ]
  },
  {
   "cell_type": "code",
   "execution_count": null,
   "metadata": {},
   "outputs": [],
   "source": [
    "# ax = sns.boxplot(x=\"dev\", y=\"brier\", hue=\"d\", data=data)\n",
    "fig = plt.figure(figsize=(6, 1))\n",
    "handles, labels = ax.get_legend_handles_labels()\n",
    "fig.legend(handles, labels, loc='center', ncol=4)\n",
    "plt.savefig('output/legend_Full.png', dpi=300, bbox_inches='tight')\n",
    "plt.show()"
   ]
  },
  {
   "cell_type": "code",
   "execution_count": null,
   "metadata": {},
   "outputs": [],
   "source": [
    "data_mean =data.groupby(['d', 'dev']).mean()\n",
    "data_std =data.groupby(['d', 'dev']).std()\n",
    "\n",
    "data_mean['accuracy_std'] = data_std.accuracy\n",
    "data_mean['brier_std'] = data_std.brier"
   ]
  },
  {
   "cell_type": "code",
   "execution_count": null,
   "metadata": {},
   "outputs": [],
   "source": [
    "colors = sns.diverging_palette(20, 1, n=len(ctrl_size))\n",
    "\n",
    "fig, ax = plt.subplots()\n",
    "\n",
    "for d,c in zip(ctrl_size, colors):\n",
    "    \n",
    "    mean_data = data_mean.loc[[d]]\n",
    "    \n",
    "    x = mean_data.index.levels[1]\n",
    "    \n",
    "    # Accuracy\n",
    "    y_mean = mean_data.accuracy   \n",
    "    y_std = mean_data.accuracy_std\n",
    "    lower = y_mean - y_std\n",
    "    upper = y_mean + y_std\n",
    "\n",
    "    ax.plot(x, y_mean, lw=2, label = str(d), color=c, marker='o')\n",
    "    ax.fill_between(x, upper, lower, facecolor=c, alpha=0.5)\n",
    "    \n",
    "    plt.legend()"
   ]
  },
  {
   "cell_type": "code",
   "execution_count": null,
   "metadata": {},
   "outputs": [],
   "source": [
    "colors = sns.diverging_palette(20, 1, n=len(ctrl_size))\n",
    "\n",
    "fig, ax = plt.subplots()\n",
    "\n",
    "for d,c in zip(ctrl_size, colors):\n",
    "    \n",
    "    mean_data = data_mean.loc[[d]]\n",
    "    \n",
    "    x = mean_data.index.levels[1]\n",
    "    \n",
    "    # Accuracy\n",
    "    y_mean = mean_data.brier   \n",
    "    y_std = mean_data.brier_std\n",
    "    lower = y_mean - y_std\n",
    "    upper = y_mean + y_std\n",
    "\n",
    "    ax.plot(x, y_mean, lw=2, label = str(d), color=c, marker='o')\n",
    "    ax.fill_between(x, upper, lower, facecolor=c, alpha=0.5)\n",
    "    \n",
    "    plt.legend()"
   ]
  },
  {
   "cell_type": "code",
   "execution_count": null,
   "metadata": {},
   "outputs": [],
   "source": [
    "d = data.d.unique()\n",
    "B = data.B.unique()\n",
    "std = data.dev.unique()"
   ]
  },
  {
   "cell_type": "code",
   "execution_count": null,
   "metadata": {},
   "outputs": [],
   "source": [
    "plt.plot(data.loc[data.dev==.20, 'd'], data.loc[data.dev==.20, 'accuracy'], color='skyblue',  linewidth=2, marker='o', label='0.10')\n",
    "plt.plot(data.loc[data.dev==.30, 'd'], data.loc[data.dev==.30, 'accuracy'], color='green', linewidth=2, marker='o', label='0.15')\n",
    "plt.plot(data.loc[data.dev==.40, 'd'], data.loc[data.dev==.40, 'accuracy'], color='orange', linewidth=3, marker='o', label='0.20')\n",
    "#plt.plot(data.loc[data.dev==.25, 'd'], data.loc[data.dev==.25, 'accuracy'], color='tomato', linewidth=2, marker='o',label=\"0.25\")\n",
    "plt.legend()\n",
    "plt.ylabel('Accuracy')\n",
    "plt.xlabel('d')\n",
    "plt.xticks([1,2,3,4])\n",
    "plt.grid(alpha=.3)\n",
    "plt.savefig('output/accuracy.png', dpi=300)"
   ]
  },
  {
   "cell_type": "code",
   "execution_count": null,
   "metadata": {},
   "outputs": [],
   "source": [
    "plt.plot(data.loc[data.dev==.20, 'd'], data.loc[data.dev==.20, 'brier'], color='skyblue',  linewidth=2, marker='o', label='0.10')\n",
    "plt.plot(data.loc[data.dev==.30, 'd'], data.loc[data.dev==.30, 'brier'], color='green', linewidth=2, marker='o', label='0.15')\n",
    "plt.plot(data.loc[data.dev==.40, 'd'], data.loc[data.dev==.40, 'brier'], color='orange', linewidth=3, marker='o', label='0.20')\n",
    "#plt.plot(data.loc[data.dev==.25, 'd'], data.loc[data.dev==.25, 'brier'], color='tomato', linewidth=2, marker='o',label=\"0.25\")\n",
    "plt.legend(loc=0)\n",
    "plt.ylabel('Brier score')\n",
    "plt.xlabel('d')\n",
    "plt.xticks([1,2,3,4])\n",
    "plt.grid(alpha=.3)\n",
    "plt.savefig('output/brier_score.png', dpi=300)"
   ]
  },
  {
   "cell_type": "code",
   "execution_count": null,
   "metadata": {},
   "outputs": [],
   "source": [
    "import seaborn as sns\n",
    "\n",
    "def plot_ensemble_results(data, palette=[220,10], y_name='accuracy', \n",
    "                          stds = [0.10, .15, 0.20, .25, 0.30],\n",
    "                          filename='ensemble_performance.png'):\n",
    "    \n",
    "    # stds = np.array([0.10, .15, 0.20, .25, 0.30])\n",
    "    colors = sns.diverging_palette(220, 10, n=5)\n",
    "\n",
    "    fig, ax = plt.subplots(1)\n",
    "    for i in np.arange(len(stds)):\n",
    "        std= stds[i]\n",
    "        color = colors[i]\n",
    "        y = data.loc[data.dev==std, y_name]\n",
    "        x = data.loc[data.dev==std, 'd']\n",
    "        #plt.plot(x, y, color='blue',  linewidth=2)\n",
    "        ax.plot(x,y, lw=2, label = std, color=color)\n",
    "        # ax.fill_between(q, mean + upper, mean - lower, facecolor=color, alpha=0.5)\n",
    "        # mean = ((1+ro[1]*(T-1))/T)*err\n",
    "        # lower = mean - ((1+ro[0]*(T-1))/T)*err\n",
    "        # upper = ((1 + ro[2] * (T - 1)) / T) * err - mean\n",
    "        #ax.set_title(r'random walkers empirical $\\mu$ and $\\pm \\sigma$ interval')\n",
    "    ax.set_title('Quantum Bagging performance')\n",
    "    ax.legend(loc='lower right', title = '$Std$')\n",
    "    ax.set_xlabel('Number of control qubits ($d$)')\n",
    "    ax.set_ylabel(y_name)\n",
    "    ax.grid(alpha=0.3)\n",
    "    ax.legend(bbox_to_anchor=(1.01, 1.05), title = '$Std$')\n",
    "    plt.savefig('output/' + filename, dpi =300)\n",
    "    plt.show()"
   ]
  },
  {
   "cell_type": "code",
   "execution_count": null,
   "metadata": {},
   "outputs": [],
   "source": [
    "plot_ensemble_results(data, palette=[220,10], y_name='accuracy', \n",
    "                          stds = [0.10, .15, 0.20, .25, 0.30],\n",
    "                          filename='acc_ensemble_performance.png')"
   ]
  },
  {
   "cell_type": "code",
   "execution_count": null,
   "metadata": {},
   "outputs": [],
   "source": [
    "# plot_ensemble_results(data, palette=[220,10], y_name='brier', \n",
    "#                           stds = [0.10, .15, 0.20, .25, 0.30],\n",
    "#                           filename='brier_ensemble_performance.png')"
   ]
  },
  {
   "cell_type": "code",
   "execution_count": null,
   "metadata": {},
   "outputs": [],
   "source": [
    "import sys\n",
    "sys.path.insert(1, '../')\n",
    "\n",
    "from Utils import *\n",
    "from modeling import *\n",
    "\n",
    "X,y = load_data(200, std=.3, seed=962)\n",
    "data = pd.concat([pd.DataFrame(X), pd.DataFrame(y)], axis = 1)\n",
    "data.columns = [r'$x_1$', r'$x_2$', 'classes']\n",
    "\n",
    "g=sns.pairplot(data, hue=\"classes\", markers=[\"v\", \"D\"])#, palette='Wistia')\n",
    "g._legend.set_bbox_to_anchor((1.05, .5))\n",
    "plt.savefig('output/data.png', bbox_inches='tight')\n",
    "plt.show()\n",
    "#'Accent', 'Accent_r', 'Blues', 'Blues_r', 'BrBG', 'BrBG_r', 'BuGn', 'BuGn_r', 'BuPu', \n",
    "# 'BuPu_r', 'CMRmap', 'CMRmap_r', 'Dark2', 'Dark2_r', 'GnBu', 'GnBu_r', 'Greens', 'Greens_r',\n",
    "# 'Greys', 'Greys_r', 'OrRd', 'OrRd_r', 'Oranges', 'Oranges_r', 'PRGn', 'PRGn_r', 'Paired', \n",
    "# 'Paired_r', 'Pastel1', 'Pastel1_r', 'Pastel2', 'Pastel2_r', 'PiYG', 'PiYG_r', 'PuBu', \n",
    "# 'PuBuGn', 'PuBuGn_r', 'PuBu_r', 'PuOr', 'PuOr_r', 'PuRd', 'PuRd_r', 'Purples', 'Purples_r', \n",
    "# 'RdBu', 'RdBu_r', 'RdGy', 'RdGy_r', 'RdPu', 'RdPu_r', 'RdYlBu', 'RdYlBu_r', 'RdYlGn', 'RdYlGn_r',\n",
    "# 'Reds', 'Reds_r', 'Set1', 'Set1_r', 'Set2', 'Set2_r', 'Set3', 'Set3_r', 'Spectral', 'Spectral_r', \n",
    "# 'Wistia', 'Wistia_r', 'YlGn', 'YlGnBu', 'YlGnBu_r', 'YlGn_r', 'YlOrBr', 'YlOrBr_r', 'YlOrRd', \n",
    "# 'YlOrRd_r', 'afmhot', 'afmhot_r', 'autumn', 'autumn_r', 'binary', 'binary_r', 'bone', 'bone_r',\n",
    "# 'brg', 'brg_r', 'bwr', 'bwr_r', 'cividis', 'cividis_r', 'cool', 'cool_r', 'coolwarm', 'coolwarm_r',\n",
    "# 'copper', 'copper_r', 'cubehelix', 'cubehelix_r', 'flag', 'flag_r', 'gist_earth', 'gist_earth_r',\n",
    "# 'gist_gray', 'gist_gray_r', 'gist_heat', 'gist_heat_r', 'gist_ncar', 'gist_ncar_r', 'gist_rainbow', \n",
    "# 'gist_rainbow_r', 'gist_stern', 'gist_stern_r', 'gist_yarg', 'gist_yarg_r', 'gnuplot', 'gnuplot2', \n",
    "# 'gnuplot2_r', 'gnuplot_r', 'gray', 'gray_r', 'hot', 'hot_r', 'hsv', 'hsv_r', 'icefire', 'icefire_r', \n",
    "# 'inferno', 'inferno_r', 'jet', 'jet_r', 'magma', 'magma_r', 'mako', 'mako_r', 'nipy_spectral', \n",
    "# 'nipy_spectral_r', 'ocean', 'ocean_r', 'pink', 'pink_r', 'plasma', 'plasma_r', 'prism', 'prism_r',\n",
    "# 'rainbow', 'rainbow_r', 'rocket', 'rocket_r', 'seismic', 'seismic_r', 'spring', 'spring_r', 'summer',\n",
    "# 'summer_r', 'tab10', 'tab10_r', 'tab20', 'tab20_r', 'tab20b', 'tab20b_r', 'tab20c', 'tab20c_r', \n",
    "# 'terrain', 'terrain_r', 'twilight', 'twilight_r', 'twilight_shifted', 'twilight_shifted_r', 'viridis', \n",
    "# 'viridis_r', 'vlag', 'vlag_r', 'winter', 'winter_r'"
   ]
  },
  {
   "cell_type": "code",
   "execution_count": null,
   "metadata": {},
   "outputs": [],
   "source": [
    "data = pd.read_csv('output/results_ensemble.csv', \n",
    "                   names = ['N', 'n_train', 'n_swap', 'd', 'balanced', \n",
    "                            'test_size', 'dev', 'accuracy', 'brier', 'seed'])\n",
    "\n",
    "data = data.loc[data['dev'] == .3,:]\n",
    "data_mean =data.groupby(['d', 'dev']).mean()\n",
    "data_std =data.groupby(['d', 'dev']).std()\n",
    "\n",
    "data_mean['accuracy_std'] = data_std.accuracy\n",
    "data_mean['brier_std'] = data_std.brier\n",
    "data_mean"
   ]
  },
  {
   "cell_type": "code",
   "execution_count": null,
   "metadata": {},
   "outputs": [],
   "source": []
  }
 ],
 "metadata": {
  "kernelspec": {
   "display_name": "Python 3",
   "language": "python",
   "name": "python3"
  },
  "language_info": {
   "codemirror_mode": {
    "name": "ipython",
    "version": 3
   },
   "file_extension": ".py",
   "mimetype": "text/x-python",
   "name": "python",
   "nbconvert_exporter": "python",
   "pygments_lexer": "ipython3",
   "version": "3.7.3"
  }
 },
 "nbformat": 4,
 "nbformat_minor": 2
}

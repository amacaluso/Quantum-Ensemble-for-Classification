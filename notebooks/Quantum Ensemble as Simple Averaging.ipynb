{
 "cells": [
  {
   "cell_type": "markdown",
   "metadata": {},
   "source": [
    "# Quantum Ensemble as Simple Averaging -  Experiments"
   ]
  },
  {
   "cell_type": "markdown",
   "metadata": {},
   "source": [
    "This notebook reproduces the results in Section 4.3 of the paper *Quantum Ensemble for Classification* where is shown that the quantum ensemble algorithm is able to compute the expectation value of multiple quantum trajectories in superposition with just one execution of the quantum cosine classifier. \n",
    "\n",
    "For more details about the theoretical background see **Quantum Ensemble - Independent Trajectories.ipynb**\n"
   ]
  },
  {
   "cell_type": "code",
   "execution_count": 1,
   "metadata": {
    "scrolled": true
   },
   "outputs": [],
   "source": [
    "# Import packages and functions\n",
    "import sys\n",
    "sys.path.insert(1, '../')\n",
    "\n",
    "from Utils import *\n",
    "from modeling import *"
   ]
  },
  {
   "cell_type": "markdown",
   "metadata": {},
   "source": [
    "Create the toy dataset reported in Table 1 and execute the (classical) cosine classifiers."
   ]
  },
  {
   "cell_type": "code",
   "execution_count": 2,
   "metadata": {},
   "outputs": [
    {
     "data": {
      "text/html": [
       "<div>\n",
       "<style scoped>\n",
       "    .dataframe tbody tr th:only-of-type {\n",
       "        vertical-align: middle;\n",
       "    }\n",
       "\n",
       "    .dataframe tbody tr th {\n",
       "        vertical-align: top;\n",
       "    }\n",
       "\n",
       "    .dataframe thead th {\n",
       "        text-align: right;\n",
       "    }\n",
       "</style>\n",
       "<table border=\"1\" class=\"dataframe\">\n",
       "  <thead>\n",
       "    <tr style=\"text-align: right;\">\n",
       "      <th></th>\n",
       "      <th>$X_1$</th>\n",
       "      <th>$X_2$</th>\n",
       "      <th>$y$</th>\n",
       "      <th>$d($$\\cdot$$, $ $x^{(test)})$</th>\n",
       "      <th>$P($$y^{(test)}$$=1$$|b$ $)$</th>\n",
       "    </tr>\n",
       "  </thead>\n",
       "  <tbody>\n",
       "    <tr>\n",
       "      <th>$x_1$</th>\n",
       "      <td>1</td>\n",
       "      <td>3</td>\n",
       "      <td>0</td>\n",
       "      <td>0.89</td>\n",
       "      <td>0.10</td>\n",
       "    </tr>\n",
       "    <tr>\n",
       "      <th>$x_2$</th>\n",
       "      <td>-2</td>\n",
       "      <td>2</td>\n",
       "      <td>1</td>\n",
       "      <td>0.00</td>\n",
       "      <td>0.50</td>\n",
       "    </tr>\n",
       "    <tr>\n",
       "      <th>$x_3$</th>\n",
       "      <td>3</td>\n",
       "      <td>0</td>\n",
       "      <td>0</td>\n",
       "      <td>0.71</td>\n",
       "      <td>0.25</td>\n",
       "    </tr>\n",
       "    <tr>\n",
       "      <th>$x_4$</th>\n",
       "      <td>3</td>\n",
       "      <td>1</td>\n",
       "      <td>1</td>\n",
       "      <td>0.89</td>\n",
       "      <td>0.90</td>\n",
       "    </tr>\n",
       "  </tbody>\n",
       "</table>\n",
       "</div>"
      ],
      "text/plain": [
       "       $X_1$  $X_2$  $y$  $d($$\\cdot$$, $ $x^{(test)})$  \\\n",
       "$x_1$      1      3    0                           0.89   \n",
       "$x_2$     -2      2    1                           0.00   \n",
       "$x_3$      3      0    0                           0.71   \n",
       "$x_4$      3      1    1                           0.89   \n",
       "\n",
       "       $P($$y^{(test)}$$=1$$|b$ $)$  \n",
       "$x_1$                          0.10  \n",
       "$x_2$                          0.50  \n",
       "$x_3$                          0.25  \n",
       "$x_4$                          0.90  "
      ]
     },
     "execution_count": 2,
     "metadata": {},
     "output_type": "execute_result"
    }
   ],
   "source": [
    "# Load data without normalisation\n",
    "X_data, Y_data, x_test = load_data_custom(normalize = False)\n",
    "\n",
    "# Create table as shown in the paper (Table 1)\n",
    "data = pd.DataFrame(X_data, columns = [r'$X_1$', r'$X_2$'])\n",
    "\n",
    "# Extract the value of the target variable as integer\n",
    "y = [c[1] for c in Y_data]\n",
    "\n",
    "# Compute the cosine distance between the training points and the test point\n",
    "dist = [cosine_similarity([x], [x_test])[0][0] for x in X_data]\n",
    "\n",
    "# Compute the value of the cosine distance classifier\n",
    "# for the four training points from the test point\n",
    "p = [cosine_classifier(x, x_test)[0][0] for x in X_data]\n",
    "\n",
    "# Extract the probabilities for the test point to be classified in class \n",
    "# 1 according to the (classical) cosine classifies Equation (16)\n",
    "probs = []\n",
    "for i,j in zip(y,p):\n",
    "    if i == 0:\n",
    "        probs.append(1-j)\n",
    "    else:\n",
    "        probs.append(j)\n",
    "\n",
    "# Create dataset as in paper (Table 1)\n",
    "probs = np.array(probs)\n",
    "\n",
    "# Rename columns\n",
    "data[r'$y$'] = np.array(y)\n",
    "data[r'$d($$\\cdot$$, $ $x^{(test)})$'] = np.round(dist,2)\n",
    "data[r'$P($$y^{(test)}$$=1$$|b$ $)$'] = probs\n",
    "\n",
    "# Rename rows\n",
    "data.index = [r'$x_1$', r'$x_2$', r'$x_3$', r'$x_4$',]\n",
    "\n",
    "#Visualize dataset\n",
    "data"
   ]
  },
  {
   "cell_type": "markdown",
   "metadata": {},
   "source": [
    "### Implementation of the quantum cosine classifier"
   ]
  },
  {
   "cell_type": "code",
   "execution_count": 3,
   "metadata": {},
   "outputs": [],
   "source": [
    "# Load normalised data\n",
    "X_data, Y_data, x_test = load_data_custom()"
   ]
  },
  {
   "cell_type": "code",
   "execution_count": 4,
   "metadata": {},
   "outputs": [
    {
     "data": {
      "image/png": "[encoded data removed]",
      "text/plain": [
       "<Figure size 817.516x325.08 with 1 Axes>"
      ]
     },
     "execution_count": 4,
     "metadata": {},
     "output_type": "execute_result"
    }
   ],
   "source": [
    "#Visualisation of quantum cosine classifier\n",
    "quantum_cosine = quantum_cosine_classifier(X_data[0], x_test, Y_data[0] )\n",
    "quantum_cosine.draw(output='mpl', scale=.7)"
   ]
  },
  {
   "cell_type": "markdown",
   "metadata": {},
   "source": [
    "For each training point in *data* the quantum cosine classifier is executed to compute the prediction of the target variable for the test point $\\tilde{x}$. Thus, given the measurements of the quantum circuts, the target probabilities are retrieved using the function *retrieve_proba*."
   ]
  },
  {
   "cell_type": "code",
   "execution_count": 5,
   "metadata": {},
   "outputs": [],
   "source": [
    "qc1 = quantum_cosine_classifier(X_data[0], x_test, Y_data[0] )\n",
    "r1 = exec_simulator(qc1)\n",
    "r1 = retrieve_proba(r1) \n",
    "\n",
    "qc2 = quantum_cosine_classifier(X_data[1], x_test, Y_data[1])\n",
    "r2 = exec_simulator(qc2)\n",
    "r2 = retrieve_proba(r2)\n",
    "\n",
    "qc3 = quantum_cosine_classifier(X_data[2], x_test, Y_data[2])\n",
    "r3 = exec_simulator(qc3)\n",
    "r3 = retrieve_proba(r3)\n",
    "\n",
    "qc4 = quantum_cosine_classifier(X_data[3], x_test, Y_data[3])\n",
    "r4 = exec_simulator(qc4)\n",
    "r4 = retrieve_proba(r4)\n",
    "\n",
    "out = [r1, r2, r3, r4]"
   ]
  },
  {
   "cell_type": "markdown",
   "metadata": {},
   "source": [
    "We compute the average of predictions provided by the four quantum cosine classifiers that corresponds to the classical ensemble prediction, using simple averaging as aggregation strategy."
   ]
  },
  {
   "cell_type": "code",
   "execution_count": 6,
   "metadata": {},
   "outputs": [],
   "source": [
    "p0 = [p[0] for p in out]\n",
    "p1 = [p[1] for p in out]\n",
    "r_avg = [np.mean(p0), np.mean(p1)]\n",
    "# print(np.mean(p0), np.mean(p1))"
   ]
  },
  {
   "cell_type": "markdown",
   "metadata": {},
   "source": [
    "### Quantum Ensemble of four cosine classifiers"
   ]
  },
  {
   "cell_type": "code",
   "execution_count": 7,
   "metadata": {},
   "outputs": [
    {
     "data": {
      "image/png": "[encoded data removed]",
      "text/plain": [
       "<Figure size 1522.99x797.815 with 1 Axes>"
      ]
     },
     "execution_count": 7,
     "metadata": {},
     "output_type": "execute_result"
    }
   ],
   "source": [
    "qc = ensemble_fixed_U(X_data, Y_data, x_test)\n",
    "qc.draw(output='mpl', scale=.6, #filename='output/ensemble_circuit.png', \n",
    "        style={'fontsize':15, 'dpi':200})"
   ]
  },
  {
   "cell_type": "code",
   "execution_count": 8,
   "metadata": {},
   "outputs": [
    {
     "name": "stdout",
     "output_type": "stream",
     "text": [
      "[0.5709228515625, 0.4290771484375]\n"
     ]
    }
   ],
   "source": [
    "r = exec_simulator(qc, n_shots=8192)\n",
    "r_ens = retrieve_proba(r)\n",
    "print(r_ens)"
   ]
  },
  {
   "cell_type": "code",
   "execution_count": 9,
   "metadata": {},
   "outputs": [
    {
     "data": {
      "text/html": [
       "<div>\n",
       "<style scoped>\n",
       "    .dataframe tbody tr th:only-of-type {\n",
       "        vertical-align: middle;\n",
       "    }\n",
       "\n",
       "    .dataframe tbody tr th {\n",
       "        vertical-align: top;\n",
       "    }\n",
       "\n",
       "    .dataframe thead th {\n",
       "        text-align: right;\n",
       "    }\n",
       "</style>\n",
       "<table border=\"1\" class=\"dataframe\">\n",
       "  <thead>\n",
       "    <tr style=\"text-align: right;\">\n",
       "      <th></th>\n",
       "      <th>p0</th>\n",
       "      <th>p1</th>\n",
       "    </tr>\n",
       "  </thead>\n",
       "  <tbody>\n",
       "    <tr>\n",
       "      <th>qc1</th>\n",
       "      <td>0.900146</td>\n",
       "      <td>0.099854</td>\n",
       "    </tr>\n",
       "    <tr>\n",
       "      <th>qc2</th>\n",
       "      <td>0.502319</td>\n",
       "      <td>0.497681</td>\n",
       "    </tr>\n",
       "    <tr>\n",
       "      <th>qc3</th>\n",
       "      <td>0.758789</td>\n",
       "      <td>0.241211</td>\n",
       "    </tr>\n",
       "    <tr>\n",
       "      <th>qc4</th>\n",
       "      <td>0.099487</td>\n",
       "      <td>0.900513</td>\n",
       "    </tr>\n",
       "    <tr>\n",
       "      <th>AVG</th>\n",
       "      <td>0.565186</td>\n",
       "      <td>0.434814</td>\n",
       "    </tr>\n",
       "    <tr>\n",
       "      <th>Ensemble</th>\n",
       "      <td>0.570923</td>\n",
       "      <td>0.429077</td>\n",
       "    </tr>\n",
       "  </tbody>\n",
       "</table>\n",
       "</div>"
      ],
      "text/plain": [
       "                p0        p1\n",
       "qc1       0.900146  0.099854\n",
       "qc2       0.502319  0.497681\n",
       "qc3       0.758789  0.241211\n",
       "qc4       0.099487  0.900513\n",
       "AVG       0.565186  0.434814\n",
       "Ensemble  0.570923  0.429077"
      ]
     },
     "execution_count": 9,
     "metadata": {},
     "output_type": "execute_result"
    }
   ],
   "source": [
    "# collect the results\n",
    "output_simulator = [r1, r2, r3, r4, r_avg, r_ens]\n",
    "\n",
    "data_pred = pd.DataFrame(output_simulator, \n",
    "                         columns=['p0', 'p1'], index=['qc1','qc2','qc3','qc4','AVG','Ensemble'])\n",
    "data_pred\n",
    "# data_pred.to_csv('output/sim_results.csv', index=False)"
   ]
  },
  {
   "cell_type": "code",
   "execution_count": 10,
   "metadata": {},
   "outputs": [
    {
     "data": {
      "image/png": "[encoded data removed]",
      "text/plain": [
       "<Figure size 432x288 with 1 Axes>"
      ]
     },
     "metadata": {
      "needs_background": "light"
     },
     "output_type": "display_data"
    }
   ],
   "source": [
    "plot_cls(output_simulator, title= '')"
   ]
  },
  {
   "cell_type": "markdown",
   "metadata": {},
   "source": [
    "The probability provided by the quantum cosine classifiers ($f_1$, $f_2$, $f_3$, $f_4$)  are pretty much the same to the classical cosine classifier (*data*). Furthermore, the average of the four classifiers is almost the same to the quantum ensemble prediction where it is required only one execution of the cosine classifier."
   ]
  },
  {
   "cell_type": "markdown",
   "metadata": {},
   "source": [
    "## Multiple Experiments"
   ]
  },
  {
   "cell_type": "markdown",
   "metadata": {},
   "source": [
    "In order to show that the result of quantum ensemble holds regardless of the data reported in *Table 1*, the same experiment is performed on $20$ randomly generated datasets, and the average of the quantum cosine classifiers and the quantum ensemble prediction are compared"
   ]
  },
  {
   "cell_type": "code",
   "execution_count": 11,
   "metadata": {},
   "outputs": [],
   "source": [
    "seed = 543\n",
    "\n",
    "n_shots = 8192\n",
    "N_runs = 20\n",
    "y_labels =[[0,1], [1,0]]"
   ]
  },
  {
   "cell_type": "code",
   "execution_count": 12,
   "metadata": {},
   "outputs": [],
   "source": [
    "p1_avg = []\n",
    "p1_ens = []\n",
    "\n",
    "np.random.seed(seed)\n",
    "for run in np.arange(N_runs):\n",
    "    # print(run)\n",
    "    x1 = [np.random.randint(1, 9), np.random.randint(1, 9)]\n",
    "    x2 = [np.random.randint(1, 9), np.random.randint(1, 9)]\n",
    "    x3 = [np.random.randint(1, 9), np.random.randint(1, 9)]\n",
    "    x4 = [np.random.randint(1, 9), np.random.randint(1, 9)]\n",
    "    \n",
    "    y1 = y_labels[np.random.randint(0, 2)]\n",
    "    y2 = y_labels[np.random.randint(0, 2)]\n",
    "    y3 = y_labels[np.random.randint(0, 2)]\n",
    "    y4 = y_labels[np.random.randint(0, 2)]\n",
    "    \n",
    "    Y_data = [y1, y2, y3, y4]  \n",
    "    X_data = [x1, x2, x3, x4]\n",
    "    \n",
    "    x_test = [np.random.randint(1, 9), np.random.randint(1, 9)]\n",
    "\n",
    "    X_data, Y_data, x_test = load_data_custom(X_data, Y_data, x_test = x_test)\n",
    "\n",
    "    qc1 = quantum_cosine_classifier(X_data[0], x_test, Y_data[0] )\n",
    "    r1 = exec_simulator(qc1)\n",
    "    r1 = retrieve_proba(r1)\n",
    "\n",
    "    qc2 = quantum_cosine_classifier(X_data[1], x_test, Y_data[1])\n",
    "    r2 = exec_simulator(qc2)\n",
    "    r2 = retrieve_proba(r2)\n",
    "\n",
    "    qc3 = quantum_cosine_classifier(X_data[2], x_test, Y_data[2])\n",
    "    r3 = exec_simulator(qc3)\n",
    "    r3 = retrieve_proba(r3)\n",
    "\n",
    "    qc4 = quantum_cosine_classifier(X_data[3], x_test, Y_data[3])\n",
    "    r4 = exec_simulator(qc4)\n",
    "    r4 = retrieve_proba(r4)\n",
    "     \n",
    "    out = [r1, r2, r3, r4]\n",
    "\n",
    "    p0 = [p[0] for p in out]\n",
    "    p1 = [p[1] for p in out]\n",
    "    \n",
    "    r_avg = [np.mean(p0), np.mean(p1)]\n",
    "    # print('AVG:', r_avg)\n",
    "\n",
    "    \n",
    "    qc = ensemble_fixed_U(X_data, Y_data, x_test)\n",
    "    qc = transpile(qc, basis_gates = ['u1', 'u2', 'u3', 'cx'], optimization_level=3)\n",
    "\n",
    "    r = exec_simulator(qc, n_shots=n_shots)\n",
    "    r_ens = retrieve_proba(r)\n",
    "    # print('Ensemble', r_ens)\n",
    "\n",
    "    out = [r1, r2, r3, r4, r_avg, r_ens]\n",
    "    \n",
    "    p1_avg.append(r_avg[1])\n",
    "    p1_ens.append(r_ens[1])"
   ]
  },
  {
   "cell_type": "code",
   "execution_count": 13,
   "metadata": {},
   "outputs": [
    {
     "data": {
      "image/png": "[encoded data removed]",
      "text/plain": [
       "<Figure size 432x288 with 1 Axes>"
      ]
     },
     "metadata": {
      "needs_background": "light"
     },
     "output_type": "display_data"
    }
   ],
   "source": [
    "avg_vs_ensemble(p1_avg, p1_ens)"
   ]
  },
  {
   "cell_type": "markdown",
   "metadata": {},
   "source": [
    "##### In order to perform the same computation on real device it is necessary to load an IBMQ account and to use the function $\\text{run_real_device}$ instead of $\\text{exec_simulator}$"
   ]
  },
  {
   "cell_type": "code",
   "execution_count": 17,
   "metadata": {},
   "outputs": [],
   "source": [
    "# Execution on real device\n",
    "IBMQ.load_account()\n",
    "provider = IBMQ.get_provider(hub='ibm-q')\n",
    "provider.backends()\n",
    "backend_16 = provider.get_backend('ibmq_16_melbourne')\n",
    "backend_5 = provider.get_backend('ibmq_rome')\n",
    "\n",
    "def run_real_device(qc, backend, shots=8192):\n",
    "    job = execute(qc, backend, shots=shots)\n",
    "    results = job.result()\n",
    "    r = results.get_counts(qc)\n",
    "    return r"
   ]
  }
 ],
 "metadata": {
  "kernelspec": {
   "display_name": "Python 3",
   "language": "python",
   "name": "python3"
  },
  "language_info": {
   "codemirror_mode": {
    "name": "ipython",
    "version": 3
   },
   "file_extension": ".py",
   "mimetype": "text/x-python",
   "name": "python",
   "nbconvert_exporter": "python",
   "pygments_lexer": "ipython3",
   "version": "3.6.9"
  }
 },
 "nbformat": 4,
 "nbformat_minor": 2
}
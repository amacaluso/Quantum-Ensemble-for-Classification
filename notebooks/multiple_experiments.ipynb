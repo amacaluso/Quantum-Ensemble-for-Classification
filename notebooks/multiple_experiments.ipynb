{
 "cells": [
  {
   "cell_type": "markdown",
   "metadata": {},
   "source": [
    "# Experimental demonstration that the quantum ensemble prediction is equivalent to the average prediction of the single classifiers"
   ]
  },
  {
   "cell_type": "markdown",
   "metadata": {},
   "source": [
    "### Import functions and packages"
   ]
  },
  {
   "cell_type": "code",
   "execution_count": 5,
   "metadata": {},
   "outputs": [
    {
     "name": "stdout",
     "output_type": "stream",
     "text": [
      "seed: 543\n"
     ]
    }
   ],
   "source": [
    "import sys\n",
    "\n",
    "sys.path.insert(1, '../')\n",
    "\n",
    "from Utils import *\n",
    "from modeling import *\n",
    "\n",
    "seed = 543\n",
    "print('seed:', seed)\n",
    "\n",
    "n_shots = 8192\n",
    "N_runs = 20"
   ]
  },
  {
   "cell_type": "code",
   "execution_count": 6,
   "metadata": {},
   "outputs": [],
   "source": [
    "y_labels =[[0,1], [1,0]]"
   ]
  },
  {
   "cell_type": "markdown",
   "metadata": {},
   "source": [
    "A each iteration we generate a random balanced training set of four observations and a test set of one observation. Thus, we compute the four possible cosine predictions and average them. We also comput the ensmeble prediction and compare the results."
   ]
  },
  {
   "cell_type": "code",
   "execution_count": 7,
   "metadata": {},
   "outputs": [],
   "source": [
    "p1_avg = []\n",
    "p1_ens = []\n",
    "\n",
    "np.random.seed(seed)\n",
    "for run in np.arange(N_runs):\n",
    "    # print(run)\n",
    "    x1 = [np.random.randint(1, 9), np.random.randint(1, 9)]\n",
    "    x2 = [np.random.randint(1, 9), np.random.randint(1, 9)]\n",
    "    x3 = [np.random.randint(1, 9), np.random.randint(1, 9)]\n",
    "    x4 = [np.random.randint(1, 9), np.random.randint(1, 9)]\n",
    "    \n",
    "    y1 = y_labels[np.random.randint(0, 2)]\n",
    "    y2 = y_labels[np.random.randint(0, 2)]\n",
    "    y3 = y_labels[np.random.randint(0, 2)]\n",
    "    y4 = y_labels[np.random.randint(0, 2)]\n",
    "    \n",
    "    Y_data = [y1, y2, y3, y4]  \n",
    "    X_data = [x1, x2, x3, x4]\n",
    "    \n",
    "    x_test = [np.random.randint(1, 9), np.random.randint(1, 9)]\n",
    "\n",
    "    X_data, Y_data, x_test = load_data_custom(X_data, Y_data, x_test = x_test)\n",
    "\n",
    "    qc1 = quantum_cosine_classifier(X_data[0], x_test, Y_data[0] )\n",
    "    r1 = exec_simulator(qc1)\n",
    "    r1 = retrieve_proba(r1)\n",
    "\n",
    "    qc2 = quantum_cosine_classifier(X_data[1], x_test, Y_data[1])\n",
    "    r2 = exec_simulator(qc2)\n",
    "    r2 = retrieve_proba(r2)\n",
    "\n",
    "    qc3 = quantum_cosine_classifier(X_data[2], x_test, Y_data[2])\n",
    "    r3 = exec_simulator(qc3)\n",
    "    r3 = retrieve_proba(r3)\n",
    "\n",
    "    qc4 = quantum_cosine_classifier(X_data[3], x_test, Y_data[3])\n",
    "    r4 = exec_simulator(qc4)\n",
    "    r4 = retrieve_proba(r4)\n",
    "     \n",
    "    out = [r1, r2, r3, r4]\n",
    "\n",
    "    p0 = [p[0] for p in out]\n",
    "    p1 = [p[1] for p in out]\n",
    "    \n",
    "    r_avg = [np.mean(p0), np.mean(p1)]\n",
    "    # print('AVG:', r_avg)\n",
    "\n",
    "    \n",
    "    qc = ensemble_fixed_U(X_data, Y_data, x_test)\n",
    "    qc = transpile(qc, basis_gates = ['u1', 'u2', 'u3', 'cx'], optimization_level=3)\n",
    "\n",
    "    r = exec_simulator(qc, n_shots=n_shots)\n",
    "    r_ens = retrieve_proba(r)\n",
    "    # print('Ensemble', r_ens)\n",
    "\n",
    "    out = [r1, r2, r3, r4, r_avg, r_ens]\n",
    "    \n",
    "    p1_avg.append(r_avg[1])\n",
    "    p1_ens.append(r_ens[1])"
   ]
  },
  {
   "cell_type": "code",
   "execution_count": 4,
   "metadata": {},
   "outputs": [],
   "source": [
    "IBMQ.load_account()\n",
    "provider = IBMQ.get_provider(hub='ibm-q')\n",
    "provider.backends()\n",
    "backend = provider.get_backend('ibmq_16_melbourne')"
   ]
  },
  {
   "cell_type": "code",
   "execution_count": 8,
   "metadata": {},
   "outputs": [],
   "source": [
    "p1_ens_real = []\n",
    "\n",
    "np.random.seed(seed)\n",
    "for run in np.arange(N_runs):\n",
    "    # print(run)\n",
    "    x1 = [np.random.randint(1, 9), np.random.randint(1, 9)]\n",
    "    x2 = [np.random.randint(1, 9), np.random.randint(1, 9)]\n",
    "    x3 = [np.random.randint(1, 9), np.random.randint(1, 9)]\n",
    "    x4 = [np.random.randint(1, 9), np.random.randint(1, 9)]\n",
    "    \n",
    "    y1 = y_labels[np.random.randint(0, 2)]\n",
    "    y2 = y_labels[np.random.randint(0, 2)]\n",
    "    y3 = y_labels[np.random.randint(0, 2)]\n",
    "    y4 = y_labels[np.random.randint(0, 2)]\n",
    "    \n",
    "    Y_data = [y1, y2, y3, y4]  \n",
    "    X_data = [x1, x2, x3, x4]\n",
    "    \n",
    "    x_test = [np.random.randint(1, 9), np.random.randint(1, 9)]\n",
    "\n",
    "    X_data, Y_data, x_test = load_data_custom(X_data, Y_data, x_test = x_test)\n",
    "    \n",
    "#     qc = ensemble_fixed_U(X_data, Y_data, x_test)\n",
    "#     qc = transpile(qc, basis_gates = ['u1', 'u2', 'u3', 'cx'], optimization_level=3)\n",
    "\n",
    "#     job = execute(qc, backend, shots = n_shots)\n",
    "#     results = job.result()\n",
    "#     r_ens_rl = results.get_counts(qc)\n",
    "    \n",
    "#     r_ens_rl = retrieve_proba(r_ens_rl)\n",
    "#     p1_ens_real.append(r_ens_rl[1])"
   ]
  },
  {
   "cell_type": "code",
   "execution_count": 12,
   "metadata": {},
   "outputs": [
    {
     "data": {
      "text/plain": [
       "[(0.847998304005088+0j), (0.52999894000318+0j)]"
      ]
     },
     "execution_count": 12,
     "metadata": {},
     "output_type": "execute_result"
    }
   ],
   "source": [
    "x_test"
   ]
  },
  {
   "cell_type": "code",
   "execution_count": 13,
   "metadata": {},
   "outputs": [],
   "source": [
    "qc = ensemble_fixed_U(X_data, Y_data, x_test)\n",
    "qc = transpile(qc, basis_gates = ['u1', 'u2', 'u3', 'cx'], optimization_level=3)\n",
    "\n",
    "job = execute(qc, backend, shots = n_shots)\n",
    "results = job.result()\n",
    "r_ens_rl = results.get_counts(qc)\n",
    "    \n",
    "r_ens_rl = retrieve_proba(r_ens_rl)\n",
    "p1_ens_real.append(r_ens_rl[1])"
   ]
  },
  {
   "cell_type": "code",
   "execution_count": 14,
   "metadata": {},
   "outputs": [],
   "source": [
    "vector_real.append(r_ens_rl[1])"
   ]
  },
  {
   "cell_type": "code",
   "execution_count": 15,
   "metadata": {},
   "outputs": [],
   "source": [
    "p1_ens_real = vector_real"
   ]
  },
  {
   "cell_type": "code",
   "execution_count": 16,
   "metadata": {},
   "outputs": [],
   "source": [
    "data_multi= pd.DataFrame([p1_avg, p1_ens, p1_ens_real]).transpose()\n",
    "data_multi.columns = ['Classical AVG', 'Ensemble (sim)', 'Ensemble (real)']\n",
    "data_multi.to_csv('output/data_multi.csv', index=False)"
   ]
  },
  {
   "cell_type": "code",
   "execution_count": 27,
   "metadata": {},
   "outputs": [
    {
     "data": {
      "image/png": "[encoded data removed]",
      "text/plain": [
       "<Figure size 432x288 with 1 Axes>"
      ]
     },
     "metadata": {
      "needs_background": "light"
     },
     "output_type": "display_data"
    }
   ],
   "source": [
    "plt.plot(np.arange(N_runs), p1_ens_real, marker='o', color='lightblue', label='Ensemble (RL)')\n",
    "plt.plot(np.arange(N_runs), p1_ens, marker='o', color='orange', label = 'Ensemble (QASM)')\n",
    "plt.scatter(np.arange(N_runs), p1_avg, label='Simple AVG', color='sienna', zorder=3, linewidth=.5)\n",
    "plt.title('Quantum Ensemble vs Simple Average', size=12).set_position([.5, 1.05])\n",
    "plt.xlabel('runs', size=12)\n",
    "plt.ylabel(r'$P(\\tilde{y}=1)$', size =12)\n",
    "plt.xticks(np.arange(0, N_runs+1, 5), size = 12)\n",
    "plt.yticks([0.0, 0.2, 0.4, 0.6, 0.8, 1.0], size = 12)\n",
    "plt.ylim(0,1)\n",
    "plt.grid(alpha=.3)\n",
    "plt.legend()\n",
    "plt.savefig('output/multi_run_fixed.png', dpi = 300)"
   ]
  },
  {
   "cell_type": "code",
   "execution_count": null,
   "metadata": {},
   "outputs": [],
   "source": [
    "ttest_ind(p1_ens, p1_avg)"
   ]
  },
  {
   "cell_type": "markdown",
   "metadata": {},
   "source": [
    "# Behaviour of quantum cosine classifiers on 1000 random generated datasets"
   ]
  },
  {
   "cell_type": "code",
   "execution_count": 3,
   "metadata": {},
   "outputs": [],
   "source": [
    "n_shots = 1000\n",
    "n=1000\n",
    "x = []\n",
    "x_err = []\n",
    "P0 = []\n",
    "P1 = []\n",
    "\n",
    "for i in np.arange(n):\n",
    "    '''Random generated vectors'''\n",
    "    x_train = [random.uniform(-1, 1), random.uniform(0, 1)]\n",
    "    x_train_norm = normalize_custom(x_train)\n",
    "    x_test = [random.uniform(-1, 1), random.uniform(0, 1)]\n",
    "    x_test_norm = normalize_custom(x_test)\n",
    "\n",
    "    '''Compute cosine distance and append it to x'''\n",
    "    d_cos = cosine_similarity([x_train], [x_test])[0][0]\n",
    "    x.append(d_cos)\n",
    "\n",
    "    '''If x_train belongs to class 0'''\n",
    "    qc = cos_classifier(x_train_norm, x_test_norm, [1,0])\n",
    "    r = exec_simulator(qc, n_shots)\n",
    "    P_q = r['0']/n_shots\n",
    "    P0.append(P_q)\n",
    "    d_cos_err = np.sqrt(2*P_q-1)\n",
    "    x_err.append( d_cos_err )\n",
    "\n",
    "\n",
    "P0 = np.array(P0)\n",
    "x = np.array(x)\n",
    "x_err = np.array(x_err)\n",
    "\n",
    "order = x.argsort()\n",
    "\n",
    "x = x[order[::-1]]\n",
    "P0 = P0[order[::-1]]\n",
    "x_err = x_err[order[::-1]]\n",
    "\n",
    "err = [ abs(x1 - x2) for (x1, x2) in zip(abs(x), x_err)]\n",
    "err = np.array(err)\n",
    "P1 = 1-P0"
   ]
  }
 ],
 "metadata": {
  "kernelspec": {
   "display_name": "Python 3",
   "language": "python",
   "name": "python3"
  },
  "language_info": {
   "codemirror_mode": {
    "name": "ipython",
    "version": 3
   },
   "file_extension": ".py",
   "mimetype": "text/x-python",
   "name": "python",
   "nbconvert_exporter": "python",
   "pygments_lexer": "ipython3",
   "version": "3.6.9"
  }
 },
 "nbformat": 4,
 "nbformat_minor": 2
}

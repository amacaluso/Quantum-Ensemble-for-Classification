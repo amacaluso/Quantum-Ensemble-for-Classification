{
 "cells": [
  {
   "cell_type": "code",
   "execution_count": null,
   "metadata": {
    "scrolled": true
   },
   "outputs": [],
   "source": [
    "import sys\n",
    "\n",
    "sys.path.insert(1, '../')\n",
    "\n",
    "from Utils import *\n",
    "from modeling import *\n",
    "\n",
    "create_dir('data')\n",
    "create_dir('output')\n",
    "\n",
    "seed = 963\n",
    "\n",
    "np.random.seed(seed)\n",
    "\n",
    "X, y = load_data(centers=[[.0, .8], [.8, .5]], n=200, std=.20)"
   ]
  },
  {
   "cell_type": "code",
   "execution_count": null,
   "metadata": {},
   "outputs": [],
   "source": [
    "test_size = .1\n",
    "X_train, X_test, y_train, y_test = train_test_split(X, y, random_state=seed, test_size=test_size)\n",
    "\n",
    "Y_vector_train = label_to_array(y_train)\n",
    "Y_vector_test = label_to_array(y_test)\n",
    "\n",
    "print(\"Size Training Set: \", len(X_train))\n",
    "print(\"Size Test Set: \", len(X_test))\n",
    "\n",
    "n_shots = 1000\n",
    "accuracy = []\n",
    "predictions = []"
   ]
  },
  {
   "cell_type": "code",
   "execution_count": null,
   "metadata": {},
   "outputs": [],
   "source": [
    "from qiskit import IBMQ\n",
    "\n",
    "IBMQ.load_account()\n",
    "provider = IBMQ.get_provider(hub='ibm-q')\n",
    "provider.backends()\n",
    "real_device = provider.get_backend('ibmq_16_melbourne')"
   ]
  },
  {
   "cell_type": "code",
   "execution_count": null,
   "metadata": {},
   "outputs": [],
   "source": [
    "for x_test, y_ts in zip(X_test, Y_vector_test):\n",
    "\n",
    "    X_data, Y_data = training_set(X_train, y_train, n=4)\n",
    "    x_test = normalize_custom(x_test)\n",
    "\n",
    "    qc = ensemble(X_data, Y_data, x_test, n_swap=1, d=2, balanced=True)\n",
    "    # r = exec_simulator(qc, n_shots=n_shots)\n",
    "    \n",
    "    job = execute(qc, real_device, shots = n_shots)\n",
    "    results = job.result()\n",
    "    r = results.get_counts(qc)\n",
    "\n",
    "    predictions.append(retrieve_proba(r))\n",
    "    print(retrieve_proba(r), y_ts)"
   ]
  },
  {
   "cell_type": "code",
   "execution_count": null,
   "metadata": {},
   "outputs": [],
   "source": [
    "job.results()"
   ]
  },
  {
   "cell_type": "code",
   "execution_count": null,
   "metadata": {},
   "outputs": [],
   "source": [
    "a, b = evaluation_metrics(predictions, X_test, y_test)\n",
    "print(a,b)"
   ]
  }
 ],
 "metadata": {
  "kernelspec": {
   "display_name": "Python 3",
   "language": "python",
   "name": "python3"
  },
  "language_info": {
   "codemirror_mode": {
    "name": "ipython",
    "version": 3
   },
   "file_extension": ".py",
   "mimetype": "text/x-python",
   "name": "python",
   "nbconvert_exporter": "python",
   "pygments_lexer": "ipython3",
   "version": "3.7.3"
  }
 },
 "nbformat": 4,
 "nbformat_minor": 2
}

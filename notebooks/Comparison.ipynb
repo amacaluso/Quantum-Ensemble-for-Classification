{
 "cells": [
  {
   "cell_type": "code",
   "execution_count": 1,
   "metadata": {},
   "outputs": [
    {
     "name": "stdout",
     "output_type": "stream",
     "text": [
      "The directory data  already exists\n",
      "The directory output  already exists\n",
      "The directory IMG  already exists\n"
     ]
    },
    {
     "data": {
      "text/plain": [
       "<Figure size 600x600 with 3 Axes>"
      ]
     },
     "metadata": {},
     "output_type": "display_data"
    },
    {
     "name": "stdout",
     "output_type": "stream",
     "text": [
      "Size Training Set:  180\n",
      "Size Test Set:  20\n"
     ]
    }
   ],
   "source": [
    "import sys\n",
    "\n",
    "sys.path.insert(1, '../')\n",
    "\n",
    "from Utils import *\n",
    "\n",
    "create_dir('data')\n",
    "create_dir('output')\n",
    "create_dir('IMG')\n",
    "\n",
    "seed = 4552\n",
    "\n",
    "np.random.seed(seed)\n",
    "\n",
    "X, y = load_data(n=200, std=.20)\n",
    "\n",
    "test_size = .1\n",
    "X_train, X_test, y_train, y_test = train_test_split(X, y, random_state=seed, test_size=test_size)\n",
    "\n",
    "Y_vector_train = label_to_array(y_train)\n",
    "Y_vector_test = label_to_array(y_test)\n",
    "\n",
    "print(\"Size Training Set: \", len(X_train))\n",
    "print(\"Size Test Set: \", len(X_test))\n",
    "\n",
    "accuracy = []\n",
    "n_shots = 8192\n",
    "predictions = []"
   ]
  },
  {
   "cell_type": "code",
   "execution_count": 2,
   "metadata": {},
   "outputs": [],
   "source": [
    "from qiskit import IBMQ\n",
    "\n",
    "IBMQ.load_account()\n",
    "provider = IBMQ.get_provider(hub='ibm-q')\n",
    "provider.backends()\n",
    "real_device = provider.get_backend('ibmq_qasm_simulator')"
   ]
  },
  {
   "cell_type": "code",
   "execution_count": 3,
   "metadata": {},
   "outputs": [
    {
     "name": "stderr",
     "output_type": "stream",
     "text": [
      "..\\Utils.py:386: ComplexWarning: Casting complex values to real discards the imaginary part\n",
      "  X_data[i] = normalize_custom(X_data[i])\n",
      "Error checking job status using websocket, retrying using HTTP.\n"
     ]
    },
    {
     "ename": "JobError",
     "evalue": "'Invalid job state. The job should be DONE but it is JobStatus.ERROR'",
     "output_type": "error",
     "traceback": [
      "\u001b[1;31m---------------------------------------------------------------------------\u001b[0m",
      "\u001b[1;31mJobError\u001b[0m                                  Traceback (most recent call last)",
      "\u001b[1;32m<ipython-input-3-e6918c5f8ec0>\u001b[0m in \u001b[0;36m<module>\u001b[1;34m\u001b[0m\n\u001b[0;32m      8\u001b[0m \u001b[1;33m\u001b[0m\u001b[0m\n\u001b[0;32m      9\u001b[0m     \u001b[0mjob\u001b[0m \u001b[1;33m=\u001b[0m \u001b[0mexecute\u001b[0m\u001b[1;33m(\u001b[0m\u001b[0mqc\u001b[0m\u001b[1;33m,\u001b[0m \u001b[0mreal_device\u001b[0m\u001b[1;33m,\u001b[0m \u001b[0mshots\u001b[0m \u001b[1;33m=\u001b[0m \u001b[0mn_shots\u001b[0m\u001b[1;33m)\u001b[0m\u001b[1;33m\u001b[0m\u001b[1;33m\u001b[0m\u001b[0m\n\u001b[1;32m---> 10\u001b[1;33m     \u001b[0mresults\u001b[0m \u001b[1;33m=\u001b[0m \u001b[0mjob\u001b[0m\u001b[1;33m.\u001b[0m\u001b[0mresult\u001b[0m\u001b[1;33m(\u001b[0m\u001b[1;33m)\u001b[0m\u001b[1;33m\u001b[0m\u001b[1;33m\u001b[0m\u001b[0m\n\u001b[0m\u001b[0;32m     11\u001b[0m     \u001b[0mr\u001b[0m \u001b[1;33m=\u001b[0m \u001b[0mresults\u001b[0m\u001b[1;33m.\u001b[0m\u001b[0mget_counts\u001b[0m\u001b[1;33m(\u001b[0m\u001b[0mqc\u001b[0m\u001b[1;33m)\u001b[0m\u001b[1;33m\u001b[0m\u001b[1;33m\u001b[0m\u001b[0m\n\u001b[0;32m     12\u001b[0m \u001b[1;33m\u001b[0m\u001b[0m\n",
      "\u001b[1;32m~\\Anaconda3\\lib\\site-packages\\qiskit\\providers\\ibmq\\job\\ibmqjob.py\u001b[0m in \u001b[0;36mresult\u001b[1;34m(self, timeout, wait)\u001b[0m\n\u001b[0;32m    252\u001b[0m         \u001b[1;32mif\u001b[0m \u001b[0mstatus\u001b[0m \u001b[1;32mis\u001b[0m \u001b[1;32mnot\u001b[0m \u001b[0mJobStatus\u001b[0m\u001b[1;33m.\u001b[0m\u001b[0mDONE\u001b[0m\u001b[1;33m:\u001b[0m\u001b[1;33m\u001b[0m\u001b[1;33m\u001b[0m\u001b[0m\n\u001b[0;32m    253\u001b[0m             raise JobError('Invalid job state. The job should be DONE but '\n\u001b[1;32m--> 254\u001b[1;33m                            'it is {}'.format(str(status)))\n\u001b[0m\u001b[0;32m    255\u001b[0m \u001b[1;33m\u001b[0m\u001b[0m\n\u001b[0;32m    256\u001b[0m         \u001b[1;32mif\u001b[0m \u001b[1;32mnot\u001b[0m \u001b[0mself\u001b[0m\u001b[1;33m.\u001b[0m\u001b[0m_result\u001b[0m\u001b[1;33m:\u001b[0m\u001b[1;33m\u001b[0m\u001b[1;33m\u001b[0m\u001b[0m\n",
      "\u001b[1;31mJobError\u001b[0m: 'Invalid job state. The job should be DONE but it is JobStatus.ERROR'"
     ]
    }
   ],
   "source": [
    "for x_test, y_ts in zip(X_test, Y_vector_test):\n",
    "\n",
    "    X_data, Y_data = training_set(X_train, y_train, n=12)\n",
    "    x_test = normalize_custom(x_test)\n",
    "\n",
    "    qc = ensemble(X_data, Y_data, x_test, n_swap=1, d=6, balanced=True)\n",
    "    # r = exec_simulator(qc, n_shots=n_shots)\n",
    "    \n",
    "    job = execute(qc, real_device, shots = n_shots)\n",
    "    results = job.result()\n",
    "    r = results.get_counts(qc)\n",
    "\n",
    "    predictions.append(retrieve_proba(r))\n",
    "    print(retrieve_proba(r), y_ts)\n",
    "\n",
    "a, b = evaluation_metrics(predictions, X_test, y_test)"
   ]
  }
 ],
 "metadata": {
  "kernelspec": {
   "display_name": "Python 3",
   "language": "python",
   "name": "python3"
  },
  "language_info": {
   "codemirror_mode": {
    "name": "ipython",
    "version": 3
   },
   "file_extension": ".py",
   "mimetype": "text/x-python",
   "name": "python",
   "nbconvert_exporter": "python",
   "pygments_lexer": "ipython3",
   "version": "3.7.3"
  }
 },
 "nbformat": 4,
 "nbformat_minor": 2
}

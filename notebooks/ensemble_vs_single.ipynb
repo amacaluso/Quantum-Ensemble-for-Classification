{
 "cells": [
  {
   "cell_type": "markdown",
   "metadata": {},
   "source": [
    "# Single cosine distance classifier vs Ensemble of 4 classifiers "
   ]
  },
  {
   "cell_type": "markdown",
   "metadata": {},
   "source": [
    "### Load data and packages"
   ]
  },
  {
   "cell_type": "code",
   "execution_count": 26,
   "metadata": {},
   "outputs": [
    {
     "name": "stdout",
     "output_type": "stream",
     "text": [
      "The directory data  already exists\n",
      "The directory output  already exists\n",
      "7464\n"
     ]
    }
   ],
   "source": [
    "import sys\n",
    "\n",
    "sys.path.insert(1, '../')\n",
    "\n",
    "from Utils import *\n",
    "from modeling import *\n",
    "\n",
    "create_dir('data')\n",
    "create_dir('output')\n",
    "\n",
    "seed = random.randint(1, 10000)\n",
    "np.random.seed(seed)\n",
    "print(seed)\n",
    "\n",
    "# X, y = load_data(centers = [[.0, .9], [.6, .7]], n=200, std=.15)\n",
    "X, y = load_data(centers=[[.0, .8], [.6, .3]], n=200, std=.15, plot = False, save = False)"
   ]
  },
  {
   "cell_type": "markdown",
   "metadata": {},
   "source": [
    "### Split data in training and test"
   ]
  },
  {
   "cell_type": "code",
   "execution_count": 27,
   "metadata": {},
   "outputs": [
    {
     "name": "stdout",
     "output_type": "stream",
     "text": [
      "Size Training Set:  180\n",
      "Size Test Set:  20\n"
     ]
    }
   ],
   "source": [
    "test_size = .1\n",
    "X_train, X_test, y_train, y_test = train_test_split(X, y, random_state=seed, test_size=test_size)\n",
    "\n",
    "Y_vector_train = label_to_array(y_train)\n",
    "Y_vector_test = label_to_array(y_test)\n",
    "\n",
    "print(\"Size Training Set: \", len(X_train))\n",
    "print(\"Size Test Set: \", len(X_test))"
   ]
  },
  {
   "cell_type": "code",
   "execution_count": 25,
   "metadata": {},
   "outputs": [
    {
     "data": {
      "text/plain": [
       "array([[ 0.87391424+0.j,  0.48608013+0.j],\n",
       "       [ 0.8911968 +0.j,  0.45361687+0.j],\n",
       "       [-0.30554984+0.j,  0.95217609+0.j],\n",
       "       [-0.18031068+0.j,  0.98360971+0.j]])"
      ]
     },
     "execution_count": 25,
     "metadata": {},
     "output_type": "execute_result"
    }
   ],
   "source": [
    "# def training_set(X, Y, n=4):\n",
    "#     ix_y1 = np.random.choice(np.where(Y == 1)[0], int(n / 2), replace=False)\n",
    "#     ix_y0 = np.random.choice(np.where(Y == 0)[0], int(n / 2), replace=False)\n",
    "\n",
    "#     X_data = np.concatenate([X[ix_y1], X[ix_y0]])\n",
    "#     X_data_new = []\n",
    "\n",
    "#     for i in range(len(X_data)):\n",
    "#         X_data_new.append(normalize_custom(X_data[i]))\n",
    "    \n",
    "#     X_data_new = np.array(X_data_new)\n",
    "\n",
    "#     Y_vector = label_to_array(Y)\n",
    "#     Y_data = np.concatenate([Y_vector[ix_y1], Y_vector[ix_y0]])\n",
    "\n",
    "#     return X_data_new, Y_data\n",
    "\n",
    "# for x_test, y_ts in zip(X_test, Y_vector_test):\n",
    "\n",
    "#     X_data, Y_data = training_set(X_train, y_train, n=4)\n",
    "#     x_test = normalize_custom(x_test)\n",
    "\n",
    "# X_data\n"
   ]
  },
  {
   "cell_type": "code",
   "execution_count": 24,
   "metadata": {},
   "outputs": [
    {
     "name": "stderr",
     "output_type": "stream",
     "text": [
      "C:\\Users\\anton\\Anaconda3\\lib\\site-packages\\ipykernel_launcher.py:8: ComplexWarning: Casting complex values to real discards the imaginary part\n",
      "  \n"
     ]
    }
   ],
   "source": [
    "def training_set(X, Y, n=4):\n",
    "    ix_y1 = np.random.choice(np.where(Y == 1)[0], int(n / 2), replace=False)\n",
    "    ix_y0 = np.random.choice(np.where(Y == 0)[0], int(n / 2), replace=False)\n",
    "\n",
    "    X_data = np.concatenate([X[ix_y1], X[ix_y0]])\n",
    "\n",
    "    for i in range(len(X_data)):\n",
    "        X_data[i] = normalize_custom(X_data[i])\n",
    "    \n",
    "    Y_vector = label_to_array(Y)\n",
    "    Y_data = np.concatenate([Y_vector[ix_y1], Y_vector[ix_y0]])\n",
    "\n",
    "    return X_data, Y_data\n",
    "\n",
    "for x_test, y_ts in zip(X_test, Y_vector_test):\n",
    "\n",
    "    X_data, Y_data = training_set(X_train, y_train, n=4)\n",
    "    x_test = normalize_custom(x_test)\n",
    "\n"
   ]
  },
  {
   "cell_type": "markdown",
   "metadata": {},
   "source": [
    "### Quantum cosine classifier for all the observations of the test set"
   ]
  },
  {
   "cell_type": "code",
   "execution_count": null,
   "metadata": {},
   "outputs": [],
   "source": [
    "accuracy = []\n",
    "n_shots = 1000\n",
    "\n",
    "for i in range(10):\n",
    "    #initialisation\n",
    "    n = range(len(X_train))\n",
    "    TP = 0\n",
    "    predictions = []\n",
    "    probabilities = []\n",
    "\n",
    "    for x_test, y_ts in zip(X_test, Y_vector_test):\n",
    "        ix = np.random.choice(n, 1)[0]\n",
    "        x_train = X_train[ix]\n",
    "        x_tr = normalize_custom(x_train)\n",
    "        y_tr = Y_vector_train[ix]\n",
    "        x_ts = normalize_custom(x_test)\n",
    "\n",
    "        qc = cos_classifier(x_tr, x_ts, y_tr)\n",
    "        r = exec_simulator(qc, n_shots=n_shots)\n",
    "\n",
    "        if '0' not in r.keys():\n",
    "            r['0'] = 0\n",
    "        elif '1' not in r.keys():\n",
    "            r['1'] = 0\n",
    "\n",
    "        p0 = (r['0'] / (r['0'] + r['1']))\n",
    "        p0 = p0\n",
    "        p1 = 1 - p0\n",
    "\n",
    "        predictions.append(r)\n",
    "        probabilities.append(predict_cos(r))\n",
    "        probs = [p0, p1]\n",
    "\n",
    "\n",
    "        if predict_cos(r)[0] > predict_cos(r)[1]:\n",
    "            pred = [1, 0]\n",
    "            pred = np.asarray(pred)\n",
    "        else:\n",
    "            pred = [0, 1]\n",
    "            pred = np.asarray(pred)\n",
    "\n",
    "        if np.array_equal(pred, y_ts):\n",
    "            TP = TP + 1\n",
    "\n",
    "    accuracy.append(TP / len(X_test))\n",
    "\n",
    "print('AVG Accuracy multiple cosine classifier:', np.mean(accuracy))\n",
    "print('STD Accuracy multiple cosine classifier:', np.std(accuracy))\n",
    "\n",
    "print(qc)"
   ]
  },
  {
   "cell_type": "markdown",
   "metadata": {},
   "source": [
    "### Choose device"
   ]
  },
  {
   "cell_type": "code",
   "execution_count": null,
   "metadata": {},
   "outputs": [],
   "source": [
    "from qiskit import IBMQ\n",
    "\n",
    "IBMQ.load_account()\n",
    "provider = IBMQ.get_provider(hub='ibm-q')\n",
    "provider.backends()\n",
    "real_device = provider.get_backend('ibmq_qasm_simulator')"
   ]
  },
  {
   "cell_type": "code",
   "execution_count": null,
   "metadata": {},
   "outputs": [],
   "source": [
    "predictions = []\n",
    "\n",
    "for x_test, y_ts in zip(X_test, Y_vector_test):\n",
    "\n",
    "    X_data, Y_data = training_set(X_train, y_train, n=4)\n",
    "    x_test = normalize_custom(x_test)\n",
    "\n",
    "    qc = ensemble(X_data, Y_data, x_test, n_swap=1, d=2, balanced=False)\n",
    "    # r = exec_simulator(qc, n_shots=n_shots)\n",
    "    \n",
    "    job = execute(qc, real_device, shots = n_shots)\n",
    "    results = job.result()\n",
    "    r = results.get_counts(qc)\n",
    "\n",
    "    predictions.append(retrieve_proba(r))\n",
    "    # print(retrieve_proba(r), y_ts)"
   ]
  },
  {
   "cell_type": "code",
   "execution_count": null,
   "metadata": {},
   "outputs": [],
   "source": [
    "a, b = evaluation_metrics(predictions, X_test, y_test)\n",
    "#print(qc)"
   ]
  },
  {
   "cell_type": "code",
   "execution_count": null,
   "metadata": {},
   "outputs": [],
   "source": [
    "IBMQ.load_account()\n",
    "provider = IBMQ.get_provider(hub='ibm-q')\n",
    "provider.backends()\n",
    "real_device = provider.get_backend('essex')"
   ]
  },
  {
   "cell_type": "code",
   "execution_count": null,
   "metadata": {},
   "outputs": [],
   "source": [
    "accuracy = []\n",
    "\n",
    "for i in range(10):\n",
    "    #initialisation\n",
    "    n = range(len(X_train))\n",
    "    TP = 0\n",
    "    predictions = []\n",
    "    probabilities = []\n",
    "\n",
    "    for x_test, y_ts in zip(X_test, Y_vector_test):\n",
    "        ix = np.random.choice(n, 1)[0]\n",
    "        x_train = X_train[ix]\n",
    "        x_tr = normalize_custom(x_train)\n",
    "        y_tr = Y_vector_train[ix]\n",
    "        x_ts = normalize_custom(x_test)\n",
    "\n",
    "        qc = cos_classifier(x_tr, x_ts, y_tr)\n",
    "        # r = exec_simulator(qc, n_shots=n_shots)\n",
    "        \n",
    "        job = execute(qc, real_device, shots = n_shots)\n",
    "        results = job.result()\n",
    "        r = results.get_counts(qc)\n",
    "\n",
    "        if '0' not in r.keys():\n",
    "            r['0'] = 0\n",
    "        elif '1' not in r.keys():\n",
    "            r['1'] = 0\n",
    "\n",
    "        p0 = (r['0'] / (r['0'] + r['1']))\n",
    "        p0 = p0\n",
    "        p1 = 1 - p0\n",
    "\n",
    "        predictions.append(r)\n",
    "        probabilities.append(predict_cos(r))\n",
    "        probs = [p0, p1]\n",
    "\n",
    "\n",
    "        if predict_cos(r)[0] > predict_cos(r)[1]:\n",
    "            pred = [1, 0]\n",
    "            pred = np.asarray(pred)\n",
    "        else:\n",
    "            pred = [0, 1]\n",
    "            pred = np.asarray(pred)\n",
    "\n",
    "        if np.array_equal(pred, y_ts):\n",
    "            TP = TP + 1\n",
    "\n",
    "    accuracy.append(TP / len(X_test))\n",
    "\n",
    "print('AVG Accuracy multiple cosine classifier:', np.mean(accuracy))\n",
    "print('STD Accuracy multiple cosine classifier:', np.std(accuracy))\n",
    "\n",
    "print(qc)"
   ]
  },
  {
   "cell_type": "code",
   "execution_count": null,
   "metadata": {},
   "outputs": [],
   "source": [
    "IBMQ.load_account()\n",
    "provider = IBMQ.get_provider(hub='ibm-q')\n",
    "provider.backends()\n",
    "real_device = provider.get_backend('ibmq_16_melbourne')"
   ]
  },
  {
   "cell_type": "code",
   "execution_count": null,
   "metadata": {},
   "outputs": [],
   "source": [
    "predictions = []\n",
    "\n",
    "for x_test, y_ts in zip(X_test, Y_vector_test):\n",
    "\n",
    "    X_data, Y_data = training_set(X_train, y_train, n=2)\n",
    "    x_test = normalize_custom(x_test)\n",
    "\n",
    "    qc = ensemble(X_data, Y_data, x_test, n_swap=1, d=1, balanced=True)\n",
    "    \n",
    "    job = execute(qc, real_device, shots = n_shots)\n",
    "    results = job.result()\n",
    "    r = results.get_counts(qc)\n",
    "\n",
    "    predictions.append(retrieve_proba(r))\n",
    "    print(retrieve_proba(r), y_ts)"
   ]
  },
  {
   "cell_type": "code",
   "execution_count": null,
   "metadata": {},
   "outputs": [],
   "source": [
    "a, b = evaluation_metrics(predictions, X_test, y_test)\n",
    "print(qc)"
   ]
  }
 ],
 "metadata": {
  "kernelspec": {
   "display_name": "Python 3",
   "language": "python",
   "name": "python3"
  },
  "language_info": {
   "codemirror_mode": {
    "name": "ipython",
    "version": 3
   },
   "file_extension": ".py",
   "mimetype": "text/x-python",
   "name": "python",
   "nbconvert_exporter": "python",
   "pygments_lexer": "ipython3",
   "version": "3.7.3"
  }
 },
 "nbformat": 4,
 "nbformat_minor": 2
}

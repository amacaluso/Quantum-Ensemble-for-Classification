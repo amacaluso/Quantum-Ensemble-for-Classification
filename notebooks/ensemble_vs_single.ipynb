{
 "cells": [
  {
   "cell_type": "markdown",
   "metadata": {},
   "source": [
    "# Single cosine distance classifier vs Ensemble of 4 classifiers "
   ]
  },
  {
   "cell_type": "markdown",
   "metadata": {},
   "source": [
    "### Load data and packages"
   ]
  },
  {
   "cell_type": "code",
   "execution_count": null,
   "metadata": {},
   "outputs": [],
   "source": [
    "import sys\n",
    "\n",
    "sys.path.insert(1, '../')\n",
    "\n",
    "from Utils import *\n",
    "from modeling import *\n",
    "\n",
    "create_dir('data')\n",
    "create_dir('output')\n",
    "\n",
    "# seed = random.randint(1, 10000)\n",
    "# np.random.seed(seed)\n",
    "# print(seed)\n",
    "seed = 962\n",
    "np.random.seed(seed)\n",
    "\n",
    "test_size = .1\n",
    "\n",
    "X, y = load_data(n=200, std=.3, plot = True, save = False)\n",
    "\n",
    "n_shots = 100\n",
    "n_run = 5"
   ]
  },
  {
   "cell_type": "markdown",
   "metadata": {},
   "source": [
    "### Split data in training and test"
   ]
  },
  {
   "cell_type": "code",
   "execution_count": 2,
   "metadata": {},
   "outputs": [
    {
     "name": "stdout",
     "output_type": "stream",
     "text": [
      "Size Training Set:  180\n",
      "Size Test Set:  20\n"
     ]
    }
   ],
   "source": [
    "X_train, X_test, y_train, y_test = train_test_split(X, y, random_state=seed, test_size=test_size)\n",
    "\n",
    "Y_vector_train = label_to_array(y_train)\n",
    "Y_vector_test = label_to_array(y_test)\n",
    "\n",
    "print(\"Size Training Set: \", len(X_train))\n",
    "print(\"Size Test Set: \", len(X_test))"
   ]
  },
  {
   "cell_type": "markdown",
   "metadata": {},
   "source": [
    "### Quantum cosine classifier for all the observations of the test set"
   ]
  },
  {
   "cell_type": "code",
   "execution_count": null,
   "metadata": {},
   "outputs": [],
   "source": [
    "accuracy = []\n",
    "\n",
    "for i in range(n_run):\n",
    "    #initialisation\n",
    "    n = range(len(X_train))\n",
    "    TP = 0\n",
    "    predictions = []\n",
    "    probabilities = []\n",
    "\n",
    "    for x_test, y_ts in zip(X_test, Y_vector_test):\n",
    "        ix = np.random.choice(n, 1)[0]\n",
    "        x_train = X_train[ix]\n",
    "        x_tr = normalize_custom(x_train)\n",
    "        y_tr = Y_vector_train[ix]\n",
    "        x_ts = normalize_custom(x_test)\n",
    "\n",
    "        qc = cos_classifier(x_tr, x_ts, y_tr)\n",
    "        r = exec_simulator(qc, n_shots=n_shots)\n",
    "\n",
    "        if '0' not in r.keys():\n",
    "            r['0'] = 0\n",
    "        elif '1' not in r.keys():\n",
    "            r['1'] = 0\n",
    "\n",
    "        p0 = (r['0'] / (r['0'] + r['1']))\n",
    "        p0 = p0\n",
    "        p1 = 1 - p0\n",
    "\n",
    "        predictions.append(r)\n",
    "        probabilities.append(predict_cos(r))\n",
    "        probs = [p0, p1]\n",
    "\n",
    "\n",
    "        if predict_cos(r)[0] > predict_cos(r)[1]:\n",
    "            pred = [1, 0]\n",
    "            pred = np.asarray(pred)\n",
    "        else:\n",
    "            pred = [0, 1]\n",
    "            pred = np.asarray(pred)\n",
    "\n",
    "        if np.array_equal(pred, y_ts):\n",
    "            TP = TP + 1\n",
    "\n",
    "    accuracy.append(TP / len(X_test))\n",
    "\n",
    "\n",
    "cos_accuracy_mean = np.mean(accuracy)\n",
    "cos_accuracy_std = np.std(accuracy)\n",
    "\n",
    "print('AVG Accuracy multiple cosine classifier:', cos_accuracy_mean)\n",
    "print('STD Accuracy multiple cosine classifier:', cos_accuracy_std)\n",
    "\n",
    "print(qc)"
   ]
  },
  {
   "cell_type": "markdown",
   "metadata": {},
   "source": [
    "### Choose device"
   ]
  },
  {
   "cell_type": "code",
   "execution_count": null,
   "metadata": {},
   "outputs": [],
   "source": [
    "IBMQ.load_account()\n",
    "provider = IBMQ.get_provider(hub='ibm-q')\n",
    "provider.backends()\n",
    "real_device = provider.get_backend('ibmq_16_melbourne')\n",
    "\n",
    "all_acc_ens = []\n",
    "all_brier_ens = []"
   ]
  },
  {
   "cell_type": "code",
   "execution_count": null,
   "metadata": {},
   "outputs": [],
   "source": [
    "predictions = []\n",
    "accuracy_ens = []\n",
    "brier_ens = []\n",
    "\n",
    "d=1\n",
    "\n",
    "for i in range(n_run):\n",
    "    n = range(len(X_train))\n",
    "    predictions = []\n",
    "    \n",
    "    for x_test, y_ts in zip(X_test, Y_vector_test):\n",
    "\n",
    "        X_data, Y_data = training_set(X_train, y_train, n=2**d)\n",
    "        x_test = normalize_custom(x_test)\n",
    "\n",
    "        qc = ensemble(X_data, Y_data, x_test, n_swap=1, d=d, balanced=True)\n",
    "        qc = transpile(qc, basis_gates = ['u1', 'u2', 'u3', 'cx'], optimization_level=3)\n",
    "        # r = exec_simulator(qc, n_shots=n_shots)\n",
    "\n",
    "        job = execute(qc, real_device, shots = n_shots)\n",
    "        results = job.result()\n",
    "        r = results.get_counts(qc)\n",
    "\n",
    "        predictions.append(retrieve_proba(r))\n",
    "        \n",
    "    acc, brier = evaluation_metrics(predictions, X_test, y_test)\n",
    "    accuracy_ens.append(acc)\n",
    "    brier_ens.append(brier)"
   ]
  },
  {
   "cell_type": "code",
   "execution_count": 6,
   "metadata": {},
   "outputs": [
    {
     "name": "stdout",
     "output_type": "stream",
     "text": [
      "AVG Accuracy ensemble: 0.93 1\n"
     ]
    }
   ],
   "source": [
    "ens_accuracy_mean = np.mean(accuracy_ens)\n",
    "ens_accuracy_std = np.std(accuracy_ens)\n",
    "\n",
    "print('AVG Accuracy ensemble:',ens_accuracy_mean, d)\n",
    "\n",
    "ens_brier_mean = np.mean(brier_ens)\n",
    "ens_brier_std = np.std(brier_ens)\n",
    "\n",
    "\n",
    "all_acc_ens.append([ens_accuracy_mean, ens_accuracy_std])\n",
    "all_brier_ens.append([ens_brier_mean, ens_brier_std])"
   ]
  },
  {
   "cell_type": "code",
   "execution_count": 7,
   "metadata": {},
   "outputs": [],
   "source": [
    "predictions = []\n",
    "accuracy_ens = []\n",
    "brier_ens = []\n",
    "\n",
    "d=2\n",
    "\n",
    "for i in range(n_run):\n",
    "    n = range(len(X_train))\n",
    "    predictions = []\n",
    "    \n",
    "    for x_test, y_ts in zip(X_test, Y_vector_test):\n",
    "\n",
    "        X_data, Y_data = training_set(X_train, y_train, n=2**d)\n",
    "        x_test = normalize_custom(x_test)\n",
    "\n",
    "        qc = ensemble(X_data, Y_data, x_test, n_swap=1, d=d, balanced=True)\n",
    "        qc = transpile(qc, basis_gates = ['u1', 'u2', 'u3', 'cx'], optimization_level=3)\n",
    "        # r = exec_simulator(qc, n_shots=n_shots)\n",
    "\n",
    "        job = execute(qc, real_device, shots = n_shots)\n",
    "        results = job.result()\n",
    "        r = results.get_counts(qc)\n",
    "\n",
    "        predictions.append(retrieve_proba(r))\n",
    "        \n",
    "    acc, brier = evaluation_metrics(predictions, X_test, y_test)\n",
    "    accuracy_ens.append(acc)\n",
    "    brier_ens.append(brier)"
   ]
  },
  {
   "cell_type": "code",
   "execution_count": 8,
   "metadata": {},
   "outputs": [
    {
     "name": "stdout",
     "output_type": "stream",
     "text": [
      "AVG Accuracy ensemble: 0.9 2\n"
     ]
    }
   ],
   "source": [
    "ens_accuracy_mean = np.mean(accuracy_ens)\n",
    "ens_accuracy_std = np.std(accuracy_ens)\n",
    "\n",
    "print('AVG Accuracy ensemble:',ens_accuracy_mean, d)\n",
    "\n",
    "ens_brier_mean = np.mean(brier_ens)\n",
    "ens_brier_std = np.std(brier_ens)\n",
    "\n",
    "\n",
    "all_acc_ens.append([ens_accuracy_mean, ens_accuracy_std])\n",
    "all_brier_ens.append([ens_brier_mean, ens_brier_std])"
   ]
  },
  {
   "cell_type": "code",
   "execution_count": 9,
   "metadata": {},
   "outputs": [
    {
     "ename": "IBMQJobFailureError",
     "evalue": "'Unable to retrieve result for job 5eb9b49171f87a001b9d481d. Job has failed. Use job.error_message() to get more details.'",
     "output_type": "error",
     "traceback": [
      "\u001b[1;31m---------------------------------------------------------------------------\u001b[0m",
      "\u001b[1;31mIBMQJobFailureError\u001b[0m                       Traceback (most recent call last)",
      "\u001b[1;32m<ipython-input-9-3e1f252cf835>\u001b[0m in \u001b[0;36m<module>\u001b[1;34m\u001b[0m\n\u001b[0;32m     19\u001b[0m \u001b[1;33m\u001b[0m\u001b[0m\n\u001b[0;32m     20\u001b[0m         \u001b[0mjob\u001b[0m \u001b[1;33m=\u001b[0m \u001b[0mexecute\u001b[0m\u001b[1;33m(\u001b[0m\u001b[0mqc\u001b[0m\u001b[1;33m,\u001b[0m \u001b[0mreal_device\u001b[0m\u001b[1;33m,\u001b[0m \u001b[0mshots\u001b[0m \u001b[1;33m=\u001b[0m \u001b[0mn_shots\u001b[0m\u001b[1;33m)\u001b[0m\u001b[1;33m\u001b[0m\u001b[1;33m\u001b[0m\u001b[0m\n\u001b[1;32m---> 21\u001b[1;33m         \u001b[0mresults\u001b[0m \u001b[1;33m=\u001b[0m \u001b[0mjob\u001b[0m\u001b[1;33m.\u001b[0m\u001b[0mresult\u001b[0m\u001b[1;33m(\u001b[0m\u001b[1;33m)\u001b[0m\u001b[1;33m\u001b[0m\u001b[1;33m\u001b[0m\u001b[0m\n\u001b[0m\u001b[0;32m     22\u001b[0m         \u001b[0mr\u001b[0m \u001b[1;33m=\u001b[0m \u001b[0mresults\u001b[0m\u001b[1;33m.\u001b[0m\u001b[0mget_counts\u001b[0m\u001b[1;33m(\u001b[0m\u001b[0mqc\u001b[0m\u001b[1;33m)\u001b[0m\u001b[1;33m\u001b[0m\u001b[1;33m\u001b[0m\u001b[0m\n\u001b[0;32m     23\u001b[0m \u001b[1;33m\u001b[0m\u001b[0m\n",
      "\u001b[1;32m~\\Anaconda3\\envs\\quantum\\lib\\site-packages\\qiskit\\providers\\ibmq\\job\\ibmqjob.py\u001b[0m in \u001b[0;36mresult\u001b[1;34m(self, timeout, wait, partial, refresh)\u001b[0m\n\u001b[0;32m    270\u001b[0m                 raise IBMQJobFailureError(\n\u001b[0;32m    271\u001b[0m                     \u001b[1;34m'Unable to retrieve result for job {}. Job has failed. '\u001b[0m\u001b[1;33m\u001b[0m\u001b[1;33m\u001b[0m\u001b[0m\n\u001b[1;32m--> 272\u001b[1;33m                     'Use job.error_message() to get more details.'.format(self.job_id()))\n\u001b[0m\u001b[0;32m    273\u001b[0m \u001b[1;33m\u001b[0m\u001b[0m\n\u001b[0;32m    274\u001b[0m         \u001b[1;32mreturn\u001b[0m \u001b[0mself\u001b[0m\u001b[1;33m.\u001b[0m\u001b[0m_retrieve_result\u001b[0m\u001b[1;33m(\u001b[0m\u001b[0mrefresh\u001b[0m\u001b[1;33m=\u001b[0m\u001b[0mrefresh\u001b[0m\u001b[1;33m)\u001b[0m\u001b[1;33m\u001b[0m\u001b[1;33m\u001b[0m\u001b[0m\n",
      "\u001b[1;31mIBMQJobFailureError\u001b[0m: 'Unable to retrieve result for job 5eb9b49171f87a001b9d481d. Job has failed. Use job.error_message() to get more details.'"
     ]
    }
   ],
   "source": [
    "predictions = []\n",
    "accuracy_ens = []\n",
    "brier_ens = []\n",
    "\n",
    "d=3\n",
    "\n",
    "for i in range(n_run):\n",
    "    n = range(len(X_train))\n",
    "    predictions = []\n",
    "    \n",
    "    for x_test, y_ts in zip(X_test, Y_vector_test):\n",
    "\n",
    "        X_data, Y_data = training_set(X_train, y_train, n=2**d)\n",
    "        x_test = normalize_custom(x_test)\n",
    "\n",
    "        qc = ensemble(X_data, Y_data, x_test, n_swap=1, d=d, balanced=True)\n",
    "        qc = transpile(qc, basis_gates = ['u1', 'u2', 'u3', 'cx'], optimization_level=3)\n",
    "        # r = exec_simulator(qc, n_shots=n_shots)\n",
    "\n",
    "        job = execute(qc, real_device, shots = n_shots)\n",
    "        results = job.result()\n",
    "        r = results.get_counts(qc)\n",
    "\n",
    "        predictions.append(retrieve_proba(r))\n",
    "        \n",
    "    acc, brier = evaluation_metrics(predictions, X_test, y_test)\n",
    "    accuracy_ens.append(acc)\n",
    "    brier_ens.append(brier)"
   ]
  },
  {
   "cell_type": "code",
   "execution_count": null,
   "metadata": {},
   "outputs": [],
   "source": [
    "ens_accuracy_mean = np.mean(accuracy_ens)\n",
    "ens_accuracy_std = np.std(accuracy_ens)\n",
    "\n",
    "ens_brier_mean = np.mean(brier_ens)\n",
    "ens_brier_std = np.std(brier_ens)\n",
    "\n",
    "\n",
    "all_acc_ens.append([ens_accuracy_mean, ens_accuracy_std])\n",
    "all_brier_ens.append([ens_brier_mean, ens_brier_std])"
   ]
  },
  {
   "cell_type": "code",
   "execution_count": null,
   "metadata": {},
   "outputs": [],
   "source": [
    "qc = ensemble(X_data, Y_data, x_test, n_swap=1, d=2, balanced=True)\n",
    "qc.draw(output='text', scale = .1)"
   ]
  },
  {
   "cell_type": "code",
   "execution_count": null,
   "metadata": {},
   "outputs": [],
   "source": [
    "IBMQ.load_account()\n",
    "provider = IBMQ.get_provider(hub='ibm-q')\n",
    "provider.backends()\n",
    "real_device = provider.get_backend('ibmq_rome')"
   ]
  },
  {
   "cell_type": "code",
   "execution_count": null,
   "metadata": {},
   "outputs": [],
   "source": [
    "accuracy = []\n",
    "\n",
    "for i in range(10):\n",
    "    #initialisation\n",
    "    n = range(len(X_train))\n",
    "    TP = 0\n",
    "    predictions = []\n",
    "    probabilities = []\n",
    "\n",
    "    for x_test, y_ts in zip(X_test, Y_vector_test):\n",
    "        ix = np.random.choice(n, 1)[0]\n",
    "        x_train = X_train[ix]\n",
    "        x_tr = normalize_custom(x_train)\n",
    "        y_tr = Y_vector_train[ix]\n",
    "        x_ts = normalize_custom(x_test)\n",
    "\n",
    "        qc = cos_classifier(x_tr, x_ts, y_tr)\n",
    "        # r = exec_simulator(qc, n_shots=n_shots)\n",
    "        \n",
    "        job = execute(qc, real_device, shots = n_shots)\n",
    "        results = job.result()\n",
    "        r = results.get_counts(qc)\n",
    "\n",
    "        if '0' not in r.keys():\n",
    "            r['0'] = 0\n",
    "        elif '1' not in r.keys():\n",
    "            r['1'] = 0\n",
    "\n",
    "        p0 = (r['0'] / (r['0'] + r['1']))\n",
    "        p0 = p0\n",
    "        p1 = 1 - p0\n",
    "\n",
    "        predictions.append(r)\n",
    "        probabilities.append(predict_cos(r))\n",
    "        probs = [p0, p1]\n",
    "\n",
    "\n",
    "        if predict_cos(r)[0] > predict_cos(r)[1]:\n",
    "            pred = [1, 0]\n",
    "            pred = np.asarray(pred)\n",
    "        else:\n",
    "            pred = [0, 1]\n",
    "            pred = np.asarray(pred)\n",
    "\n",
    "        if np.array_equal(pred, y_ts):\n",
    "            TP = TP + 1\n",
    "\n",
    "    accuracy.append(TP / len(X_test))\n",
    "\n",
    "print('AVG Accuracy multiple cosine classifier:', np.mean(accuracy))\n",
    "print('STD Accuracy multiple cosine classifier:', np.std(accuracy))\n",
    "\n",
    "print(qc)"
   ]
  },
  {
   "cell_type": "code",
   "execution_count": null,
   "metadata": {},
   "outputs": [],
   "source": [
    "IBMQ.load_account()\n",
    "provider = IBMQ.get_provider(hub='ibm-q')\n",
    "provider.backends()\n",
    "real_device = provider.get_backend('ibmq_16_melbourne')"
   ]
  },
  {
   "cell_type": "code",
   "execution_count": null,
   "metadata": {},
   "outputs": [],
   "source": [
    "predictions = []\n",
    "\n",
    "for x_test, y_ts in zip(X_test, Y_vector_test):\n",
    "\n",
    "    X_data, Y_data = training_set(X_train, y_train, n=2)\n",
    "    x_test = normalize_custom(x_test)\n",
    "\n",
    "    qc = ensemble(X_data, Y_data, x_test, n_swap=1, d=1, balanced=True)\n",
    "    \n",
    "    job = execute(qc, real_device, shots = n_shots)\n",
    "    results = job.result()\n",
    "    r = results.get_counts(qc)\n",
    "\n",
    "    predictions.append(retrieve_proba(r))\n",
    "    print(retrieve_proba(r), y_ts)"
   ]
  },
  {
   "cell_type": "code",
   "execution_count": null,
   "metadata": {},
   "outputs": [],
   "source": [
    "a, b = evaluation_metrics(predictions, X_test, y_test)\n",
    "print(qc)"
   ]
  }
 ],
 "metadata": {
  "kernelspec": {
   "display_name": "Python 3",
   "language": "python",
   "name": "python3"
  }
 },
 "nbformat": 4,
 "nbformat_minor": 2
}

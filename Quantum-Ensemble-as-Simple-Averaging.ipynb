{
 "cells": [
  {
   "cell_type": "markdown",
   "metadata": {},
   "source": [
    "# Quantum Ensemble as Simple Averaging (Section 4.3)\n",
    "### Experiments - Data in Table 1, Results Figure 4"
   ]
  },
  {
   "cell_type": "markdown",
   "metadata": {},
   "source": [
    "This notebook shows in details that the Quantum Ensemble algorithm is able to reproduce the average of multiple cosine classifiers with just one implementation of the quantum cosine classifier."
   ]
  },
  {
   "cell_type": "markdown",
   "metadata": {},
   "source": [
    "Import pakages and functions"
   ]
  },
  {
   "cell_type": "code",
   "execution_count": 50,
   "metadata": {
    "scrolled": true
   },
   "outputs": [],
   "source": [
    "%matplotlib inline\n",
    "\n",
    "import sys\n",
    "sys.path.insert(1, '../')\n",
    "\n",
    "from Utils import *\n",
    "from modeling import *"
   ]
  },
  {
   "cell_type": "markdown",
   "metadata": {},
   "source": [
    "#### Custom dataset and results of (classical) cosine classifier"
   ]
  },
  {
   "cell_type": "code",
   "execution_count": 51,
   "metadata": {},
   "outputs": [
    {
     "data": {
      "text/html": [
       "<div>\n",
       "<style scoped>\n",
       "    .dataframe tbody tr th:only-of-type {\n",
       "        vertical-align: middle;\n",
       "    }\n",
       "\n",
       "    .dataframe tbody tr th {\n",
       "        vertical-align: top;\n",
       "    }\n",
       "\n",
       "    .dataframe thead th {\n",
       "        text-align: right;\n",
       "    }\n",
       "</style>\n",
       "<table border=\"1\" class=\"dataframe\">\n",
       "  <thead>\n",
       "    <tr style=\"text-align: right;\">\n",
       "      <th></th>\n",
       "      <th>$X_1$</th>\n",
       "      <th>$X_2$</th>\n",
       "      <th>$y$</th>\n",
       "      <th>$d($$\\cdot$$, $ $\\tilde{x})$</th>\n",
       "      <th>$P($$\\tilde{y}$$=1$$|b$ $)$</th>\n",
       "    </tr>\n",
       "  </thead>\n",
       "  <tbody>\n",
       "    <tr>\n",
       "      <th>$x_1$</th>\n",
       "      <td>1</td>\n",
       "      <td>3</td>\n",
       "      <td>0</td>\n",
       "      <td>0.89</td>\n",
       "      <td>0.10</td>\n",
       "    </tr>\n",
       "    <tr>\n",
       "      <th>$x_2$</th>\n",
       "      <td>-2</td>\n",
       "      <td>2</td>\n",
       "      <td>1</td>\n",
       "      <td>0.00</td>\n",
       "      <td>0.50</td>\n",
       "    </tr>\n",
       "    <tr>\n",
       "      <th>$x_3$</th>\n",
       "      <td>3</td>\n",
       "      <td>0</td>\n",
       "      <td>0</td>\n",
       "      <td>0.71</td>\n",
       "      <td>0.25</td>\n",
       "    </tr>\n",
       "    <tr>\n",
       "      <th>$x_4$</th>\n",
       "      <td>3</td>\n",
       "      <td>1</td>\n",
       "      <td>1</td>\n",
       "      <td>0.89</td>\n",
       "      <td>0.90</td>\n",
       "    </tr>\n",
       "  </tbody>\n",
       "</table>\n",
       "</div>"
      ],
      "text/plain": [
       "       $X_1$  $X_2$  $y$  $d($$\\cdot$$, $ $\\tilde{x})$  \\\n",
       "$x_1$      1      3    0                          0.89   \n",
       "$x_2$     -2      2    1                          0.00   \n",
       "$x_3$      3      0    0                          0.71   \n",
       "$x_4$      3      1    1                          0.89   \n",
       "\n",
       "       $P($$\\tilde{y}$$=1$$|b$ $)$  \n",
       "$x_1$                         0.10  \n",
       "$x_2$                         0.50  \n",
       "$x_3$                         0.25  \n",
       "$x_4$                         0.90  "
      ]
     },
     "execution_count": 51,
     "metadata": {},
     "output_type": "execute_result"
    }
   ],
   "source": [
    "# Load data without normalisation\n",
    "X_data, Y_data, x_test = load_data_custom(normalize = False)\n",
    "\n",
    "# Create table as shown in the paper (Table 1)\n",
    "data = pd.DataFrame(X_data, columns = [r'$X_1$', r'$X_2$'])\n",
    "\n",
    "# Extract the value of the target variable as integer\n",
    "y = [c[1] for c in Y_data]\n",
    "\n",
    "# Compute the cosine distance between the training points and the test point\n",
    "dist = [cosine_similarity([x], [x_test])[0][0] for x in X_data]\n",
    "\n",
    "# Compute the value of the cosine distance classifier\n",
    "# of the four training points from the test point\n",
    "p = [cosine_classifier(x, x_test)[0][0] for x in X_data]\n",
    "\n",
    "# Extract the probabilities for the test point to be classified in class \n",
    "# 1 according to the (classical) cosine classifies Equation (16)\n",
    "probs = []\n",
    "for i,j in zip(y,p):\n",
    "    if i == 0:\n",
    "        probs.append(1-j)\n",
    "    else:\n",
    "        probs.append(j)\n",
    "\n",
    "# Create dataset as in paper (Table 1)\n",
    "probs = np.array(probs)\n",
    "\n",
    "# Rename columns\n",
    "data[r'$y$'] = np.array(y)\n",
    "data[r'$d($$\\cdot$$, $ $\\tilde{x})$'] = np.round(dist,2)\n",
    "data[r'$P($$\\tilde{y}$$=1$$|b$ $)$'] = probs\n",
    "\n",
    "# Rename rows\n",
    "data.index = [r'$x_1$', r'$x_2$', r'$x_3$', r'$x_4$',]\n",
    "\n",
    "#Visualize dataset\n",
    "data"
   ]
  },
  {
   "cell_type": "markdown",
   "metadata": {},
   "source": [
    "#### Quantum version of the cosine classifier"
   ]
  },
  {
   "cell_type": "code",
   "execution_count": 52,
   "metadata": {},
   "outputs": [],
   "source": [
    "# Load normalised data\n",
    "X_data, Y_data, x_test = load_data_custom()"
   ]
  },
  {
   "cell_type": "markdown",
   "metadata": {},
   "source": [
    "#### Visualisation of the quantum circuit"
   ]
  },
  {
   "cell_type": "code",
   "execution_count": 55,
   "metadata": {},
   "outputs": [
    {
     "data": {
      "image/png": "[encoded data removed]",
      "text/plain": [
       "<Figure size 1167.88x464.4 with 1 Axes>"
      ]
     },
     "execution_count": 55,
     "metadata": {},
     "output_type": "execute_result"
    }
   ],
   "source": [
    "quantum_cosine = quantum_cosine_classifier(X_data[0], x_test, Y_data[0] )\n",
    "quantum_cosine.draw(output='mpl', scale=1)"
   ]
  },
  {
   "cell_type": "markdown",
   "metadata": {},
   "source": [
    "Implementation of the four quantum cosine classifiers: for each training point in X_data we execute the quantum cosine classifier to compute the prediction of the target variable for the test point $\\tilde{x}$. Thus, given the measurements of the quantum circuts, we retrieve the probabilities with the function retrieve_proba."
   ]
  },
  {
   "cell_type": "code",
   "execution_count": 54,
   "metadata": {},
   "outputs": [],
   "source": [
    "qc1 = cos_classifier(X_data[0], x_test, Y_data[0] )\n",
    "r1 = exec_simulator(qc1)\n",
    "r1 = retrieve_proba(r1) \n",
    "\n",
    "qc2 = cos_classifier(X_data[1], x_test, Y_data[1])\n",
    "r2 = exec_simulator(qc2)\n",
    "r2 = retrieve_proba(r2)\n",
    "\n",
    "qc3 = cos_classifier(X_data[2], x_test, Y_data[2])\n",
    "r3 = exec_simulator(qc3)\n",
    "r3 = retrieve_proba(r3)\n",
    "\n",
    "qc4 = cos_classifier(X_data[3], x_test, Y_data[3])\n",
    "r4 = exec_simulator(qc4)\n",
    "r4 = retrieve_proba(r4)\n",
    "\n",
    "out = [r1, r2, r3, r4]"
   ]
  },
  {
   "cell_type": "code",
   "execution_count": 8,
   "metadata": {},
   "outputs": [],
   "source": [
    "qc1 = quantum_cosine_classifier(X_data[0], x_test, Y_data[0] )\n",
    "r1 = exec_simulator(qc1)\n",
    "r1 = retrieve_proba(r1) \n",
    "\n",
    "qc2 = quantum_cosine_classifier(X_data[1], x_test, Y_data[1])\n",
    "r2 = exec_simulator(qc2)\n",
    "r2 = retrieve_proba(r2)\n",
    "\n",
    "qc3 = quantum_cosine_classifier(X_data[2], x_test, Y_data[2])\n",
    "r3 = exec_simulator(qc3)\n",
    "r3 = retrieve_proba(r3)\n",
    "\n",
    "qc4 = quantum_cosine_classifier(X_data[3], x_test, Y_data[3])\n",
    "r4 = exec_simulator(qc4)\n",
    "r4 = retrieve_proba(r4)\n",
    "\n",
    "out = [r1, r2, r3, r4]"
   ]
  },
  {
   "cell_type": "markdown",
   "metadata": {},
   "source": [
    "We compute the average of the predictions provided by the four quantum cosine classifiers that correspond to the theoretical ensemble prediction, using simple averaging as aggregation strategy."
   ]
  },
  {
   "cell_type": "code",
   "execution_count": 9,
   "metadata": {},
   "outputs": [],
   "source": [
    "p0 = [p[0] for p in out]\n",
    "p1 = [p[1] for p in out]\n",
    "r_avg = [np.mean(p0), np.mean(p1)]\n",
    "# print(np.mean(p0), np.mean(p1))"
   ]
  },
  {
   "cell_type": "code",
   "execution_count": 33,
   "metadata": {},
   "outputs": [
    {
     "data": {
      "image/png": "[encoded data removed]",
      "text/plain": [
       "<Figure size 879.952x460.96 with 1 Axes>"
      ]
     },
     "execution_count": 33,
     "metadata": {},
     "output_type": "execute_result"
    }
   ],
   "source": [
    "qc = ensemble_fixed_U(X_data, Y_data, x_test)\n",
    "qc.draw(output='mpl', scale = .4)"
   ]
  },
  {
   "cell_type": "code",
   "execution_count": 47,
   "metadata": {},
   "outputs": [
    {
     "name": "stdout",
     "output_type": "stream",
     "text": [
      "[0.56298828125, 0.43701171875]\n"
     ]
    }
   ],
   "source": [
    "r = exec_simulator(qc, n_shots=8192)\n",
    "r_ens = retrieve_proba(r)\n",
    "print(r_ens)"
   ]
  },
  {
   "cell_type": "code",
   "execution_count": 48,
   "metadata": {},
   "outputs": [
    {
     "data": {
      "text/html": [
       "<div>\n",
       "<style scoped>\n",
       "    .dataframe tbody tr th:only-of-type {\n",
       "        vertical-align: middle;\n",
       "    }\n",
       "\n",
       "    .dataframe tbody tr th {\n",
       "        vertical-align: top;\n",
       "    }\n",
       "\n",
       "    .dataframe thead th {\n",
       "        text-align: right;\n",
       "    }\n",
       "</style>\n",
       "<table border=\"1\" class=\"dataframe\">\n",
       "  <thead>\n",
       "    <tr style=\"text-align: right;\">\n",
       "      <th></th>\n",
       "      <th>p0</th>\n",
       "      <th>p1</th>\n",
       "    </tr>\n",
       "  </thead>\n",
       "  <tbody>\n",
       "    <tr>\n",
       "      <th>qc1</th>\n",
       "      <td>0.899536</td>\n",
       "      <td>0.100464</td>\n",
       "    </tr>\n",
       "    <tr>\n",
       "      <th>qc2</th>\n",
       "      <td>0.501587</td>\n",
       "      <td>0.498413</td>\n",
       "    </tr>\n",
       "    <tr>\n",
       "      <th>qc3</th>\n",
       "      <td>0.758057</td>\n",
       "      <td>0.241943</td>\n",
       "    </tr>\n",
       "    <tr>\n",
       "      <th>qc4</th>\n",
       "      <td>0.099976</td>\n",
       "      <td>0.900024</td>\n",
       "    </tr>\n",
       "    <tr>\n",
       "      <th>AVG</th>\n",
       "      <td>0.564789</td>\n",
       "      <td>0.435211</td>\n",
       "    </tr>\n",
       "    <tr>\n",
       "      <th>Ensemble</th>\n",
       "      <td>0.562988</td>\n",
       "      <td>0.437012</td>\n",
       "    </tr>\n",
       "  </tbody>\n",
       "</table>\n",
       "</div>"
      ],
      "text/plain": [
       "                p0        p1\n",
       "qc1       0.899536  0.100464\n",
       "qc2       0.501587  0.498413\n",
       "qc3       0.758057  0.241943\n",
       "qc4       0.099976  0.900024\n",
       "AVG       0.564789  0.435211\n",
       "Ensemble  0.562988  0.437012"
      ]
     },
     "execution_count": 48,
     "metadata": {},
     "output_type": "execute_result"
    }
   ],
   "source": [
    "# collect the results\n",
    "output_simulator = [r1, r2, r3, r4, r_avg, r_ens]\n",
    "\n",
    "data_pred = pd.DataFrame(output_simulator, \n",
    "                         columns=['p0', 'p1'], index=['qc1','qc2','qc3','qc4','AVG','Ensemble'])\n",
    "data_pred\n",
    "# data_pred.to_csv('output/sim_results.csv', index=False)"
   ]
  },
  {
   "cell_type": "code",
   "execution_count": 49,
   "metadata": {},
   "outputs": [
    {
     "data": {
      "image/png": "[encoded data removed]",
      "text/plain": [
       "<Figure size 432x288 with 1 Axes>"
      ]
     },
     "metadata": {
      "needs_background": "light"
     },
     "output_type": "display_data"
    }
   ],
   "source": [
    "plot_cls(output_simulator, title= '', file='SIM_prediction')"
   ]
  },
  {
   "cell_type": "markdown",
   "metadata": {},
   "source": [
    "Conclusion: the probability provided by the quantum cosine classifier are pretty much the same to the classical cosine classifier. Furthermore the average of the four classifier is almost the same to the ensemble prediction where it is required only one execution of the cosine classifier"
   ]
  },
  {
   "cell_type": "markdown",
   "metadata": {},
   "source": [
    "##### In order to perform the same computation on real device it is necessary to load an IBMQ account and to use the function $\\text{run_real_device}$ instead of $\\text{exec_simulator}$"
   ]
  },
  {
   "cell_type": "code",
   "execution_count": null,
   "metadata": {},
   "outputs": [],
   "source": [
    "# Execution on real device\n",
    "IBMQ.load_account()\n",
    "provider = IBMQ.get_provider(hub='ibm-q')\n",
    "provider.backends()\n",
    "backend_16 = provider.get_backend('ibmq_16_melbourne')\n",
    "backend_5 = provider.get_backend('ibmq_rome')\n",
    "\n",
    "def run_real_device(qc, backend, shots=8192):\n",
    "    job = execute(qc, backend, shots=shots)\n",
    "    results = job.result()\n",
    "    r = results.get_counts(qc)\n",
    "    return r"
   ]
  }
 ],
 "metadata": {
  "kernelspec": {
   "display_name": "Python 3",
   "language": "python",
   "name": "python3"
  },
  "language_info": {
   "codemirror_mode": {
    "name": "ipython",
    "version": 3
   },
   "file_extension": ".py",
   "mimetype": "text/x-python",
   "name": "python",
   "nbconvert_exporter": "python",
   "pygments_lexer": "ipython3",
   "version": "3.6.9"
  }
 },
 "nbformat": 4,
 "nbformat_minor": 2
}

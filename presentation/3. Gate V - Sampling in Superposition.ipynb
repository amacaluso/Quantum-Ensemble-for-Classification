{
 "cells": [
  {
   "cell_type": "markdown",
   "metadata": {
    "slideshow": {
     "slide_type": "slide"
    }
   },
   "source": [
    "# Quantum Ensemble as Simple Averaging\n",
    "\n",
    "### Theory and Implementation \n",
    "\n",
    "##### (Fixed $U_{(i,j)}$ for independent quantum trajectories)"
   ]
  },
  {
   "cell_type": "markdown",
   "metadata": {
    "slideshow": {
     "slide_type": "skip"
    }
   },
   "source": [
    "$$\\newcommand{\\ket}[1]{\\left|{#1}\\right\\rangle}$$\n",
    "$$\\newcommand{\\bra}[1]{\\left\\langle{#1}\\right|}$$\n",
    "$$\\newcommand{\\braket}[1]{\\left\\langle{#1}\\right\\rangle}$$"
   ]
  },
  {
   "cell_type": "markdown",
   "metadata": {
    "slideshow": {
     "slide_type": "subslide"
    }
   },
   "source": [
    "+ Given a 2-qubits $control$ register $(d=2) \\implies $  ensemble of $B=2^2$ classifiers\n",
    "\n",
    "\n",
    "+ $data$ register: *qubit encoding strategy* $\\implies$  $N$ $2-$dimensional observations are encoded using $2 \\times N$ qubits\n",
    "\n",
    "\n",
    "$$\n",
    "\\begin{align}\n",
    "    \\text{data register: } \\underset{features}{\\big( \\overset{4}{\\underset{i=1}{\\otimes}} \\left| x_i \\right\\rangle \\big)}\\otimes  \\underset{ labels}{\\big( \\overset{4}{\\underset{i=1}{\\otimes}} \\left| y_i \\right\\rangle \\big)}\n",
    "\\end{align}\n",
    "$$\n",
    "\n",
    "+ **features**:\n",
    "\n",
    "$$\n",
    "\\begin{align}\n",
    "    \\left| x_i \\right\\rangle = x_{i,1}\\left| 0 \\right\\rangle +  x_{i,2}\\left| 1 \\right\\rangle\n",
    "\\end{align}\n",
    "$$\n",
    "\n",
    "+ **labels**: if $\\left| y_i \\right\\rangle=\\left| 0 \\right\\rangle$ the $i$-th observation belongs to the class $0$. Otherwise if $\\left| y_i \\right\\rangle=\\left| 1 \\right\\rangle$ the $i$-th observation belongs to the class $1$. "
   ]
  },
  {
   "cell_type": "markdown",
   "metadata": {
    "slideshow": {
     "slide_type": "subslide"
    }
   },
   "source": [
    "### (Step 1) State Preparation\n",
    "\n",
    "\\begin{align}\n",
    "    \\left|\\Phi_0\\right\\rangle &=\n",
    "    \\big( H^{\\otimes 2} \\otimes S_{(x,y)} \\big)\\ket{00} \\otimes \\ket{0}\\ket{0} \\nonumber \\\\ \n",
    "        & =\n",
    "   \\ket{c_1 c_2} \\otimes \\ket{x} \\ket{y} \\nonumber\\\\\n",
    "    & =\n",
    "    \\frac{1}{\\sqrt{2}}\\big(\\left|0\\right\\rangle+\\left|1\\right\\rangle\\big) \\otimes \\frac{1}{\\sqrt{2}}\\big(\\left|0\\right\\rangle+\\left|1\\right\\rangle\\big) \\otimes \\left|x_0,x_1,x_2,x_3\\right\\rangle \\left|y_0,y_1,y_2,y_3\\right\\rangle \\end{align}\n",
    "\n",
    "where $S_x$ is the routine which encodes in the amplitudes of a qubit a real vector $x$ and $H$ is the Hadamard transformation."
   ]
  },
  {
   "cell_type": "markdown",
   "metadata": {
    "slideshow": {
     "slide_type": "subslide"
    }
   },
   "source": [
    "### (Step 2) Sampling in Superposition\n",
    "\n",
    "As shown in the **Appendix A**, *Sampling in Superposition* step with $d=2$ leads to the following quantum state:\n",
    "\\begin{align}\n",
    "\\ket{\\Phi_{2}}\n",
    "=  \\frac{1}{2}\\Big[\n",
    " \\hspace{.2em} &\\ket{00} U_{(2,1)}U_{(1,1)}\\ket{x,y} + \\ket{01} U_{(2,1)}U_{(1,2)}\\ket{x,y} \n",
    "\\nonumber \\\\ + & \n",
    "\\ket{10} U_{(2,2)}U_{(1,1)}\\ket{x,y} + \\ket{11} U_{(2,2)}U_{(1,2)}\\ket{x,y} \n",
    "         \\Big]  \\nonumber \\\\\n",
    " & \\hspace{-2.75em} = \\frac{1}{\\sqrt{4}} \\sum_{b=1}^{4} \\ket{b} V_b\\ket{x,y}\n",
    "\\end{align}"
   ]
  },
  {
   "cell_type": "markdown",
   "metadata": {
    "slideshow": {
     "slide_type": "subslide"
    }
   },
   "source": [
    "In order to obtain independend quantum trajectories we provide the following definition for $U_{(i,j)}$:\n",
    "\\begin{align}\n",
    "U_{(1,1)} = \\text{swap}(x_0,x_2) \\times \\text{swap}(y_0,y_2) \\nonumber \\\\\n",
    "U_{(1,2)} = \\text{swap}(x_1,x_3) \\times \\text{swap}(y_1,y_3) \\nonumber \\\\\n",
    "U_{(2,1)} = \\mathbf{I} \\nonumber \\\\\n",
    "U_{(2,2)} = \\text{swap}(x_2,x_3) \\times \\text{swap}(y_2,y_3) \\nonumber \\\\\n",
    "\\end{align}\n",
    "\n",
    "where $ \\mathbf{I}$ is the identity matrix. Thus, the step of *Sampling in Superposition* leads to:"
   ]
  },
  {
   "cell_type": "markdown",
   "metadata": {
    "slideshow": {
     "slide_type": "fragment"
    }
   },
   "source": [
    "\\begin{align}\n",
    "    \\ket{\\Phi_2} = \\frac{1}{2}\\Big[ \n",
    "    & \\ket{11} \\ket{x_0, x_3, x_1, x_2}  \\ket{y_0, y_3, y_1, y_2} + \\ket{10} \\ket{x_2, x_1, x_3, x_0} \\ket{y_2, y_1, y_3, y_0} \\nonumber \\\\\n",
    "    + &\n",
    "    \\ket{01} \\ket{x_0, x_3, x_2, x_1} \\ket{y_0, y_3, y_2, y_1} +\n",
    "    \\ket{00} \\ket{x_2, x_1, x_0, x_3} \\ket{y_2, y_1, y_0, y_3}\n",
    "    \\Big]\n",
    "\\end{align}"
   ]
  },
  {
   "cell_type": "markdown",
   "metadata": {
    "slideshow": {
     "slide_type": "subslide"
    }
   },
   "source": [
    "Swap operations allows to entangle different observations (in terms of the indices of the qubits) to different state of the $control$ register. In particular, if considering the last qubit of the *features* and *labels* (sub-)registers, the above choice for $U_{(i,j)}$ guarantees that each quantum state of the control register is entangled with a different training observation. Using a compact representation:\n",
    "\n",
    "\\begin{align}\n",
    "     \\left|\\Phi_{2^{'}}\\right\\rangle = \\frac{1}{2}\\Big[\n",
    "    \\left|11\\right\\rangle \\left|x_2\\right\\rangle  \\left|y_2\\right\\rangle  \n",
    "    + \n",
    "    \\left|10\\right\\rangle\\left|x_0\\right\\rangle\\left|y_0\\right\\rangle \n",
    "    +\n",
    "    \\left|01\\right\\rangle\\left|x_1\\right\\rangle\\left|y_1\\right\\rangle \n",
    "    +\n",
    "    \\left|00\\right\\rangle\\left|x_3\\right\\rangle \\left|y_3\\right\\rangle \n",
    "    \\Big] =\n",
    "    \\frac{1}{\\sqrt{4}}\\sum_{i=0}^{3}\\left|i\\right\\rangle\\left|x_i,y_i\\right\\rangle\n",
    "\\end{align}\n",
    "\n",
    "**NB:** in this case the $i$-th basis state does not correspond to the integer representation of the binary state. "
   ]
  },
  {
   "cell_type": "markdown",
   "metadata": {
    "slideshow": {
     "slide_type": "slide"
    }
   },
   "source": [
    "## Implementation"
   ]
  },
  {
   "cell_type": "code",
   "execution_count": null,
   "metadata": {
    "slideshow": {
     "slide_type": "subslide"
    }
   },
   "outputs": [],
   "source": [
    "# Import pakages and functions\n",
    "import sys\n",
    "sys.path.insert(1, '../')\n",
    "\n",
    "from Utils import *\n",
    "from modeling import *\n",
    "\n",
    "# load the toy dataset\n",
    "X_data, Y_data, x_test = load_data_custom()\n",
    "\n",
    "# Generate the quantum circuit\n",
    "qc = ensemble_fixed_U(X_data, Y_data, x_test)"
   ]
  },
  {
   "cell_type": "code",
   "execution_count": null,
   "metadata": {
    "slideshow": {
     "slide_type": "subslide"
    }
   },
   "outputs": [],
   "source": [
    "# draw quantum circuit\n",
    "qc.draw(output='mpl', scale=.6,\n",
    "        style={'fontsize':15, 'dpi':200})"
   ]
  },
  {
   "cell_type": "code",
   "execution_count": null,
   "metadata": {
    "slideshow": {
     "slide_type": "subslide"
    }
   },
   "outputs": [],
   "source": [
    "# Load data without normalisation\n",
    "X_data, Y_data, x_test = load_data_custom(normalize = False)\n",
    "\n",
    "# Create table as shown in the paper (Table 1)\n",
    "data = pd.DataFrame(X_data, columns = [r'$X_1$', r'$X_2$'])\n",
    "\n",
    "# Extract the value of the target variable as integer\n",
    "y = [c[1] for c in Y_data]\n",
    "\n",
    "# Compute the cosine distance between the training points and the test point\n",
    "dist = [cosine_similarity([x], [x_test])[0][0] for x in X_data]\n",
    "\n",
    "# Compute the value of the cosine distance classifier\n",
    "# for the four training points from the test point\n",
    "p = [cosine_classifier(x, x_test)[0][0] for x in X_data]\n",
    "\n",
    "# Extract the probabilities for the test point to be classified in class \n",
    "# 1 according to the (classical) cosine classifies Equation (16)\n",
    "probs = []\n",
    "for i,j in zip(y,p):\n",
    "    if i == 0:\n",
    "        probs.append(1-j)\n",
    "    else:\n",
    "        probs.append(j)\n",
    "\n",
    "# Create dataset as in paper (Table 1)\n",
    "probs = np.array(probs)\n",
    "\n",
    "# Rename columns\n",
    "data[r'$y$'] = np.array(y)\n",
    "data['distance'] = np.round(dist,2)\n",
    "data['prediction'] = probs\n",
    "\n",
    "# Rename rows\n",
    "data.index = [r'$x_1$', r'$x_2$', r'$x_3$', r'$x_4$',]"
   ]
  },
  {
   "cell_type": "code",
   "execution_count": null,
   "metadata": {
    "slideshow": {
     "slide_type": "subslide"
    }
   },
   "outputs": [],
   "source": [
    "#Visualize dataset\n",
    "data"
   ]
  },
  {
   "cell_type": "code",
   "execution_count": null,
   "metadata": {
    "slideshow": {
     "slide_type": "fragment"
    }
   },
   "outputs": [],
   "source": [
    "print('x test:', x_test)"
   ]
  },
  {
   "cell_type": "markdown",
   "metadata": {
    "slideshow": {
     "slide_type": "subslide"
    }
   },
   "source": [
    "#### For each training point in *data* the quantum cosine classifier is executed to compute the prediction of the target variable for the test point $\\tilde{x}$. Thus, given the measurements of the quantum circuts, the target probabilities are retrieved using the function *retrieve_proba*"
   ]
  },
  {
   "cell_type": "code",
   "execution_count": null,
   "metadata": {
    "slideshow": {
     "slide_type": "fragment"
    }
   },
   "outputs": [],
   "source": [
    "# Load normalised data\n",
    "X_data, Y_data, x_test = load_data_custom()\n",
    "\n",
    "qc1 = quantum_cosine_classifier(X_data[0], x_test, Y_data[0] )\n",
    "r1 = exec_simulator(qc1)\n",
    "r1 = retrieve_proba(r1) \n",
    "\n",
    "qc2 = quantum_cosine_classifier(X_data[1], x_test, Y_data[1])\n",
    "r2 = exec_simulator(qc2)\n",
    "r2 = retrieve_proba(r2)\n",
    "\n",
    "qc3 = quantum_cosine_classifier(X_data[2], x_test, Y_data[2])\n",
    "r3 = exec_simulator(qc3)\n",
    "r3 = retrieve_proba(r3)\n",
    "\n",
    "qc4 = quantum_cosine_classifier(X_data[3], x_test, Y_data[3])\n",
    "r4 = exec_simulator(qc4)\n",
    "r4 = retrieve_proba(r4)\n",
    "\n",
    "out = [r1, r2, r3, r4]"
   ]
  },
  {
   "cell_type": "markdown",
   "metadata": {
    "slideshow": {
     "slide_type": "subslide"
    }
   },
   "source": [
    "We compute the average of predictions provided by the four quantum cosine classifiers that corresponds to the classical ensemble prediction:"
   ]
  },
  {
   "cell_type": "code",
   "execution_count": null,
   "metadata": {
    "slideshow": {
     "slide_type": "fragment"
    }
   },
   "outputs": [],
   "source": [
    "p0 = [p[0] for p in out]\n",
    "p1 = [p[1] for p in out]\n",
    "r_avg = [np.mean(p0), np.mean(p1)]\n",
    "print(np.mean(p0), np.mean(p1))"
   ]
  },
  {
   "cell_type": "code",
   "execution_count": null,
   "metadata": {
    "slideshow": {
     "slide_type": "fragment"
    }
   },
   "outputs": [],
   "source": [
    "r = exec_simulator(qc, n_shots=8192)\n",
    "r_ens = retrieve_proba(r)\n",
    "print(r_ens)"
   ]
  },
  {
   "cell_type": "code",
   "execution_count": null,
   "metadata": {
    "slideshow": {
     "slide_type": "subslide"
    }
   },
   "outputs": [],
   "source": [
    "# collect the results\n",
    "output_simulator = [r1, r2, r3, r4, r_avg, r_ens]\n",
    "\n",
    "plot_cls(output_simulator, title= '')"
   ]
  },
  {
   "cell_type": "markdown",
   "metadata": {
    "slideshow": {
     "slide_type": "subslide"
    }
   },
   "source": [
    "### Multiple Experiments\n",
    "\n",
    "In order to show that the result of quantum ensemble holds regardless of the data reported in *Table 1*, the same experiment is performed on $20$ randomly generated datasets, and the average of the quantum cosine classifiers and the quantum ensemble prediction are compared"
   ]
  },
  {
   "cell_type": "code",
   "execution_count": null,
   "metadata": {
    "slideshow": {
     "slide_type": "subslide"
    }
   },
   "outputs": [],
   "source": [
    "seed = 543\n",
    "\n",
    "n_shots = 8192\n",
    "N_runs = 20\n",
    "y_labels =[[0,1], [1,0]]\n",
    "\n",
    "\n",
    "p1_avg = [] # list of values considering classical ensemble\n",
    "p1_ens = [] # list of values considering quantum ensemble\n",
    "\n",
    "np.random.seed(seed)\n",
    "for run in np.arange(N_runs):\n",
    "    \n",
    "    # create dataset\n",
    "    x1 = [np.random.randint(1, 9), np.random.randint(1, 9)]\n",
    "    x2 = [np.random.randint(1, 9), np.random.randint(1, 9)]\n",
    "    x3 = [np.random.randint(1, 9), np.random.randint(1, 9)]\n",
    "    x4 = [np.random.randint(1, 9), np.random.randint(1, 9)]\n",
    "    \n",
    "    y1 = y_labels[np.random.randint(0, 2)]\n",
    "    y2 = y_labels[np.random.randint(0, 2)]\n",
    "    y3 = y_labels[np.random.randint(0, 2)]\n",
    "    y4 = y_labels[np.random.randint(0, 2)]\n",
    "    \n",
    "    Y_data = [y1, y2, y3, y4]  \n",
    "    X_data = [x1, x2, x3, x4]\n",
    "    X_data, Y_data, x_test = load_data_custom(X_data, Y_data, x_test = x_test)\n",
    "\n",
    "    x_test = [np.random.randint(1, 9), np.random.randint(1, 9)]\n",
    "\n",
    "    qc1 = quantum_cosine_classifier(X_data[0], x_test, Y_data[0] )\n",
    "    r1 = exec_simulator(qc1)\n",
    "    r1 = retrieve_proba(r1)\n",
    "\n",
    "    qc2 = quantum_cosine_classifier(X_data[1], x_test, Y_data[1])\n",
    "    r2 = exec_simulator(qc2)\n",
    "    r2 = retrieve_proba(r2)\n",
    "\n",
    "    qc3 = quantum_cosine_classifier(X_data[2], x_test, Y_data[2])\n",
    "    r3 = exec_simulator(qc3)\n",
    "    r3 = retrieve_proba(r3)\n",
    "\n",
    "    qc4 = quantum_cosine_classifier(X_data[3], x_test, Y_data[3])\n",
    "    r4 = exec_simulator(qc4)\n",
    "    r4 = retrieve_proba(r4)\n",
    "     \n",
    "    out = [r1, r2, r3, r4]\n",
    "\n",
    "    p0 = [p[0] for p in out]\n",
    "    p1 = [p[1] for p in out]\n",
    "    \n",
    "    # Computing classical ensemble average\n",
    "    r_avg = [np.mean(p0), np.mean(p1)]\n",
    "\n",
    "    # build quantum circuit\n",
    "    qc = ensemble_fixed_U(X_data, Y_data, x_test)\n",
    "    qc = transpile(qc, basis_gates = ['u1', 'u2', 'u3', 'cx'], optimization_level=3)\n",
    "\n",
    "    # Execute quantum ensemble\n",
    "    r = exec_simulator(qc, n_shots=n_shots)\n",
    "    r_ens = retrieve_proba(r)\n",
    "\n",
    "    out = [r1, r2, r3, r4, r_avg, r_ens]\n",
    "    \n",
    "    p1_avg.append(r_avg[1])\n",
    "    p1_ens.append(r_ens[1])"
   ]
  },
  {
   "cell_type": "code",
   "execution_count": null,
   "metadata": {
    "slideshow": {
     "slide_type": "fragment"
    }
   },
   "outputs": [],
   "source": [
    "avg_vs_ensemble(p1_avg, p1_ens)"
   ]
  },
  {
   "cell_type": "code",
   "execution_count": null,
   "metadata": {
    "slideshow": {
     "slide_type": "subslide"
    }
   },
   "outputs": [],
   "source": [
    "# Execution on real device\n",
    "IBMQ.load_account()\n",
    "provider = IBMQ.get_provider(hub='ibm-q')\n",
    "provider.backends()\n",
    "# backend_16 = provider.get_backend('ibmq_16_melbourne')\n",
    "# backend_5 = provider.get_backend('ibmq_rome')\n",
    "\n",
    "def run_real_device(qc, backend, shots=8192):\n",
    "    job = execute(qc, backend, shots=shots)\n",
    "    results = job.result()\n",
    "    r = results.get_counts(qc)\n",
    "    return r"
   ]
  }
 ],
 "metadata": {
  "celltoolbar": "Slideshow",
  "kernelspec": {
   "display_name": "Python 3",
   "language": "python",
   "name": "python3"
  },
  "language_info": {
   "codemirror_mode": {
    "name": "ipython",
    "version": 3
   },
   "file_extension": ".py",
   "mimetype": "text/x-python",
   "name": "python",
   "nbconvert_exporter": "python",
   "pygments_lexer": "ipython3",
   "version": "3.6.9"
  },
  "livereveal": {
   "scroll": true
  },
  "rise": {
   "theme": "serif"
  },
  "toc": {
   "base_numbering": 1,
   "nav_menu": {},
   "number_sections": false,
   "sideBar": true,
   "skip_h1_title": false,
   "title_cell": "Table of Contents",
   "title_sidebar": "Contents",
   "toc_cell": false,
   "toc_position": {},
   "toc_section_display": true,
   "toc_window_display": false
  }
 },
 "nbformat": 4,
 "nbformat_minor": 2
}

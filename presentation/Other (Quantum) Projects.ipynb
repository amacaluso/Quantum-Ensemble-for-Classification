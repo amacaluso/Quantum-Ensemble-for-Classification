{
 "cells": [
  {
   "cell_type": "markdown",
   "metadata": {
    "slideshow": {
     "slide_type": "slide"
    }
   },
   "source": [
    "# Other (Quantum) Projects"
   ]
  },
  {
   "cell_type": "markdown",
   "metadata": {
    "slideshow": {
     "slide_type": "slide"
    }
   },
   "source": [
    "## Quantum Single Layer Perceptron (qSLP)\n",
    "\n",
    "A. Macaluso, L.Clissa, S. Lodi, and C. Sartori. “**A Variational Algorithm for Quantum Neural Networks**”. *International Conference on Computational Science. Springer. 2020*\n",
    "         \n",
    "Github: [https://github.com/amacaluso/Quantum-Single-Layer-Perceptron](github.com/amacaluso/Quantum-Single-Layer-Perceptron)\n",
    "      \n",
    "- Potentially Enabling of Universal Approximation Property\n",
    "         \n",
    "- Quantum circuit as black box (like classical NN)\n",
    "         \n",
    "- Classical optimisation process"
   ]
  },
  {
   "cell_type": "markdown",
   "metadata": {
    "slideshow": {
     "slide_type": "subslide"
    }
   },
   "source": [
    "<img align=\"centre\" src=\"IMG/qSLP_circuit.JPG\" width=\"80%\"/>"
   ]
  },
  {
   "cell_type": "markdown",
   "metadata": {
    "slideshow": {
     "slide_type": "subslide"
    }
   },
   "source": [
    "# (Theoretical) Advantages and limitations\n",
    "\n",
    "+ Polylogarithimc number of parameters <span style=\"color:green\">(+)</span></p>\n",
    "\n",
    "+ Exponential scaling in the hidden layer enables the universal approximation  <span style=\"color:green\">(+)</span></p> \n",
    "\n",
    "+ Single execution of the activation function <span style=\"color:green\">(+)</span></p> \n",
    "\n",
    "<br></br>\n",
    "\n",
    "+ Activation function is required to be non-linear <span style=\"color:red\">(-)</span></p>\n",
    "+ Generalisation of the quantum SLP <span style=\"color:red\">(-)</span></p>"
   ]
  },
  {
   "cell_type": "markdown",
   "metadata": {
    "slideshow": {
     "slide_type": "subslide"
    }
   },
   "source": [
    "# Future Works\n",
    "\n",
    "+ Design a proper quantum activation function\n",
    "\n",
    "+ Generalise the circuit for the quantum SLP\n",
    "\n",
    "+ Experiments on (better) real device\n",
    "\n",
    "+ Recent developments: *GOTO, Takahiro et al.\"Universal Approximation Property of Quantum Feature Map\". arXiv preprint arXiv:2009.00298*"
   ]
  },
  {
   "cell_type": "markdown",
   "metadata": {
    "slideshow": {
     "slide_type": "slide"
    }
   },
   "source": [
    "# Beyond Linearity: Quantum Splines\n",
    "\n",
    "A. Macaluso, L.Clissa, S. Lodi, and C. Sartori. “**Quantum splines for non-linear approximations**”. *17th ACM International Conference on Computing Frontiers. 2020*\n",
    "        \n",
    "Github: [https://github.com/amacaluso/Quantum-Splines-for-Non-Linear-Approximations](**github.com/amacaluso/Quantum-Splines-for-Non-Linear-Approximations**)\n",
    "        \n",
    "        \n",
    "- Non-linear approximation via quantum splines (Qsplines)\n",
    "        \n",
    "- Experiments on some popular activation functions for Neural Networks\n",
    "\n",
    "- Theoretical comparison of HHL efficiency with classical alternatives\n",
    "\n",
    "$$\\newcommand{\\ket}[1]{\\left|{#1}\\right\\rangle}$$"
   ]
  },
  {
   "cell_type": "markdown",
   "metadata": {
    "slideshow": {
     "slide_type": "subslide"
    }
   },
   "source": [
    "## Quantum Splines Implementation\n",
    "\n",
    "+ First Step – Coefficient estimation via HHL\n",
    "\n",
    "\\begin{align}\n",
    "S_k \\ket{\\beta_k} = \\ket{\\tilde{y_k}} \\xrightarrow{HHL} \\ket{\\beta_k} \\simeq S_k^{-1} \\ket{\\tilde{y_k}}.\n",
    "\\end{align}\n",
    "\n",
    "+ Second Step – Function evaluation:\n",
    "\n",
    "\\begin{align}\n",
    "    \\ket{\\beta_k} \\ket{x_{i,k}} \\ket{0}  \\xrightarrow{swap-test} \\ket{e_1} \\ket{e_2} \\ket{f_{i,k}}.\n",
    "\\end{align}\n",
    "\n",
    "+ Third Step – Measurement\n",
    "\n",
    "\\begin{align}\n",
    "    \\ket{f_{i,k}} = \\sqrt{p_0}\\ket{0} + \\sqrt{p_1}\\ket{1}\n",
    "\\end{align}"
   ]
  },
  {
   "cell_type": "markdown",
   "metadata": {
    "slideshow": {
     "slide_type": "subslide"
    }
   },
   "source": [
    "<center><img src=\"IMG/qsplines_plots.JPG\" width=\"60%\"/></center>"
   ]
  },
  {
   "cell_type": "markdown",
   "metadata": {
    "slideshow": {
     "slide_type": "subslide"
    }
   },
   "source": [
    "<center><img src=\"IMG/qsplines_table.JPG\" width=\"60%\"/></center>"
   ]
  },
  {
   "cell_type": "markdown",
   "metadata": {
    "slideshow": {
     "slide_type": "subslide"
    }
   },
   "source": [
    "<center><img src=\"IMG/qspline_efficiency.JPG\" width=\"70%\"/></center>"
   ]
  },
  {
   "cell_type": "markdown",
   "metadata": {
    "slideshow": {
     "slide_type": "subslide"
    }
   },
   "source": [
    "# Advantages and Future works\n",
    "\n",
    "- Non-linearity achieved using a quantum algorithm\n",
    "\n",
    "- Computational Efficiency\n",
    "\n",
    "- Enabling the use of spline also for high-dimensional data\n",
    "        \n",
    "-  Leverage the efficiency of the HHL \n",
    "\n",
    "<br></br>\n",
    "\n",
    "- Improve HHL implementation and optimise full quantum approach\n",
    "\n",
    "- Embed the quantum spline in Quantum Neural Networks"
   ]
  },
  {
   "cell_type": "markdown",
   "metadata": {
    "slideshow": {
     "slide_type": "slide"
    }
   },
   "source": [
    "## Antonio Macaluso\n",
    "\n",
    "\n",
    "### PhD candidate in Computer Science and Engineering, University of Bologna, Italy\n",
    "<img align=\"right\" src=\"IMG/caricatura.png\" width=\"20%\"/>\n",
    "\n",
    "#### Education:\n",
    "\n",
    "+ Bsc and Msc in Statistics\n",
    "+ Master in Data Science\n",
    "+ PhD in Computer Science and Engineering (loading ...) \n",
    "   \n",
    "#### Work Experience:\n",
    "+ Data Scientist at Cineca, the largest supercomputing centre in Italy (3yr)\n",
    "+ Lecturer of several courses about Machine Learning and Data Science\n",
    "\n",
    "#### Research Experience:\n",
    "\n",
    "+ (Classical) Deep Learning\n",
    "+ Quantum Computing and Quantum Machine Learning\n",
    "\n",
    "<p style=\"text-align: center;\"><strong> My PhD thesis is focused on the development of novel Quantum Machine Learning algorithms! </strong></p>\n"
   ]
  },
  {
   "cell_type": "markdown",
   "metadata": {
    "slideshow": {
     "slide_type": "subslide"
    }
   },
   "source": [
    "# Additional Information\n",
    "\n",
    "Github: [github.com/amacaluso/Quantum-Ensemble-for-Classification](https://github.com/amacaluso/Quantum-Ensemble-for-Classification)\n",
    "\n",
    "Presentation: [nbviewer.jupyter.org/github/amacaluso/Quantum-Ensemble-for-Classification/tree/master/presentation/](https://nbviewer.jupyter.org/github/amacaluso/Quantum-Ensemble-for-Classification/tree/master/presentation/)\n",
    "\n",
    "\t\n",
    "GitHub: [https://github.com/amacaluso](https://github.com/amacaluso)\n",
    "\t\n",
    "Email: [antonio.macaluso2@unibo.it](antonio.macaluso2@unibo.it)\n",
    "\n",
    "Website: [www.unibo.it/sitoweb/antonio.macaluso2/en](https://www.unibo.it/sitoweb/antonio.macaluso2/en)\n",
    "\n",
    "LinkedIn: [www.linkedin.com/in/antonio-macaluso](https://www.linkedin.com/in/antonio-macaluso)\n",
    "\t\n",
    "<center>I recently became a qiskit advocate!</center>\n",
    "    \n",
    "<center><img src=\"IMG/download.jpg\" width=\"20%\" height=\"20%\"/></center>\n"
   ]
  }
 ],
 "metadata": {
  "celltoolbar": "Slideshow",
  "kernelspec": {
   "display_name": "Python 3",
   "language": "python",
   "name": "python3"
  },
  "language_info": {
   "codemirror_mode": {
    "name": "ipython",
    "version": 3
   },
   "file_extension": ".py",
   "mimetype": "text/x-python",
   "name": "python",
   "nbconvert_exporter": "python",
   "pygments_lexer": "ipython3",
   "version": "3.6.9"
  },
  "livereveal": {
   "scroll": true
  },
  "rise": {
   "theme": "serif"
  },
  "toc": {
   "base_numbering": 1,
   "nav_menu": {},
   "number_sections": false,
   "sideBar": true,
   "skip_h1_title": false,
   "title_cell": "Table of Contents",
   "title_sidebar": "Contents",
   "toc_cell": false,
   "toc_position": {},
   "toc_section_display": true,
   "toc_window_display": false
  }
 },
 "nbformat": 4,
 "nbformat_minor": 4
}

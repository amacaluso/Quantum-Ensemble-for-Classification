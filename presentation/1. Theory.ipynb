{
 "cells": [
  {
   "cell_type": "markdown",
   "metadata": {
    "slideshow": {
     "slide_type": "slide"
    }
   },
   "source": [
    "# Quantum Ensemble for Classification\n",
    "\n",
    "## Antonio Macaluso\n",
    "\n",
    "\n",
    "\n",
    "Department of Computer Science and Engineering\n",
    "University of Bologna, Italy\n",
    "\n",
    "\n",
    "[preprint arXiv:2007.01028](https://arxiv.org/abs/2007.01028)"
   ]
  },
  {
   "cell_type": "markdown",
   "metadata": {
    "slideshow": {
     "slide_type": "slide"
    }
   },
   "source": [
    "## Contribution\n",
    "\n",
    "* A novel quantum algorithm to perform  ensemble classification \n",
    "\n",
    "* Superposition and Entanglement to generate a large number of different models\n",
    "\n",
    "* Large ensembles feasible with relatively small circuits\n",
    "\n",
    "* Experiments using qiskit"
   ]
  },
  {
   "cell_type": "markdown",
   "metadata": {
    "slideshow": {
     "slide_type": "slide"
    }
   },
   "source": [
    "# Classical Ensemble Learning"
   ]
  },
  {
   "cell_type": "markdown",
   "metadata": {
    "slideshow": {
     "slide_type": "subslide"
    }
   },
   "source": [
    "## Supervised Machine Learning as Aggregator of Functions\n",
    "\n",
    "Standard formulation for supervised ML: \n",
    "\n",
    "\\begin{align}\n",
    "            y = f(x; \\Theta) +  \\epsilon.\n",
    "\\end{align}\n",
    "where $x \\in \\mathbb{R}^p$ and $y$ is the target variable\n",
    "\n",
    "Objectives: \n",
    "* Useful approximation $\\hat{f}(x; \\cdot)$ \n",
    "* Optimal set of parameters $\\Theta$\n",
    "\n",
    "Alternative formulation: &emsp; &emsp; &emsp; &emsp; $f(x;\\beta, \\theta) = \\sum_{i=1}^{B} \\beta_i g(x;\\theta_i)$\n",
    "\n",
    "where  $g(x; \\cdot)$ is the base model and $\\theta = \\{ \\theta_i\\}_{i=1, \\dots, B}$ and $\\beta = \\{ \\beta_i\\}_{i=1, \\dots, B}$"
   ]
  },
  {
   "cell_type": "markdown",
   "metadata": {
    "slideshow": {
     "slide_type": "subslide"
    }
   },
   "source": [
    "## Ensemble Learning (Bagging)\n",
    "\n",
    "+ $g(x, \\cdot)$ is a ML model (under/over-fitting)\n",
    "+ Fit the same model under different and independent training conditions \n",
    "+ Necessary and sufficient conditions: the base models **accurate** and **diverse**\n",
    "\n",
    "\n",
    "Ensemble prediction:\n",
    "\\begin{align}\n",
    "    f_{\\text{ens}}(x) = \\frac{1}{B}\\sum_{i=1}^B \\beta_i \\hspace{0.2em} g(x; \\theta_i)\n",
    "\\end{align}\n",
    "\n",
    "where $g(x;\\cdot)$ is the base model\n",
    "        \n",
    "Approaches: *Bagging, Boosting, Randomisation, Stacking*"
   ]
  },
  {
   "cell_type": "markdown",
   "metadata": {
    "slideshow": {
     "slide_type": "subslide"
    }
   },
   "source": [
    "## Example of Bagging: Random Forest\n",
    "\n",
    "Bagging averages the predictions over a collection of bootstrap samples \n",
    "\n",
    "Random Forest uses a decision tree as based model\n",
    "\n",
    "\\begin{align}\n",
    "            \\hat{f}^B_{\\text{rf}}(x) = \\frac{1}{B} \\sum_{i=1}^B  g(x; \\theta_i) \n",
    "            = \n",
    "            \\frac{1}{B} \\sum_{i=1}^B \\left[ \\sum_{m=1}^{M} c^{(i)}_{m} \\boldsymbol{I}_{\\left(x\\in R^{(i)}_m \\right)}\\right]\n",
    "\\end{align}\n",
    "\n",
    "$\\beta_i = \\frac{1}{B}$ for $i=1, \\dots, B$\n",
    "\n",
    "$\\theta_i$ characterises the $b$th tree in terms of split variables, cutpoints, terminal-node values \n",
    "\n",
    "<br></br>\n",
    "\n",
    "*Friedman Jerome, Trevor Hastie, and Robert Tibshirani. The elements of statistical learning. Vol. 1. No. 10. New York: Springer series in statistics, 2001*"
   ]
  },
  {
   "cell_type": "markdown",
   "metadata": {
    "slideshow": {
     "slide_type": "subslide"
    }
   },
   "source": [
    "## Time Complexity of Classical Ensemble (Bagging)\n",
    "Classical Ensemble scaling: \n",
    "\n",
    "\\begin{align*}\n",
    "            \\underbrace{\\mathcal{O}\\left(B \\times N^{a}p^{b}\\right)}_\\text{Training} + \\underbrace{\\mathcal{O}(Bp)}_\\text{Testing} \\qquad a, b \\geq 1,\n",
    "        \\end{align*}\n",
    "\n",
    "where $N$ is the number of training points and $p$ is the number of features\n",
    "\n",
    "\n",
    "- Linearity in $B$ (ensemble size)\n",
    "        \n",
    "- Multiplicative cost of the classifier"
   ]
  },
  {
   "cell_type": "markdown",
   "metadata": {
    "slideshow": {
     "slide_type": "skip"
    }
   },
   "source": [
    "$$\\newcommand{\\ket}[1]{\\left|{#1}\\right\\rangle}$$\n",
    "$$\\newcommand{\\bra}[1]{\\left\\langle{#1}\\right|}$$\n",
    "$$\\newcommand{\\braket}[1]{\\left\\langle{#1}\\right\\rangle}$$"
   ]
  },
  {
   "cell_type": "markdown",
   "metadata": {
    "slideshow": {
     "slide_type": "slide"
    }
   },
   "source": [
    "# Quantum Algorithm for Ensemble Learning"
   ]
  },
  {
   "cell_type": "markdown",
   "metadata": {
    "slideshow": {
     "slide_type": "subslide"
    }
   },
   "source": [
    "## Quantum Computing Properties\n",
    "Superposition \n",
    "+ $n$ qubits $\\xrightarrow{}$ $2^n$ states $\\implies$ $n+1$ qubits $\\xrightarrow{}$ $2^{n+1}$ states\n",
    "+ single model/prediction $\\rightarrow$ single quantum state\n",
    "\n",
    "Entanglement\n",
    "+ Each base model $g(x; \\cdot)$ is strictly associated to a single weight\n",
    "\n",
    "Interference\n",
    "+ Train and Test \"interact\" each other to compute test prediction"
   ]
  },
  {
   "cell_type": "markdown",
   "metadata": {
    "slideshow": {
     "slide_type": "subslide"
    }
   },
   "source": [
    "## Quantum Ensemble: requirements\n",
    "\n",
    "- Quantum gate for sampling: &emsp;  &emsp; &emsp; &emsp; &emsp; &emsp; &emsp; &emsp; &emsp; &emsp; $\\ket{x,y} \\xrightarrow{V_b}\\ket{x_b,y_b}$     \n",
    "\n",
    "- Quantum classifier $F$ (working via interference): &emsp;  $\\ket{x_b,y_b}\\ket{\\tilde{x}}\\ket{0}\\xrightarrow{F} \\ket{x_b,y_b}\\ket{\\tilde{x}}\\ket{f_b}$\n",
    "\n",
    "Input:\n",
    "- $d$-qubits $control$ register\n",
    "- $data$ register encodes the training set\n",
    "- $test$ register encodes the test set\n",
    "\n",
    "Output: the average of $B=2^d$ different predictions of the same classifier"
   ]
  },
  {
   "cell_type": "markdown",
   "metadata": {
    "slideshow": {
     "slide_type": "subslide"
    }
   },
   "source": [
    "## Quantum Ensemble using Bagging strategy\n",
    "\n",
    "+ **(Step 1) State Preparation**\n",
    "\n",
    "+ **(Step 2) Sampling in Superposition** \n",
    "\n",
    "+ **(Step 3) Learning via Interference**\n",
    "\n",
    "+ **(Step 4) Measurement**"
   ]
  },
  {
   "cell_type": "markdown",
   "metadata": {
    "slideshow": {
     "slide_type": "subslide"
    }
   },
   "source": [
    "## Step 1: State Preparation\n",
    " * The training set is encoded into the $data$ quantum register\n",
    " \n",
    " * The $control$ register is initialised into uniform superposition\n",
    " \n",
    "\\begin{align}\n",
    "            \\ket{\\Phi_0} & = \\big(W \\otimes S_{(x,y)}\\big)\\overset{d}{\\underset{j=1}{\\otimes}} \\ket{0} \\otimes \\ket{0} \\nonumber \\\\ \n",
    "  & = \\overset{d}{\\underset{j=1}{\\otimes}} \\left(\\frac{\\ket{0}+\\ket{1}}{\\sqrt{2}}\\right) \\otimes \\ket{x,y} =  \\frac{1}{\\sqrt{2^d}}\\sum_{b=1}^{2^d} \\ket{b} \\otimes \\ket{x,y},\n",
    "        \\end{align}\n",
    "        \n",
    "$S_{(x,y)}$ is the unitary that encodes data into a quantum state \n",
    "\n",
    "$W=H^{\\otimes d}$ is the Walsh-Hadamard gate"
   ]
  },
  {
   "cell_type": "markdown",
   "metadata": {
    "slideshow": {
     "slide_type": "subslide"
    }
   },
   "source": [
    "## Step 2: Sampling in Superposition\n",
    "\n",
    "$2^d$ different transformations (*quantum trajectories*) of the input in superposition\n",
    "\n",
    "Entanglement between $data$ and $control$ registers\n",
    "\\begin{align}\n",
    "        \\ket{\\Phi_{d}}\n",
    "        = & \\frac{1}{\\sqrt{2^d}} \\sum_{b = 1}^{2^{d}} \\ket{b} V_b\\ket{x,y} = \\frac{1}{\\sqrt{2^d}} \\sum_{b = 1}^{2^{d}} \\ket{b}\\ket{x_b,y_b}\n",
    "\\end{align}\n",
    "\n",
    "Each $V_b$ represents a single \"quantum trajectory\"\n",
    "\n",
    "\n",
    "\\begin{equation}\\label{eq:single_subsample}\n",
    "  \\ket{x,y} \\xrightarrow{V_{b}} \\ket{x_b, y_b} %\\text{where} \\quad U_{t_1}U_{t_2}\\dots U_{t_q} = V_t\n",
    "\\end{equation}\n",
    "\n",
    "\n",
    "$V_b$ transforms the original training set to obtain a random sub-sample of it\n"
   ]
  },
  {
   "cell_type": "markdown",
   "metadata": {
    "slideshow": {
     "slide_type": "subslide"
    }
   },
   "source": [
    "## Step 3: Learning via Interference\n",
    "\n",
    "The *test* register is initialised to encode the test set, considering also a set of qubits to store the final predictions ($target$ sub-register):\n",
    "\n",
    "\\begin{align}\n",
    "    (S_{\\tilde{x}} \\otimes \\mathbb{1}) \\ket{0}\\ket{0} =\\ket{\\tilde{x}}\\ket{0}\n",
    "\\end{align}\n",
    "\n",
    "The $data$ and $test$ registers interact via interference to compute the target variable:\n",
    "\n",
    "\\begin{align}\\label{eq:classification via interference}\n",
    "\\ket{\\Phi_{f}} & = \\Big(\\mathbb{1}^{\\otimes d} \\otimes F \\Big) \\ket{\\Phi_d} = (\\mathbb{1}^{\\otimes d} \\otimes F )\\Bigg[\\frac{1}{\\sqrt{2^d}}\\sum_{b=1}^{2^d} \\ket{b} \\ket{x_b, y_b}\\Bigg] \\otimes\n",
    "                        \\ket{\\tilde{x}}\n",
    "                        \\ket{0}  \\nonumber \\\\ \n",
    "                        & =  \\frac{1}{\\sqrt{2^d}}\\sum_{b=1}^{2^d} \\ket{b} \\ket{x_b, y_b} \\ket{\\tilde{x}}\\ket{f_b} \n",
    "            %CV_{t}\\ket{\\psi} = CV_{t}\\ket{x, y}\\ket{0} \\ket{x^{(\\text{test})}, 0} = C \\ket{x, y}\\ket{x_t, x_y} \\ket{x^{(\\text{test})}, 0} = \\ket{x, y}\\ket{x_t, x_t} \\ket{x^{(\\text{test})}, \\tilde{y}} %= \\ket{x, y, D_t, x^{(\\text{test})}, f(x^{(\\text{test})}|x_t,y_t)} \n",
    "        \\end{align}\n",
    "\n",
    "where $\\tilde{y} = f_{b}$ is computed through the quantum gate $F$\n",
    "\n",
    "A single execution of $F$ allows propagating the use of the classifier to all $2^d$ sub-samples"
   ]
  },
  {
   "cell_type": "markdown",
   "metadata": {
    "slideshow": {
     "slide_type": "subslide"
    }
   },
   "source": [
    "## Step 4: Measurement\n",
    "$\\newcommand{\\braket}[1]{\\left\\langle{#1}\\right\\rangle}$\n",
    "The expectation $measurement$ on the target qubit provides a sum of expectation values:\n",
    "\n",
    "\\begin{align}\n",
    "    \\left\\langle M \\right\\rangle & =  \\braket{\\Phi_f|\\mathbb{1}^{\\otimes d} \\otimes \\mathbb{1} \\otimes \\mathbb{1} \\otimes M|\\Phi_f} \\nonumber \\\\\n",
    "    & =  \n",
    "    \\frac{1}{2^d}\\sum_{b=1}^{2^d}\\braket{b|b} \\otimes  \\braket{(x_b,y_b)|(x_b,y_b)} \\otimes\\braket{\\tilde{x}|\\tilde{x}} \\otimes\\braket{f_b|M|f_b}  \\nonumber \\\\\n",
    "    & =  \\frac{1}{2^d}\\sum_{b=1}^{2^d}\\left\\langle M_b \\right\\rangle = \\frac{1}{B} \\sum_{b=1}^B \\hat{f}_b = \\hat{f}_{bag}(\\tilde{x}|x,y)\n",
    "\\end{align}\n",
    "E.g. \n",
    "\n",
    "$$f_{bag} = \\sqrt{a_0}\\ket{0}+\\sqrt{a_1}\\ket{1} $$"
   ]
  },
  {
   "cell_type": "markdown",
   "metadata": {
    "slideshow": {
     "slide_type": "slide"
    }
   },
   "source": [
    "# Quantum Circuit"
   ]
  },
  {
   "cell_type": "markdown",
   "metadata": {
    "slideshow": {
     "slide_type": "subslide"
    }
   },
   "source": [
    "## Quantum Circuit for Ensemble\n",
    "\n",
    "<br></br>\n",
    "\n",
    "<center><img src=\"IMG/circuit.JPG\" width=\"100%\" height=\"100%\"/></center>"
   ]
  },
  {
   "cell_type": "markdown",
   "metadata": {
    "slideshow": {
     "slide_type": "subslide"
    }
   },
   "source": [
    "The generic $i$-th step involves the following transformations:\n",
    "\n",
    "\\begin{align}\n",
    "        \\ket{\\Phi_{i,1}} = \\frac{1}{\\sqrt{2}}\\Big(\\ket{0}\\ket{x,y} + \\ket{1} U_{(i,1)}\\ket{x,y} \\Big)\n",
    "\\end{align}\n",
    "\n",
    "\n",
    "\\begin{align}\n",
    "    \\ket{\\Phi_{i,2}} = & ( X \\otimes \\mathbb{1}) \\ket{\\Phi_{i,1}}\n",
    "    = \\frac{1}{\\sqrt{2}}\\Big(\\ket{1}\\ket{x,y} + \\ket{0} U_{(i,1)}\\ket{x,y} \\Big)\n",
    "\\end{align}\n",
    "\n",
    "\n",
    "\\begin{align}\n",
    "    \\ket{\\Phi_{i}}= \\frac{1}{\\sqrt{2}}\\Big(\\ket{1}U_{(i,2)}\\ket{x,y} + \\ket{0} U_{(i,1)}\\ket{x,y} \\Big)\n",
    "    \\end{align}"
   ]
  },
  {
   "cell_type": "markdown",
   "metadata": {
    "slideshow": {
     "slide_type": "subslide"
    }
   },
   "source": [
    "## Sampling in superposition steps\n",
    "The output of the State preparation is the following: \n",
    "&emsp; &emsp; $\\ket{\\Phi_0} = \\overset{d}{\\underset{i=1}{\\otimes}} \\left(\\frac{\\ket{0}+\\ket{1}}{\\sqrt{2}}\\right) \\otimes \\ket{x,y}$"
   ]
  },
  {
   "cell_type": "markdown",
   "metadata": {
    "slideshow": {
     "slide_type": "fragment"
    }
   },
   "source": [
    "### Sampling in superposition steps ($1st$ step)\n",
    "\n",
    "\\begin{align}\n",
    "    \\ket{\\Phi_{1}} = \\overset{d-1}{\\underset{i=1}{\\otimes}} \\left(\\frac{\\ket{0}+\\ket{1}}{\\sqrt{2}}\\right) \\otimes \\frac{1}{\\sqrt{2}}\\Big(\\ket{1}U_{(1,2)}\\ket{x,y} + \\ket{0} U_{(1,1)}\\ket{x,y} \\Big)    \\end{align}"
   ]
  },
  {
   "cell_type": "markdown",
   "metadata": {
    "slideshow": {
     "slide_type": "subslide"
    }
   },
   "source": [
    "### Sampling in superposition steps ($2nd$ step)\n",
    "\n",
    "\\begin{align}\n",
    "    \\ket{\\Phi_{2}}\n",
    "            =  \\overset{d-2}{\\underset{i=1}{\\otimes}} \\left(\\frac{\\ket{0}+\\ket{1}}{\\sqrt{2}}\\right) \\otimes \\frac{1}{2}\\Big[\n",
    "             \\hspace{.2em} &\\ket{00} U_{(2,1)}U_{(1,1)}\\ket{x,y} +    \n",
    "            %\\nonumber \\\\ + & \n",
    "            \\ket{01} U_{(2,1)}U_{(1,2)}\\ket{x,y} +\n",
    "            \\nonumber \\\\ + & \n",
    "            \\ket{10} U_{(2,2)}U_{(1,1)}\\ket{x,y} +\n",
    "            %\\nonumber \\\\ + & \n",
    "            \\ket{11} U_{(2,2)}U_{(1,2)}\\ket{x,y}\n",
    "                     \\Big]  \\nonumber \\\\\n",
    "             \\hspace{-10.75em} = \\frac{1}{\\sqrt{4}} \\sum_{b=1}^{4} \\ket{b} V_b\\ket{x,y}\n",
    "        \\end{align}\n",
    "        \n",
    "where each $V_b$ is the product of $2$ unitaries $U_{(i,j)}$ for $j=1,2$ and $i=1,2$ "
   ]
  },
  {
   "cell_type": "markdown",
   "metadata": {
    "slideshow": {
     "slide_type": "subslide"
    }
   },
   "source": [
    "### Sampling in Superposition ($3rd$ step)\n",
    "\n",
    "\\begin{align}\n",
    "    \\ket{\\Phi_{3}}\n",
    "    =  \\overset{d-3}{\\underset{i=1}{\\otimes}} \\left(\\frac{\\ket{0}+\\ket{1}}{\\sqrt{2}}\\right) \\otimes \\frac{1}{\\sqrt{8}}\\Big[ \n",
    "    & \\ket{000} U_{(3,1)}U_{(2,1)}U_{(1,1)}\\ket{x,y} + \\ket{001}U_{(3,1)}U_{(2,1)}U_{(1,2)}\\ket{x,y}    \n",
    "    \\nonumber \\\\ + & \n",
    "     \\ket{010} U_{(3,1)}U_{(2,2)}U_{(1,1)}\\ket{x,y} + \\ket{011}U_{(3,1)}U_{(2,2)}U_{(1,2)}\\ket{x,y}    \n",
    "    \\nonumber \\\\ + & \n",
    "    \\ket{100} U_{(3,2)}U_{(2,1)}U_{(1,1)}\\ket{x,y} + \n",
    "    \\ket{101} U_{(3,2)}U_{(2,1)}U_{(1,2)}\\ket{x,y}    \n",
    "    \\nonumber \\\\ + & \n",
    "    \\ket{110} U_{(3,2)}U_{(2,2)}U_{(1,1)}\\ket{x,y} + \\ket{111}U_{(3,2)}U_{(2,2)}U_{(1,2)}\\ket{x,y}\n",
    "    \\Big] \\nonumber \\\\\n",
    " & \\hspace{-11.5em} = \\frac{1}{\\sqrt{2^3}} \\sum_{b=1}^{8} \\ket{b} V_b\\ket{x,y}\n",
    "\\end{align}\n",
    "\n",
    "where each $V_b$ is the product of $2$ unitaries $U_{(i,j)}$ for $j=1,2$ and $i=1,2,3$ \n"
   ]
  },
  {
   "cell_type": "markdown",
   "metadata": {
    "slideshow": {
     "slide_type": "subslide"
    }
   },
   "source": [
    "### Sampling in superposition after d steps:\n",
    "\n",
    "\n",
    "\\begin{align}\n",
    "        \\ket{\\Phi_{d}}\n",
    "        & = \\frac{1}{\\sqrt{2^d}} \\sum_{b = 1}^{2^{d}} \\ket{b} V_b\\ket{x,y} = \\frac{1}{\\sqrt{2^d}} \\sum_{b = 1}^{2^{d}} \\ket{b}\\ket{x_b,y_b}\n",
    "\\end{align}\n",
    "\n",
    "where each $V_b$ is the product of $d$ unitaries $U_{(i,j)}$ for $i=1, \\cdots, d$ and $j=1,2$.\n",
    "\n",
    "\n",
    "\n",
    "**$2^d$ different transformations** (*quantum trajectories*) of the input in superposition in only **$d$ steps**\n",
    "\n"
   ]
  },
  {
   "cell_type": "markdown",
   "metadata": {
    "slideshow": {
     "slide_type": "subslide"
    }
   },
   "source": [
    "## Time Complexity\n",
    "\n",
    "Classical Ensemble scaling: \n",
    "\n",
    "\\begin{align*}\n",
    "            \\underbrace{\\mathcal{O}\\left(B \\times N^{a}p^{b}\\right)}_\\text{Training} + \\underbrace{\\mathcal{O}(Bp)}_\\text{Testing} \\qquad a, b \\geq 1,\n",
    "\\end{align*}\n",
    "\n",
    "Quantum Ensemble scaling: \n",
    "       \n",
    "\\begin{align*}\n",
    "         \\mathcal{O}(\\underbrace{d \\times 2 cost({CU_{(i,j)}})}_\\text{Sampling in Sup.} + \\underbrace{cost(F)}_\\text{Learning} )\n",
    "          %\\Big) \n",
    "\\end{align*}\n",
    "\n",
    "$B =2^d$ is the ensemble size, $N$ is the number of obs., and $p$ is the number of features\n",
    "        \n",
    "Additive cost of the classifier (instead of multiplicative)"
   ]
  },
  {
   "cell_type": "markdown",
   "metadata": {
    "slideshow": {
     "slide_type": "subslide"
    }
   },
   "source": [
    "## Aggregation Strategy\n",
    "\n",
    "Majority voting vs Simple averaging\n",
    "\n",
    "\\begin{align}\n",
    "    f_{\\text{avg}}^{(i)}(x) = \\frac{1}{B}\\sum_{b=1}^B f_b^{(i)}(x),\n",
    "\\end{align}\n",
    "        \n",
    "$B$ is the ensemble size and $f_b^{(i)}(x)$ is the probability for $x$ to be classified in the $i$-th class provided by the $b$-th classifier\n",
    "\n",
    "Performance:\n",
    "\n",
    "\\begin{align}\\label{perf_ens}\n",
    "            E_{\\text{ens}} = \\frac{1+\\rho(B-1)}{B}E_{\\text{model}}\n",
    "\\end{align}\n",
    "        where $E_{\\text{model}}$ is the expected error of the single models and  $\\rho$ is the average correlation among their errors\n",
    " \n"
   ]
  },
  {
   "cell_type": "markdown",
   "metadata": {
    "slideshow": {
     "slide_type": "subslide"
    }
   },
   "source": [
    "## Theoretical Performance"
   ]
  },
  {
   "cell_type": "code",
   "execution_count": null,
   "metadata": {
    "slideshow": {
     "slide_type": "fragment"
    }
   },
   "outputs": [],
   "source": [
    "import sys\n",
    "sys.path.insert(1, '../')\n",
    "from Utils import *\n",
    "# parameters\n",
    "d = np.arange(6) # Number of control qubits\n",
    "B = 2**d # Number of models: ensemble size\n",
    "errs = np.array([0.1, 0.2, 0.3, 0.4]) # base model error\n",
    "ro = [0.00, 0.25, 0.5] # correlation amontg errors\n",
    "\n",
    "colors = sns.diverging_palette(220, 20, n=6)\n",
    "\n",
    "# create figure\n",
    "fig, ax = plt.subplots(1, figsize=(8,5))\n",
    "\n",
    "#for each possible ensemble size\n",
    "for i in np.arange(len(errs)):\n",
    "    err = errs[i]\n",
    "    color = colors[i]\n",
    "    mean = ((1+ro[1]*(B-1))/B)*err\n",
    "    lower = mean - ((1+ro[0]*(B-1))/B)*err\n",
    "    upper = ((1 + ro[2] * (B - 1)) / B) * err - mean\n",
    "    ax.plot(d, mean, lw=2, label = str(int(err*100))+'%', color=color)\n",
    "    ax.fill_between(d, mean + upper, mean - lower, facecolor=color, alpha=0.5)\n",
    "\n",
    "# title\n",
    "ax.set_title('Theoretical performance of Bagging Ensemble', size=14).set_position([.5, 1.05])\n",
    "# legend\n",
    "ax.legend(loc='upper right', title = '$E_{model}$', prop=dict(size=12))\n",
    "# label of x-axis\n",
    "ax.set_xlabel(r'Number of control qubits $(d=log_2B)$', size=14)\n",
    "## label of x-axis\n",
    "ax.set_ylabel('Prediction Error ($E_{ens}$)', size=14)\n",
    "# set grid\n",
    "ax.grid(alpha=.3)"
   ]
  },
  {
   "cell_type": "markdown",
   "metadata": {
    "slideshow": {
     "slide_type": "skip"
    }
   },
   "source": [
    "## Boosting and Randomisation\n",
    "\n",
    "Quantum Boosting:\n",
    "    \\begin{align} \\label{eq:quantum_boosting}\n",
    "            \\ket{\\Phi_{f}} \n",
    "            = \\frac{1}{\\sqrt{2^d}}\\sum_{b=1}^{2^d} \\alpha_b \\ket{b} \\ket{f_b}\n",
    "        \\end{align}\n",
    "        \n",
    "where the contribution of $f_b$ to the ensemble is weighted by $\\alpha_b$"
   ]
  },
  {
   "cell_type": "markdown",
   "metadata": {
    "slideshow": {
     "slide_type": "skip"
    }
   },
   "source": [
    "Quantum Randomisation:\n",
    "\n",
    "\\begin{align}\n",
    "    \\ket{\\Phi_{f}} \n",
    "    =\\frac{1}{\\sqrt{2^d}}\\sum_{b=1}^{2^d}\\ket{b}  G_b  \\ket{x,y}\\ket{\\tilde{x}}\\ket{0} = \\frac{1}{\\sqrt{2^d}}\\sum_{b=1}^{2^d} \\ket{b} \\ket{x,y}\\ket{\\tilde{x}}\\ket{f_b}\n",
    "\\end{align}\n",
    "\n",
    "where $G_b=V_b F$ is the quantum classifier\n",
    "\n"
   ]
  },
  {
   "cell_type": "markdown",
   "metadata": {
    "slideshow": {
     "slide_type": "subslide"
    }
   },
   "source": [
    "## (Theoretical) Advantages and Limitations\n",
    "\n",
    "\n",
    "+ <p>$2^d$ different transformations of the input in $d$ steps: exponential speed-up <span style=\"color:green\">(+)</span></p>\n",
    "\n",
    "+ Quantum parallelism allows propagation of $F$ to all quantum trajectories <span style=\"color:green\">(+)</span></p>\n",
    "         \n",
    "+ Independence from the encoding strategy chosen for data <span style=\"color:green\">(+)</span></p>\n",
    "         \n",
    "+ Measurement is limited to a subset of qubits <span style=\"color:green\">(+)</span></p> \n",
    "         \n",
    "<br></br>\n",
    "\n",
    "- Evaluation of the single functions implies exponential cost <span style=\"color:red\">(-)</span></p>\n",
    "         \n",
    "- Additional cost of state preparation <span style=\"color:red\">(-)</span></p>"
   ]
  }
 ],
 "metadata": {
  "celltoolbar": "Slideshow",
  "kernelspec": {
   "display_name": "Python 3",
   "language": "python",
   "name": "python3"
  },
  "language_info": {
   "codemirror_mode": {
    "name": "ipython",
    "version": 3
   },
   "file_extension": ".py",
   "mimetype": "text/x-python",
   "name": "python",
   "nbconvert_exporter": "python",
   "pygments_lexer": "ipython3",
   "version": "3.6.9"
  },
  "livereveal": {
   "scroll": true
  },
  "rise": {
   "theme": "serif"
  },
  "toc": {
   "base_numbering": 1,
   "nav_menu": {},
   "number_sections": false,
   "sideBar": true,
   "skip_h1_title": false,
   "title_cell": "Table of Contents",
   "title_sidebar": "Contents",
   "toc_cell": false,
   "toc_position": {
    "height": "calc(100% - 180px)",
    "left": "10px",
    "top": "150px",
    "width": "364px"
   },
   "toc_section_display": true,
   "toc_window_display": false
  }
 },
 "nbformat": 4,
 "nbformat_minor": 4
}

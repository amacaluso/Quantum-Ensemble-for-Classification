{
 "cells": [
  {
   "cell_type": "markdown",
   "metadata": {
    "slideshow": {
     "slide_type": "slide"
    }
   },
   "source": [
    "# Does the Quantum Ensemble outperforms the single Quantum Cosine Classifier?"
   ]
  },
  {
   "cell_type": "code",
   "execution_count": null,
   "metadata": {
    "scrolled": true,
    "slideshow": {
     "slide_type": "subslide"
    }
   },
   "outputs": [],
   "source": [
    "import sys\n",
    "sys.path.insert(1, '../')\n",
    "\n",
    "from Utils import *\n",
    "from modeling import *\n",
    "\n",
    "seed = 54321 \n",
    "n_shots = 8192\n",
    "\n",
    "# number of control qubits => 2^d is the ensemble size\n",
    "d=0\n",
    "\n",
    "# number of training point to classify a single test point\n",
    "n_train=1 \n",
    "\n",
    "# constant value on the diagonal covariance matrix\n",
    "std=.3 \n",
    "\n",
    "n = 200 # dataset size\n",
    "test_size = .10 # test size"
   ]
  },
  {
   "cell_type": "code",
   "execution_count": null,
   "metadata": {
    "slideshow": {
     "slide_type": "subslide"
    }
   },
   "outputs": [],
   "source": [
    "X, y = load_data(n=n, std=std, plot=True, save=False)\n",
    "\n",
    "# Preprocessing\n",
    "X_train, X_test, y_train, y_test = train_test_split(X, y, random_state=123, test_size=test_size)\n",
    "\n",
    "Y_vector_train = label_to_array(y_train)\n",
    "Y_vector_test = label_to_array(y_test)"
   ]
  },
  {
   "cell_type": "code",
   "execution_count": null,
   "metadata": {
    "slideshow": {
     "slide_type": "subslide"
    }
   },
   "outputs": [],
   "source": [
    "predictions = []\n",
    "\n",
    "np.random.seed(seed)\n",
    "for x_test, y_ts in zip(X_test, Y_vector_test):\n",
    "    ix = np.random.choice(int(n*(1-test_size)), 1)[0]\n",
    "    x_train = X_train[ix]\n",
    "    x_tr = normalize_custom(x_train)\n",
    "    y_tr = Y_vector_train[ix]\n",
    "    x_ts = normalize_custom(x_test)\n",
    "\n",
    "    qc = cos_classifier(x_tr, x_ts, y_tr)\n",
    "    r = exec_simulator(qc, n_shots=n_shots)\n",
    "\n",
    "    if '0' not in r.keys():\n",
    "        r['0'] = 0\n",
    "    elif '1' not in r.keys():\n",
    "        r['1'] = 0\n",
    "\n",
    "    predictions.append(retrieve_proba(r))\n",
    "\n",
    "a, b = evaluation_metrics(predictions, X_test, y_test, save=False)\n",
    "\n",
    "print('seed:', seed, '   Accuracy:', a, '   Brier score:', b)"
   ]
  },
  {
   "cell_type": "markdown",
   "metadata": {
    "slideshow": {
     "slide_type": "subslide"
    }
   },
   "source": [
    "## Load IBMQ account"
   ]
  },
  {
   "cell_type": "code",
   "execution_count": null,
   "metadata": {
    "slideshow": {
     "slide_type": "fragment"
    }
   },
   "outputs": [],
   "source": [
    "# IBMQ.load_account()\n",
    "# provider = IBMQ.get_provider(hub='ibm-q')\n",
    "# provider.backends()\n",
    "# backend = provider.get_backend('ibmq_qasm_simulator')"
   ]
  },
  {
   "cell_type": "code",
   "execution_count": null,
   "metadata": {
    "slideshow": {
     "slide_type": "subslide"
    }
   },
   "outputs": [],
   "source": [
    "np.random.seed(seed)\n",
    "n_swap = 1\n",
    "balanced = True\n",
    "\n",
    "def run_ensemble(d, n_train, seed, n_swap, balanced):    \n",
    "    accuracy = []; predictions = []\n",
    "\n",
    "    np.random.seed(seed)\n",
    "    for x_test, y_ts in zip(X_test, Y_vector_test):\n",
    "        X_data, Y_data = training_set(X_train, y_train, n=n_train, seed=seed)\n",
    "        x_test = normalize_custom(x_test)\n",
    "\n",
    "        qc = ensemble(X_data, Y_data, x_test, n_swap=n_swap, d=d, balanced=True)\n",
    "        qc = transpile(qc, basis_gates=['u1', 'u2', 'u3', 'cx'], optimization_level=1)\n",
    "\n",
    "        # job = execute(qc, backend, shots=n_shots)\n",
    "        # results = job.result()\n",
    "        # r = results.get_counts(qc)\n",
    "        r = exec_simulator(qc, n_shots=n_shots)\n",
    "\n",
    "        predictions.append(retrieve_proba(r))\n",
    "        # print(retrieve_proba(r), y_ts)\n",
    "\n",
    "    a, b = evaluation_metrics(predictions, X_test, y_test, save=False)\n",
    "    print('seed:', seed, '   std:', std, '   d:', d, '   Accuracy:', a, '   Brier score:', b)"
   ]
  },
  {
   "cell_type": "markdown",
   "metadata": {
    "slideshow": {
     "slide_type": "subslide"
    }
   },
   "source": [
    "## Running Ensemble"
   ]
  },
  {
   "cell_type": "code",
   "execution_count": null,
   "metadata": {
    "slideshow": {
     "slide_type": "fragment"
    }
   },
   "outputs": [],
   "source": [
    "vector_d = [1,2]\n",
    "vector_n = [2,4]\n",
    "\n",
    "for d, n_train in zip(vector_d, vector_n):\n",
    "    run_ensemble(d, n_train, seed, n_swap, balanced)"
   ]
  },
  {
   "cell_type": "markdown",
   "metadata": {
    "slideshow": {
     "slide_type": "slide"
    }
   },
   "source": [
    "# Results on the paper"
   ]
  },
  {
   "cell_type": "markdown",
   "metadata": {
    "slideshow": {
     "slide_type": "subslide"
    }
   },
   "source": [
    "<center><img src=\"IMG/results_ensemble.JPG\" width=\"80%\" height=\"80%\"/></center>"
   ]
  },
  {
   "cell_type": "markdown",
   "metadata": {
    "slideshow": {
     "slide_type": "subslide"
    }
   },
   "source": [
    "<center><img src=\"IMG/results_ensemble2.JPG\" width=\"80%\" height=\"80%\"/></center>"
   ]
  }
 ],
 "metadata": {
  "celltoolbar": "Slideshow",
  "kernelspec": {
   "display_name": "Python 3",
   "language": "python",
   "name": "python3"
  },
  "language_info": {
   "codemirror_mode": {
    "name": "ipython",
    "version": 3
   },
   "file_extension": ".py",
   "mimetype": "text/x-python",
   "name": "python",
   "nbconvert_exporter": "python",
   "pygments_lexer": "ipython3",
   "version": "3.6.9"
  },
  "livereveal": {
   "scroll": true
  },
  "rise": {
   "theme": "serif"
  },
  "toc": {
   "base_numbering": 1,
   "nav_menu": {},
   "number_sections": false,
   "sideBar": true,
   "skip_h1_title": false,
   "title_cell": "Table of Contents",
   "title_sidebar": "Contents",
   "toc_cell": false,
   "toc_position": {},
   "toc_section_display": true,
   "toc_window_display": false
  }
 },
 "nbformat": 4,
 "nbformat_minor": 2
}

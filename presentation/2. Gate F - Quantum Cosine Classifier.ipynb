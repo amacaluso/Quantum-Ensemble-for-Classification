{
 "cells": [
  {
   "cell_type": "markdown",
   "metadata": {
    "slideshow": {
     "slide_type": "slide"
    }
   },
   "source": [
    "# Gate F - Classification via Interference"
   ]
  },
  {
   "cell_type": "markdown",
   "metadata": {
    "slideshow": {
     "slide_type": "skip"
    }
   },
   "source": [
    "$$\\newcommand{\\ket}[1]{\\left|{#1}\\right\\rangle}$$\n",
    "$$\\newcommand{\\bra}[1]{\\left\\langle{#1}\\right|}$$\n",
    "$$\\newcommand{\\braket}[1]{\\left\\langle{#1}\\right\\rangle}$$"
   ]
  },
  {
   "cell_type": "markdown",
   "metadata": {
    "slideshow": {
     "slide_type": "subslide"
    }
   },
   "source": [
    "### (Step 3) Learning via interference\n",
    "The prediction for the test set has to be computed based on the following transformation:\n",
    "\n",
    "\\begin{align}\n",
    "    \\left|\\Phi_{f}\\right\\rangle \n",
    "                = & \\Big(\\mathbb{1}^{\\otimes 2} \\otimes F \\Big) \\left|\\Phi_{d}\\right\\rangle \\nonumber \\\\ \n",
    "                = & (\\mathbb{1}^{\\otimes d} \\otimes F )\\Bigg[\\frac{1}{\\sqrt{2^d}}\\sum_{b=1}^{2^d} \\left|b\\right\\rangle \\left|x_b, y_b\\right\\rangle\\Bigg] \\otimes \\left|x^{(test)}\\right\\rangle \\left|0\\right\\rangle  \\nonumber \\\\ \n",
    "                = & \\frac{1}{\\sqrt{2^d}}\\sum_{b=1}^{2^d} \\left|b\\right\\rangle \\left|x_b, y_b\\right\\rangle\\left|x^{(test)}\\right\\rangle \\left|\\hat{f}_b\\right\\rangle\n",
    "\\end{align}\n",
    "where $\\hat{f}_b$ represents the $b$-th prediction for $\\tilde{x}$ given the  $b$-th training set. "
   ]
  },
  {
   "cell_type": "markdown",
   "metadata": {
    "slideshow": {
     "slide_type": "subslide"
    }
   },
   "source": [
    "## Cosine Classifier\n",
    "\n",
    "Given a training point $(x_{b}, y_{b})$ at random, the probability of $y^{(\\text{test})}$ and $y_{b}$ being equal is a function of the similarity between $x^{(\\text{test})}$ and $x_{b}$.\n",
    "\n",
    "Predict a similar target class for similar input features\n",
    "\\begin{align}\\label{equation:cosine classifier}\n",
    "    Pr\\left(y^{(\\text{test})} = y_{b}\\right) = \\frac{1}{2}+\\frac{\\left[d\\left(x_{b}, x^{(\\text{test})}\\right)\\right]^2}{2}\n",
    "\\end{align}\n",
    "\n",
    "Final classification rule:\n",
    " \\begin{align} \\label{classification_rule}\n",
    "    y^{(\\text{test})} = \n",
    "    \\begin{cases} y_{b}, & \\mbox{if } Pr\\left(y^{(\\text{test})} = y_{b}\\right) > \\frac{1}{2} \\\\ 1- y_{b} \n",
    "                      & \\mbox{otherwise }  \n",
    "    \\end{cases}\n",
    "\\end{align}"
   ]
  },
  {
   "cell_type": "markdown",
   "metadata": {
    "slideshow": {
     "slide_type": "subslide"
    }
   },
   "source": [
    "## Cosine Classifier (II)\n",
    "\n",
    "+ the prediction depends on the squared cosine distance between the two vectors\n",
    "\n",
    "+ max dissimilarity occurs when training and test observations are orthogonal \n",
    "\n",
    "&emsp; &emsp; &emsp; &emsp; $\\rightarrow$ uniform probability distribution in the two classes for $y^{(test)}$\n",
    "\n",
    "+ the cosine classifier performs well only if training and test belongs to the same class"
   ]
  },
  {
   "cell_type": "markdown",
   "metadata": {
    "slideshow": {
     "slide_type": "subslide"
    }
   },
   "source": [
    "## Quantum Cosine Classifier\n",
    "\n",
    "The quantum circuit that implements the cosine classifier encodes data into three different registers: the training vector $x_b$, the training label $y_b$ and the test point $x^{(test)}$. One more qubit is used to store the prediction. \n",
    "\n",
    "The algorithm is made of three steps: **State Preparation**, **Swap test**, **Controlled-X**"
   ]
  },
  {
   "cell_type": "code",
   "execution_count": null,
   "metadata": {
    "slideshow": {
     "slide_type": "subslide"
    }
   },
   "outputs": [],
   "source": [
    "%matplotlib inline\n",
    "\n",
    "import sys\n",
    "sys.path.insert(1, '../')\n",
    "from Utils import *\n",
    "from modeling import *\n",
    "\n",
    "x_train = [random.uniform(-1, 1), random.uniform(0, 1)]\n",
    "x_train_norm = normalize_custom(x_train)\n",
    "x_test = [random.uniform(-1, 1), random.uniform(0, 1)]\n",
    "x_test_norm = normalize_custom(x_test)\n",
    "class0 = [1,0]\n",
    "\n",
    "qc = quantum_cosine_classifier(x_train_norm, x_test_norm, class0)\n",
    "qc.draw(output='mpl', scale=.7)"
   ]
  },
  {
   "cell_type": "markdown",
   "metadata": {
    "slideshow": {
     "slide_type": "subslide"
    }
   },
   "source": [
    "### Step 1: State Preparation\n",
    "\n",
    "Data are encoded into three different quantum registers. Since each set of data ($x$ and $y$) is stored separately, the state preparation routine can be performed independently for each qubit."
   ]
  },
  {
   "cell_type": "markdown",
   "metadata": {
    "slideshow": {
     "slide_type": "fragment"
    }
   },
   "source": [
    "$$ \\ket{\\Phi_1} = \\Big( S_{x_{b}} \\otimes S_{x^{(test)}} \\otimes S_{y_{b}} \\otimes  \\mathbb{1}  \\Big) \\ket{0} \\ket{0} \\ket{0} \\ket{0}  = \\ket{x_{b}} \\ket{x^{(test)}} \\ket{y_{b}} \\ket{0}\n",
    "$$\n",
    "\n",
    "where $S_{(x)}$ is the routine which encodes in the amplitudes of a qubit a $2$-dimensional real vector $x$."
   ]
  },
  {
   "cell_type": "markdown",
   "metadata": {
    "slideshow": {
     "slide_type": "subslide"
    }
   },
   "source": [
    "### Step 2: Execution of the swap test\n",
    "\n",
    "In the second step, the swap-test transforms the amplitudes of the qubit $y^{(test)}$ as a function of the squared cosine distance:"
   ]
  },
  {
   "cell_type": "markdown",
   "metadata": {
    "slideshow": {
     "slide_type": "fragment"
    }
   },
   "source": [
    "\\begin{align}\n",
    "\\ket{\\Phi_2} & = \n",
    "\\big(\\mathbb{1} \\otimes \\mathbb{1} \\otimes \\mathbb{1} \\otimes H\\big)\n",
    "\\big(\\text{cswap} \\otimes \\mathbb{1} \\otimes C \\big) \n",
    "\\big(\\mathbb{1} \\otimes \\mathbb{1} \\otimes \\mathbb{1} \\otimes H\\big) \n",
    "\\ket{x_{b}} \\ket{x^{(test)}} \\ket{y_{b}} \\ket{0} \\nonumber \\\\ \n",
    "   & = \\frac{1}{2}\n",
    "   \\Big(\n",
    "   \\big( \\ket{x_{b}} \\ket{x^{(test)}} + \\ket{x^{(test)}} \\ket{x_{b}} \\big)\\ket{y_{b}} \\ket{0} + \n",
    "  \\big(\\ket{x_{b}} \\ket{x^{(test)}} - \\ket{x^{(test)}} \\ket{x_{b}} \\big)\\ket{y_{b}} \\ket{1} \\Big)\n",
    "\\end{align}"
   ]
  },
  {
   "cell_type": "markdown",
   "metadata": {
    "slideshow": {
     "slide_type": "fragment"
    }
   },
   "source": [
    "where $H$ is the Hadamard gate, cswap is the controlled-swap operation which uses the fourth qubit (position of gate *C*) as control  qubit to swap $\\ket{x_{b}}$ and $\\ket{x^{(test)}}$.\n",
    "After the execution of the swap test the probability to redout the basis state $\\ket{0}$, that is the probability for the *test* observation to be classified in class $0$ is:\n",
    "\\begin{align}\n",
    "    P(y^{(test)} = \\left|0\\right\\rangle) = \n",
    "    \\frac{1}{2}+\\frac{|\\langle x_{b}|x^{(test)} \\rangle|^2}{2}\n",
    "\\end{align}"
   ]
  },
  {
   "cell_type": "markdown",
   "metadata": {
    "slideshow": {
     "slide_type": "subslide"
    }
   },
   "source": [
    "### Step 3: Controlled Pauli-*X* gate\n",
    "\n",
    "The third step consists in applying a controlled Pauli-$X$ rotation using the control qubit that encodes the label of the training vector. This implies that $y^{(test)}$ is left untouched if  $x_{b}$ belongs to the class $0$. Otherwise,\n",
    "the amplitudes of the $y^{(test)}$ qubit are exchanged,\n",
    "and the probability $P(y^{(test)} = 1)$ is higher as the similarity between the two vectors increases.\n",
    "\n",
    "$$\n",
    "\\left|\\Phi_3\\right\\rangle = \\big(\\mathbb{1} \\otimes \\mathbb{1} \\otimes \\text{C-X} \\big) \\left|\\Phi_2\\right\\rangle\n",
    "$$\n",
    "\n",
    "Thus, the probability amplitudes of the two basis states of $y^{(test)}$ lead to a classification rule that is equivalent to the classic cosine classifier."
   ]
  },
  {
   "cell_type": "markdown",
   "metadata": {
    "slideshow": {
     "slide_type": "subslide"
    }
   },
   "source": [
    "## Behaviour of Quantum Cosine Classifier\n",
    "\n",
    "To study the behaviour of the quantum cosine classifier, $1000$ random datasets are generated. Each dataset is made  of a training point $(x_{b}, y_{b})$ and a test point $x^{(test)}$"
   ]
  },
  {
   "cell_type": "code",
   "execution_count": null,
   "metadata": {
    "slideshow": {
     "slide_type": "subslide"
    }
   },
   "outputs": [],
   "source": [
    "n_shots = 100 # n° of shots for the quantum circuit\n",
    "n=1000 # n° of datasets\n",
    "\n",
    "x = [] # vector that stores classical cosine prediction\n",
    "x_err = [] # cosine distance between vectors\n",
    "\n",
    "P0 = [] # list of values if the training obs belgons to class 1\n",
    "P1 = [] # list of values if the training obs belgons to class 1\n",
    "\n",
    "for i in np.arange(n):\n",
    "    '''Random generated dataset'''\n",
    "    x_train = [random.uniform(-1, 1), random.uniform(0, 1)]\n",
    "    x_train_norm = normalize_custom(x_train)\n",
    "    x_test = [random.uniform(-1, 1), random.uniform(0, 1)]\n",
    "    x_test_norm = normalize_custom(x_test)\n",
    "\n",
    "    '''Compute cosine distance and append it to x'''\n",
    "    d_cos = cosine_similarity([x_train], [x_test])[0][0]\n",
    "    x.append(d_cos)\n",
    "\n",
    "    '''If x_train belongs to class 0'''\n",
    "    qc = quantum_cosine_classifier(x_train_norm, x_test_norm, [1,0])\n",
    "    r = exec_simulator(qc, n_shots)\n",
    "    P_q = r['0']/n_shots\n",
    "    P0.append(P_q)\n",
    "    d_cos_err = np.sqrt(2*P_q-1)\n",
    "    x_err.append( d_cos_err )\n",
    "\n",
    "\n",
    "P0 = np.array(P0)\n",
    "x = np.array(x)\n",
    "x_err = np.array(x_err)\n",
    "\n",
    "order = x.argsort()\n",
    "\n",
    "x = x[order[::-1]]\n",
    "P0 = P0[order[::-1]]\n",
    "x_err = x_err[order[::-1]]\n",
    "\n",
    "err = [ abs(x1 - x2) for (x1, x2) in zip(abs(x), x_err)]\n",
    "err = np.array(err)\n",
    "P1 = 1-P0"
   ]
  },
  {
   "cell_type": "code",
   "execution_count": null,
   "metadata": {
    "slideshow": {
     "slide_type": "subslide"
    }
   },
   "outputs": [],
   "source": [
    "quantum_cos_random_data(x, P0, P1, err)"
   ]
  }
 ],
 "metadata": {
  "celltoolbar": "Slideshow",
  "kernelspec": {
   "display_name": "Python 3",
   "language": "python",
   "name": "python3"
  },
  "language_info": {
   "codemirror_mode": {
    "name": "ipython",
    "version": 3
   },
   "file_extension": ".py",
   "mimetype": "text/x-python",
   "name": "python",
   "nbconvert_exporter": "python",
   "pygments_lexer": "ipython3",
   "version": "3.6.9"
  },
  "livereveal": {
   "scroll": true
  },
  "rise": {
   "theme": "serif"
  },
  "toc": {
   "base_numbering": 1,
   "nav_menu": {},
   "number_sections": false,
   "sideBar": true,
   "skip_h1_title": false,
   "title_cell": "Table of Contents",
   "title_sidebar": "Contents",
   "toc_cell": false,
   "toc_position": {},
   "toc_section_display": true,
   "toc_window_display": false
  }
 },
 "nbformat": 4,
 "nbformat_minor": 2
}
